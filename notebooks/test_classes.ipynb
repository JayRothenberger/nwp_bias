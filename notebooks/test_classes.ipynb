{
 "cells": [
  {
   "cell_type": "code",
   "execution_count": null,
   "metadata": {},
   "outputs": [],
   "source": [
    "%load_ext autoreload\n",
    "%autoreload 2\n",
    "import sys\n",
    "# instead of creating a package using setup.py or building from a docker/singularity file,\n",
    "# import the sister directory of src code to be called on in notebook.\n",
    "# This keeps the notebook free from code to only hold visualizations and is easier to test\n",
    "# It also helps keep the state of variables clean such that cells aren't run out of order with a mysterious state\n",
    "sys.path.append(\"..\")"
   ]
  },
  {
   "cell_type": "code",
   "execution_count": null,
   "metadata": {},
   "outputs": [],
   "source": [
    "from src import most_recent_mesonet_data\n",
    "from src import most_recent_mesonet_time\n",
    "from src import extract_lons_lats\n",
    "from src import get_landtype\n",
    "from src import landtype_describe\n",
    "from src.plotting_scripts import landtype\n",
    "from src import landtype_buffer\n",
    "from src import gpd_extract_lons_lats\n",
    "from src import elevation_data\n",
    "import pandas as pd \n",
    "import cartopy.crs as crs\n",
    "import matplotlib.pyplot as plt\n",
    "import cartopy.feature as cfeature\n",
    "import geopandas as gpd"
   ]
  },
  {
   "cell_type": "code",
   "execution_count": null,
   "metadata": {},
   "outputs": [],
   "source": [
    "# This will return the most recent data avail on mesonet \n",
    "# this is my file path\n",
    "mesonet_data_path = '/home/aevans/nysm/archive/nysm/netcdf/proc'"
   ]
  },
  {
   "cell_type": "code",
   "execution_count": null,
   "metadata": {},
   "outputs": [],
   "source": [
    "# create a dataframe of mesonet data\n",
    "mesonet_df = most_recent_mesonet_data.current_time_mesonet_df(mesonet_data_path)"
   ]
  },
  {
   "cell_type": "code",
   "execution_count": null,
   "metadata": {},
   "outputs": [],
   "source": [
    "# create a dataframe of mesonet data with only values of data and centered at single datetime\n",
    "mesonet_single_datetime_df = most_recent_mesonet_time.most_recent_time(mesonet_df, mesonet_data_path)"
   ]
  },
  {
   "cell_type": "code",
   "execution_count": null,
   "metadata": {},
   "outputs": [],
   "source": [
    "# get a list of tuples for longitude, latitude of mesonet sites\n",
    "mesonet_lon_lat_list = extract_lons_lats.extract_lons_lats(mesonet_single_datetime_df)"
   ]
  },
  {
   "cell_type": "code",
   "execution_count": null,
   "metadata": {},
   "outputs": [],
   "source": [
    "# get the landtype data for each mesonet site \n",
    "nlcd_df = get_landtype.get_landtype(mesonet_lon_lat_list)"
   ]
  },
  {
   "cell_type": "code",
   "execution_count": null,
   "metadata": {},
   "outputs": [],
   "source": [
    "# description of NLCD data for the NYSM \n",
    "landtype_describe.landtype_describe(nlcd_df)"
   ]
  },
  {
   "cell_type": "code",
   "execution_count": null,
   "metadata": {},
   "outputs": [],
   "source": [
    "# plot the landtypes\n",
    "landtype.landtype(nlcd_df)"
   ]
  },
  {
   "cell_type": "code",
   "execution_count": null,
   "metadata": {},
   "outputs": [],
   "source": [
    "# use buffer to extract points around sites\n",
    "get_coords = landtype_buffer.landtype_buffer(nlcd_df, 30, 0)"
   ]
  },
  {
   "cell_type": "code",
   "execution_count": null,
   "metadata": {},
   "outputs": [],
   "source": [
    "# get tuple list from geopandas list\n",
    "lon_lat_list = gpd_extract_lons_lats.gpd_extract_lons_lats(get_coords)"
   ]
  },
  {
   "cell_type": "code",
   "execution_count": null,
   "metadata": {},
   "outputs": [],
   "source": [
    "len(lon_lat_list)"
   ]
  },
  {
   "cell_type": "code",
   "execution_count": null,
   "metadata": {},
   "outputs": [],
   "source": [
    "# get landtype data from buffer\n",
    "# 30 km \n",
    "buffer_df = get_landtype.get_landtype(lon_lat_list)"
   ]
  },
  {
   "cell_type": "code",
   "execution_count": null,
   "metadata": {},
   "outputs": [],
   "source": [
    "# 20 km\n",
    "# use buffer to extract points around sites\n",
    "get_coords1 = landtype_buffer.landtype_buffer(nlcd_df, 10000, 0)\n",
    "# get tuple list from geopandas list\n",
    "lon_lat_list1 = gpd_extract_lons_lats.gpd_extract_lons_lats(get_coords1)\n",
    "# get landtype data from buffer\n",
    "buffer_df1 = get_landtype.get_landtype(lon_lat_list1)"
   ]
  },
  {
   "cell_type": "code",
   "execution_count": null,
   "metadata": {},
   "outputs": [],
   "source": [
    "# 10 km\n",
    "# use buffer to extract points around sites\n",
    "get_coords2 = landtype_buffer.landtype_buffer(nlcd_df, 5000, 0)\n",
    "# get tuple list from geopandas list\n",
    "lon_lat_list2 = gpd_extract_lons_lats.gpd_extract_lons_lats(get_coords2)\n",
    "# get landtype data from buffer\n",
    "buffer_df2 = get_landtype.get_landtype(lon_lat_list2)"
   ]
  },
  {
   "cell_type": "code",
   "execution_count": null,
   "metadata": {},
   "outputs": [],
   "source": [
    "# plot buffer \n",
    "landtype.landtype(buffer_df)"
   ]
  },
  {
   "cell_type": "code",
   "execution_count": null,
   "metadata": {},
   "outputs": [],
   "source": [
    "buffer_df1_1 = buffer_df1.dropna(subset=['color'])\n",
    "landtype.landtype(buffer_df1_1)"
   ]
  },
  {
   "cell_type": "code",
   "execution_count": null,
   "metadata": {},
   "outputs": [],
   "source": [
    "landtype.landtype(buffer_df2)"
   ]
  },
  {
   "cell_type": "code",
   "execution_count": null,
   "metadata": {},
   "outputs": [],
   "source": [
    "# describe buffer stats\n",
    "landtype_describe.landtype_describe(buffer_df)"
   ]
  },
  {
   "cell_type": "code",
   "execution_count": null,
   "metadata": {},
   "outputs": [],
   "source": [
    "# describe buffer stats\n",
    "landtype_describe.landtype_describe(buffer_df1)"
   ]
  },
  {
   "cell_type": "code",
   "execution_count": null,
   "metadata": {},
   "outputs": [],
   "source": [
    "# describe buffer stats\n",
    "landtype_describe.landtype_describe(buffer_df2)"
   ]
  },
  {
   "cell_type": "code",
   "execution_count": null,
   "metadata": {},
   "outputs": [],
   "source": [
    "# elevation stats of buffer\n",
    "elevation_data.elevation_data(lon_lat_list)"
   ]
  },
  {
   "cell_type": "code",
   "execution_count": null,
   "metadata": {},
   "outputs": [],
   "source": [
    "elevation_data.elevation_data(lon_lat_list1)"
   ]
  },
  {
   "cell_type": "code",
   "execution_count": null,
   "metadata": {},
   "outputs": [],
   "source": [
    "elevation_data.elevation_data(lon_lat_list2)"
   ]
  }
 ],
 "metadata": {
  "kernelspec": {
   "display_name": "Python 3 (ipykernel)",
   "language": "python",
   "name": "python3"
  },
  "vscode": {
   "interpreter": {
    "hash": "44818f36aeaf89db1a1d21a2bee6031a28b4e41595a65903b38b9b0c4417365f"
   }
  }
 },
 "nbformat": 4,
 "nbformat_minor": 2
}
