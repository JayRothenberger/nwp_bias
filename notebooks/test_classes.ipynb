{
 "cells": [
  {
   "cell_type": "code",
   "execution_count": 1,
   "metadata": {},
   "outputs": [],
   "source": [
    "%load_ext autoreload\n",
    "%autoreload 2\n",
    "import sys\n",
    "# instead of creating a package using setup.py or building from a docker/singularity file,\n",
    "# import the sister directory of src code to be called on in notebook.\n",
    "# This keeps the notebook free from code to only hold visualizations and is easier to test\n",
    "# It also helps keep the state of variables clean such that cells aren't run out of order with a mysterious state\n",
    "sys.path.append(\"..\")"
   ]
  },
  {
   "cell_type": "code",
   "execution_count": 2,
   "metadata": {},
   "outputs": [
    {
     "name": "stderr",
     "output_type": "stream",
     "text": [
      "Matplotlib created a temporary config/cache directory at /tmp/tmp.uWPE13raeZ/matplotlib-4bd3ji7j because the default path (/home/aevans/.cache/matplotlib) is not a writable directory; it is highly recommended to set the MPLCONFIGDIR environment variable to a writable directory, in particular to speed up the import of Matplotlib and to better support multiprocessing.\n"
     ]
    },
    {
     "ename": "ModuleNotFoundError",
     "evalue": "No module named 'gpd_extract_lons_lats'",
     "output_type": "error",
     "traceback": [
      "\u001b[0;31m---------------------------------------------------------------------------\u001b[0m",
      "\u001b[0;31mModuleNotFoundError\u001b[0m                       Traceback (most recent call last)",
      "Cell \u001b[0;32mIn [2], line 7\u001b[0m\n\u001b[1;32m      5\u001b[0m \u001b[38;5;28;01mfrom\u001b[39;00m \u001b[38;5;21;01msrc\u001b[39;00m \u001b[38;5;28;01mimport\u001b[39;00m landtype_describe\n\u001b[1;32m      6\u001b[0m \u001b[38;5;28;01mfrom\u001b[39;00m \u001b[38;5;21;01msrc\u001b[39;00m\u001b[38;5;21;01m.\u001b[39;00m\u001b[38;5;21;01mplotting_scripts\u001b[39;00m \u001b[38;5;28;01mimport\u001b[39;00m landtype\n\u001b[0;32m----> 7\u001b[0m \u001b[38;5;28;01mfrom\u001b[39;00m \u001b[38;5;21;01msrc\u001b[39;00m \u001b[38;5;28;01mimport\u001b[39;00m landtype_buffer\n\u001b[1;32m      8\u001b[0m \u001b[38;5;28;01mfrom\u001b[39;00m \u001b[38;5;21;01msrc\u001b[39;00m \u001b[38;5;28;01mimport\u001b[39;00m gpd_extract_lons_lats\n\u001b[1;32m      9\u001b[0m \u001b[38;5;28;01mfrom\u001b[39;00m \u001b[38;5;21;01msrc\u001b[39;00m \u001b[38;5;28;01mimport\u001b[39;00m elevation_data\n",
      "File \u001b[0;32m~/landtype/notebooks/../src/landtype_buffer.py:4\u001b[0m\n\u001b[1;32m      2\u001b[0m \u001b[39mimport\u001b[39;00m \u001b[39mnumpy\u001b[39;00m \u001b[39mas\u001b[39;00m \u001b[39mnp\u001b[39;00m \n\u001b[1;32m      3\u001b[0m \u001b[39mimport\u001b[39;00m \u001b[39mgeopandas\u001b[39;00m \u001b[39mas\u001b[39;00m \u001b[39mgpd\u001b[39;00m\n\u001b[0;32m----> 4\u001b[0m \u001b[39mimport\u001b[39;00m \u001b[39mgpd_extract_lons_lats\u001b[39;00m\n\u001b[1;32m      5\u001b[0m \u001b[39mimport\u001b[39;00m \u001b[39mpy3dep\u001b[39;00m \u001b[39mas\u001b[39;00m \u001b[39mpp\u001b[39;00m\n\u001b[1;32m      8\u001b[0m \u001b[39mdef\u001b[39;00m \u001b[39mlandtype_buffer\u001b[39m(df, distance):\n",
      "\u001b[0;31mModuleNotFoundError\u001b[0m: No module named 'gpd_extract_lons_lats'"
     ]
    }
   ],
   "source": [
    "from src import most_recent_mesonet_data\n",
    "from src import most_recent_mesonet_time\n",
    "from src import extract_lons_lats\n",
    "from src import get_landtype\n",
    "from src import landtype_describe\n",
    "from src.plotting_scripts import landtype\n",
    "from src import landtype_buffer\n",
    "from src import gpd_extract_lons_lats\n",
    "from src import elevation_data\n",
    "import pandas as pd \n",
    "import cartopy.crs as crs\n",
    "import matplotlib.pyplot as plt\n",
    "import cartopy.feature as cfeature\n",
    "import geopandas as gpd"
   ]
  },
  {
   "cell_type": "code",
   "execution_count": null,
   "metadata": {},
   "outputs": [],
   "source": [
    "# This will return the most recent data avail on mesonet \n",
    "# this is my file path\n",
    "mesonet_data_path = '/home/aevans/nysm/archive/nysm/netcdf/proc'"
   ]
  },
  {
   "cell_type": "code",
   "execution_count": null,
   "metadata": {},
   "outputs": [],
   "source": [
    "# create a dataframe of mesonet data\n",
    "mesonet_df = most_recent_mesonet_data.current_time_mesonet_df(mesonet_data_path)"
   ]
  },
  {
   "cell_type": "code",
   "execution_count": null,
   "metadata": {},
   "outputs": [],
   "source": [
    "# create a dataframe of mesonet data with only values of data and centered at single datetime\n",
    "mesonet_single_datetime_df = most_recent_mesonet_time.most_recent_time(mesonet_df, mesonet_data_path)"
   ]
  },
  {
   "cell_type": "code",
   "execution_count": null,
   "metadata": {},
   "outputs": [],
   "source": [
    "# get a list of tuples for longitude, latitude of mesonet sites\n",
    "mesonet_lon_lat_list = extract_lons_lats.extract_lons_lats(mesonet_single_datetime_df)"
   ]
  },
  {
   "cell_type": "code",
   "execution_count": null,
   "metadata": {},
   "outputs": [],
   "source": [
    "# get the landtype data for each mesonet site \n",
    "nlcd_df = get_landtype.get_landtype(mesonet_lon_lat_list)"
   ]
  },
  {
   "cell_type": "code",
   "execution_count": null,
   "metadata": {},
   "outputs": [],
   "source": [
    "# description of NLCD data for the NYSM \n",
    "landtype_describe.landtype_describe(nlcd_df)"
   ]
  },
  {
   "cell_type": "code",
   "execution_count": null,
   "metadata": {},
   "outputs": [],
   "source": [
    "# plot the landtypes\n",
    "landtype.landtype(nlcd_df)"
   ]
  },
  {
   "cell_type": "code",
   "execution_count": null,
   "metadata": {},
   "outputs": [],
   "source": [
    "# use buffer to extract points around sites\n",
    "get_coords = landtype_buffer.landtype_buffer(nlcd_df, 30, 0)"
   ]
  },
  {
   "cell_type": "code",
   "execution_count": null,
   "metadata": {},
   "outputs": [],
   "source": [
    "# get tuple list from geopandas list\n",
    "lon_lat_list = gpd_extract_lons_lats.gpd_extract_lons_lats(get_coords)"
   ]
  },
  {
   "cell_type": "code",
   "execution_count": null,
   "metadata": {},
   "outputs": [],
   "source": [
    "len(lon_lat_list)"
   ]
  },
  {
   "cell_type": "code",
   "execution_count": null,
   "metadata": {},
   "outputs": [],
   "source": [
    "# get landtype data from buffer\n",
    "# 30 km \n",
    "buffer_df = get_landtype.get_landtype(lon_lat_list)"
   ]
  },
  {
   "cell_type": "code",
   "execution_count": null,
   "metadata": {},
   "outputs": [],
   "source": [
    "# 20 km\n",
    "# use buffer to extract points around sites\n",
    "get_coords1 = landtype_buffer.landtype_buffer(nlcd_df, 10000, 0)\n",
    "# get tuple list from geopandas list\n",
    "lon_lat_list1 = gpd_extract_lons_lats.gpd_extract_lons_lats(get_coords1)\n",
    "# get landtype data from buffer\n",
    "buffer_df1 = get_landtype.get_landtype(lon_lat_list1)"
   ]
  },
  {
   "cell_type": "code",
   "execution_count": null,
   "metadata": {},
   "outputs": [],
   "source": [
    "# 10 km\n",
    "# use buffer to extract points around sites\n",
    "get_coords2 = landtype_buffer.landtype_buffer(nlcd_df, 5000, 0)\n",
    "# get tuple list from geopandas list\n",
    "lon_lat_list2 = gpd_extract_lons_lats.gpd_extract_lons_lats(get_coords2)\n",
    "# get landtype data from buffer\n",
    "buffer_df2 = get_landtype.get_landtype(lon_lat_list2)"
   ]
  },
  {
   "cell_type": "code",
   "execution_count": null,
   "metadata": {},
   "outputs": [],
   "source": [
    "# plot buffer \n",
    "landtype.landtype(buffer_df)"
   ]
  },
  {
   "cell_type": "code",
   "execution_count": null,
   "metadata": {},
   "outputs": [],
   "source": [
    "buffer_df1_1 = buffer_df1.dropna(subset=['color'])\n",
    "landtype.landtype(buffer_df1_1)"
   ]
  },
  {
   "cell_type": "code",
   "execution_count": null,
   "metadata": {},
   "outputs": [],
   "source": [
    "landtype.landtype(buffer_df2)"
   ]
  },
  {
   "cell_type": "code",
   "execution_count": null,
   "metadata": {},
   "outputs": [],
   "source": [
    "# describe buffer stats\n",
    "landtype_describe.landtype_describe(buffer_df)"
   ]
  },
  {
   "cell_type": "code",
   "execution_count": null,
   "metadata": {},
   "outputs": [],
   "source": [
    "# describe buffer stats\n",
    "landtype_describe.landtype_describe(buffer_df1)"
   ]
  },
  {
   "cell_type": "code",
   "execution_count": null,
   "metadata": {},
   "outputs": [],
   "source": [
    "# describe buffer stats\n",
    "landtype_describe.landtype_describe(buffer_df2)"
   ]
  },
  {
   "cell_type": "code",
   "execution_count": null,
   "metadata": {},
   "outputs": [],
   "source": [
    "# elevation stats of buffer\n",
    "elevation_data.elevation_data(lon_lat_list)"
   ]
  },
  {
   "cell_type": "code",
   "execution_count": null,
   "metadata": {},
   "outputs": [],
   "source": [
    "elevation_data.elevation_data(lon_lat_list1)"
   ]
  },
  {
   "cell_type": "code",
   "execution_count": null,
   "metadata": {},
   "outputs": [],
   "source": [
    "elevation_data.elevation_data(lon_lat_list2)"
   ]
  }
 ],
 "metadata": {
  "kernelspec": {
   "display_name": "Python 3 (ipykernel)",
   "language": "python",
   "name": "python3"
  },
  "language_info": {
   "codemirror_mode": {
    "name": "ipython",
    "version": 3
   },
   "file_extension": ".py",
   "mimetype": "text/x-python",
   "name": "python",
   "nbconvert_exporter": "python",
   "pygments_lexer": "ipython3",
   "version": "3.9.13"
  },
  "vscode": {
   "interpreter": {
    "hash": "44818f36aeaf89db1a1d21a2bee6031a28b4e41595a65903b38b9b0c4417365f"
   }
  }
 },
 "nbformat": 4,
 "nbformat_minor": 2
}
