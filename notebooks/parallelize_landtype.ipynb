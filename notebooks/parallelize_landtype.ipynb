{
 "cells": [
  {
   "cell_type": "code",
   "execution_count": null,
   "metadata": {},
   "outputs": [],
   "source": [
    "%load_ext autoreload\n",
    "%autoreload 2\n",
    "import sys\n",
    "# instead of creating a package using setup.py or building from a docker/singularity file,\n",
    "# import the sister directory of src code to be called on in notebook.\n",
    "# This keeps the notebook free from code to only hold visualizations and is easier to test\n",
    "# It also helps keep the state of variables clean such that cells aren't run out of order with a mysterious state\n",
    "sys.path.append(\"..\")"
   ]
  },
  {
   "cell_type": "code",
   "execution_count": null,
   "metadata": {},
   "outputs": [],
   "source": [
    "from src import landtype_buffer\n",
    "from src import landtype_buffer_trial\n",
    "from src import gpd_extract_lons_lats\n",
    "import pandas as pd\n",
    "import numpy as np\n",
    "import multiprocessing\n",
    "import geopandas as gpd\n",
    "import pygeohydro as gh"
   ]
  },
  {
   "cell_type": "code",
   "execution_count": null,
   "metadata": {},
   "outputs": [],
   "source": [
    "import os,rasterio,pyproj"
   ]
  },
  {
   "cell_type": "code",
   "execution_count": null,
   "metadata": {},
   "outputs": [],
   "source": [
    "def geometry(nlcd_df_dummy):\n",
    "    geo_gdf = gpd.GeoDataFrame(\n",
    "    nlcd_df_dummy,\n",
    "    geometry=gpd.points_from_xy(nlcd_df_dummy['lon'], nlcd_df_dummy['lat']),\n",
    "    crs=4326)   \n",
    "    return geo_gdf\n",
    "\n",
    "\n",
    "def read_data():\n",
    "    nlcd_df = pd.read_csv('/home/aevans/Kara_HW/data/nlcd_df.csv')\n",
    "    nlcd_df_dummy = nlcd_df.iloc[0:25]\n",
    "    geo_gdf = geometry(nlcd_df_dummy)\n",
    "    return geo_gdf\n",
    "\n",
    "\n",
    "def parallelize_get_landtype(df_split, buffer_size=90):\n",
    "    mode_list = []\n",
    "    # print(\"df_split\",df_split)\n",
    "    \n",
    "    for i,site in df_split.iterrows():\n",
    "        sorted_df = df_split.sort_index(ascending=True)\n",
    "        buffer_df = landtype_buffer.landtype_buffer(df_split, buffer_size)\n",
    "        print(site[\"station\"])\n",
    "        buffer_df.to_parquet(f'/home/aevans/Kara_HW/data/buffer_{site[\"station\"]}.parquet')\n",
    "\n",
    "\n",
    "def main():\n",
    "    geo_gdf = read_data()\n",
    "    # print(geo_gdf)\n",
    "    num_cores = 5  #leave one free to not freeze machine\n",
    "    df_split = np.array_split(geo_gdf, 5)\n",
    "    # print(df_split)\n",
    "    pool = multiprocessing.Pool(num_cores)\n",
    "    pool.map(parallelize_get_landtype, df_split)\n",
    "    pool.close()"
   ]
  },
  {
   "cell_type": "code",
   "execution_count": null,
   "metadata": {},
   "outputs": [],
   "source": [
    "main()"
   ]
  }
 ],
 "metadata": {
  "kernelspec": {
   "display_name": "Python 3 (ipykernel)",
   "language": "python",
   "name": "python3"
  }
 },
 "nbformat": 4,
 "nbformat_minor": 2
}
