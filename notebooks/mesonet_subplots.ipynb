{
 "cells": [
  {
   "cell_type": "markdown",
   "id": "practical-rhythm",
   "metadata": {},
   "source": [
    "# The code below reads in a NYSM NetCDF datafile as a Pandas Dataframe, and creates a plot on a map of 4 variables, with the most recent date and time.\n",
    "Each cell below contains hints in the comments. Follow the hints and you should be able to produce the final image!"
   ]
  },
  {
   "cell_type": "markdown",
   "id": "fd4bd2db-eea9-4ffe-9630-d044898cef80",
   "metadata": {},
   "source": [
    "import all the libraries you will need\n",
    "some refs that might help:\n",
    "- https://scitools.org.uk/cartopy/docs/v0.13/matplotlib/gridliner.html\n",
    "- https://towardsdatascience.com/plotting-geospatial-data-with-cartopy-4b5ad0da0761\n",
    "- https://blog.jpolak.org/?p=2158\n",
    "- https://foundations.projectpythia.org/core/cartopy/cartopy.html"
   ]
  },
  {
   "cell_type": "code",
   "execution_count": null,
   "id": "6332c55a-1ab6-4284-93cc-3c88a1e96af5",
   "metadata": {},
   "outputs": [],
   "source": [
    "#conda install -c conda-forge cartopy"
   ]
  },
  {
   "cell_type": "code",
   "execution_count": null,
   "id": "1009686b-e8b5-4742-a8f0-d8202077e2d7",
   "metadata": {},
   "outputs": [],
   "source": [
    "#conda install -c conda-forge eccodes"
   ]
  },
  {
   "cell_type": "code",
   "execution_count": null,
   "id": "1c58fcf3-4176-4d0e-a9ea-c4d68733f733",
   "metadata": {},
   "outputs": [],
   "source": [
    "import pandas as pd\n",
    "import numpy as np\n",
    "import xarray as xr\n",
    "import matplotlib.pyplot as plt\n",
    "import os\n",
    "import cfgrib\n",
    "from datetime import datetime, timedelta, date\n",
    "import cartopy.crs as crs\n",
    "import cartopy.feature as cfeature\n",
    "from scipy.interpolate import griddata"
   ]
  },
  {
   "cell_type": "markdown",
   "id": "91c970e5-20ad-4723-a7ae-dc777db45dea",
   "metadata": {},
   "source": [
    "## Define the mesonet data path"
   ]
  },
  {
   "cell_type": "code",
   "execution_count": null,
   "id": "41a8fa66-b657-40b9-803b-4fe1c09a032f",
   "metadata": {},
   "outputs": [],
   "source": [
    "# this is my file path\n",
    "mesonet_data_path = '/home/aevans/NYSM/archive/nysm/netcdf/proc'"
   ]
  },
  {
   "cell_type": "markdown",
   "id": "1c18a719-e053-4974-9d2e-8dfb9156eccf",
   "metadata": {},
   "source": [
    "get the current date time (hint, this value will change everytime you run this cell, so only rerun when you need to!"
   ]
  },
  {
   "cell_type": "markdown",
   "id": "3ad4a2d5-d799-4a24-ba3c-ff8c5020a438",
   "metadata": {},
   "source": [
    "# Get current date and time"
   ]
  },
  {
   "cell_type": "code",
   "execution_count": null,
   "id": "b204aeb5-771c-4637-aeb6-49c37108c5ce",
   "metadata": {},
   "outputs": [],
   "source": [
    "today = date.today()\n",
    "now = datetime.now()\n",
    "print(today)\n",
    "print(now)"
   ]
  },
  {
   "cell_type": "markdown",
   "id": "d2b5021c-da33-49fe-831c-bdf2cb405d0d",
   "metadata": {},
   "source": [
    "# function to round time to correct format"
   ]
  },
  {
   "cell_type": "code",
   "execution_count": null,
   "id": "50218c5b-4b98-4310-9904-85abe0b443cb",
   "metadata": {},
   "outputs": [],
   "source": [
    "# to get minutes in correct format\n",
    "def minute_rounder(t):\n",
    "    # Rounds to nearest hour by adding a timedelta hour if minute >= 30\n",
    "    minute = t.minute \n",
    "    if (minute)%5 != 0:\n",
    "        newMinute = abs((t.minute % 5) - t.minute)\n",
    "    else: \n",
    "        newMinute = t.minute\n",
    "    \n",
    "    return (t.replace(second=t.second, microsecond=t.microsecond, minute=newMinute, hour=t.hour))\n",
    "\n",
    "\n",
    "print(now)\n",
    "print(minute_rounder(now))"
   ]
  },
  {
   "cell_type": "code",
   "execution_count": null,
   "id": "7ff7d69b-67bf-479c-af98-6af642854ef7",
   "metadata": {},
   "outputs": [],
   "source": [
    "# this is my file path\n",
    "mesonet_data_path = '/home/aevans/NYSM/archive/nysm/netcdf/proc'\n",
    "\n",
    "# year\n",
    "year = now.strftime(\"%Y\")\n",
    "\n",
    "# month\n",
    "month = now.strftime(\"%m\")\n",
    "\n",
    "# day\n",
    "day = now.strftime(\"%d\")\n",
    "\n",
    "print(year, month, day)"
   ]
  },
  {
   "cell_type": "markdown",
   "id": "0b9a6e13-3abf-43a4-af83-db388ddc72b1",
   "metadata": {},
   "source": [
    " - get only the dataframe rows that match the date & time you are looking for\n",
    "- NOTE that you do not want to hard code this, as in the future you may want to make the date/time search dynamic!\n",
    "- ALSO NOTE that the current time will not have an exact match in the file. So you will need to round to the nearest 5 minutes\n",
    " - ONE MORE NOTE that it takes time for the most recent mesonet data to be added to the file, so I suggest finding the rows that are CLOSEST to your current time"
   ]
  },
  {
   "cell_type": "markdown",
   "id": "4df0d26c-936a-49d8-b84d-67ec28f3d6f5",
   "metadata": {},
   "source": [
    "# Create dynamic filepath"
   ]
  },
  {
   "cell_type": "code",
   "execution_count": null,
   "id": "5c8f93e6-5f74-44c3-850c-de64d1a92aa7",
   "metadata": {},
   "outputs": [],
   "source": [
    "# This will return the most recent data avail on mesonet \n",
    "# sort years\n",
    "# find most recent year\n",
    "dir_Year = sorted([int(f) for f in os.listdir(f\"{mesonet_data_path}\")])\n",
    "data_point_Year = dir_Year[-1]\n",
    "print(dir_Year)\n",
    "\n",
    "# find most recent month\n",
    "dir_Month = os.listdir(f\"{mesonet_data_path}/{data_point_Year}\")\n",
    "data_point_Month = dir_Month[-1]\n",
    "\n",
    "#this is your most recent directory\n",
    "#don't use 'dir' because it will list attributes\n",
    "dir1 = os.listdir(f\"{mesonet_data_path}/{data_point_Year}/{data_point_Month}\")\n",
    "\n",
    "# this will give me the most recent data point\n",
    "data_point = dir1[-1]\n",
    "\n",
    "# this will return the year of the most recent data point\n",
    "new_year = data_point[0:4]\n",
    "\n",
    "# this will return the month of the most recent datapoint\n",
    "new_month = data_point[4:6]\n",
    "\n",
    "# this will return the day of the most recent datapoint\n",
    "new_day = data_point[6:8]"
   ]
  },
  {
   "cell_type": "markdown",
   "id": "96a9effa-e50e-4ef0-bd0b-db49e0edf22e",
   "metadata": {},
   "source": [
    "# open the correct mesonet file (make this dynamic. Do not hardcode a specific date/time!)"
   ]
  },
  {
   "cell_type": "code",
   "execution_count": null,
   "id": "3eda9fee-ed4c-49c1-8234-8cd816630dcc",
   "metadata": {},
   "outputs": [],
   "source": [
    "# this is my file path\n",
    "mesonet_data_path = '/home/aevans/NYSM/archive/nysm/netcdf/proc'\n",
    "\n",
    "# year\n",
    "year = new_year\n",
    "\n",
    "# month\n",
    "month = new_month\n",
    "\n",
    "# day\n",
    "day = new_day\n",
    "\n",
    "# file path\n",
    "file = year+month+day+'.nc'\n",
    "\n",
    "mesonet_df = xr.open_dataset(f\"{mesonet_data_path}/{year}/{month}/{file}\").to_dataframe().reset_index()\n",
    "mesonet_df"
   ]
  },
  {
   "cell_type": "markdown",
   "id": "86b5e5f0-b2f1-4f3a-8c39-7bf686faebab",
   "metadata": {},
   "source": [
    "# This is to determine the most current time-stamp"
   ]
  },
  {
   "cell_type": "code",
   "execution_count": null,
   "id": "62ae3a44-ef70-4da1-9001-d5732cef096e",
   "metadata": {},
   "outputs": [],
   "source": [
    "current_time_df = mesonet_df.dropna(subset=['tair'])\n",
    "\n",
    "last_value = current_time_df['time_5M'].iat[-1]\n",
    "hour = last_value.hour\n",
    "minute = last_value.minute\n",
    "second = last_value.second\n",
    "\n",
    "string_hour = str(hour)\n",
    "string_minute = str(minute)\n",
    "string_sec = str(second)\n",
    "\n",
    "time = string_hour+':'+string_minute+':'+string_sec\n",
    "print(time)"
   ]
  },
  {
   "cell_type": "markdown",
   "id": "2279d69f-0c44-44c7-adfb-96a1dbd03b73",
   "metadata": {},
   "source": [
    "#get only the dataframe rows that match the date & time you are looking for\n",
    "#NOTE that you do not want to hard code this, as in the future you may want to make the date/time search dynamic!\n",
    "#ALSO NOTE that the current time will not have an exact match in the file. So you will need to round to the nearest 5 minutes\n",
    "#ONE MORE NOTE that it takes time for the most recent mesonet data to be added to the file, so I suggest finding the rows that are CLOSEST to your current time"
   ]
  },
  {
   "cell_type": "code",
   "execution_count": null,
   "id": "1364be3e-84dc-4322-a57c-d0cc53f9ba96",
   "metadata": {},
   "outputs": [],
   "source": [
    "mesonet_df.reset_index(inplace=True)\n",
    "\n",
    "# creating a new dataframe that is centered on the location in the dataframe\n",
    "mesonet_single_datetime_df = mesonet_df.loc[mesonet_df['time_5M']==f\"{year}-{month}-{day} {time}\"] \n",
    "print(mesonet_single_datetime_df.head())\n",
    "\n",
    "#this should result in a df with 126 rows\n",
    "print(len(mesonet_single_datetime_df.index))\n",
    "\n",
    "mesonet_single_datetime_df"
   ]
  },
  {
   "cell_type": "code",
   "execution_count": null,
   "id": "a94a5633",
   "metadata": {},
   "outputs": [],
   "source": [
    "mesonet_single_datetime_df.head(15)"
   ]
  },
  {
   "cell_type": "markdown",
   "id": "00db8163-b5bb-4bea-8533-4d77e2df9a3b",
   "metadata": {},
   "source": [
    "# now with a DF with 126 rows at the correct time, lets make a visualization with 4 subplots, of 4 variables, plotted on NYS!"
   ]
  },
  {
   "cell_type": "code",
   "execution_count": null,
   "id": "c406c46f-11b1-4924-bab1-009cc813b091",
   "metadata": {},
   "outputs": [],
   "source": [
    "def scatterPlot(df, c_label, s_label, color, ax, lonW, lonE, latS, latN):    \n",
    "    df.plot.scatter(x='lon', y='lat',c= c_label,s=s_label, colormap = color, ax = ax)\n",
    "    ax.set_extent([lonW, lonE, latS, latN], crs=projPC)\n",
    "    ax.add_feature(cfeature.LAND)\n",
    "    ax.add_feature(cfeature.COASTLINE)\n",
    "    ax.add_feature(cfeature.BORDERS, linestyle='--');\n",
    "    ax.add_feature(cfeature.LAKES, alpha=0.5)\n",
    "    ax.add_feature(cfeature.STATES)\n",
    "    ax.xticklabels_top = False\n",
    "    ax.ylabels_right = False\n",
    "    ax.gridlines(crs=crs.PlateCarree(), draw_labels=True,\n",
    "                  linewidth=2, color='black', alpha=0.5, linestyle='--')"
   ]
  },
  {
   "cell_type": "code",
   "execution_count": null,
   "id": "a29b86b6-141c-4db2-a01d-e4a65f775acf",
   "metadata": {},
   "outputs": [],
   "source": [
    "fig, ((ax1, ax2), (ax3, ax4)) = plt.subplots(nrows = 2, \n",
    "                                             ncols = 2, \n",
    "                                             figsize=(20,15), \n",
    "                                             subplot_kw={'projection': crs.PlateCarree()})\n",
    "\n",
    "\n",
    "projPC = crs.PlateCarree()\n",
    "latN = mesonet_single_datetime_df['lat'].max()\n",
    "latS = mesonet_single_datetime_df['lat'].min()\n",
    "lonW = mesonet_single_datetime_df['lon'].max()\n",
    "lonE = mesonet_single_datetime_df['lon'].min()\n",
    "cLat = (latN + latS) / 2\n",
    "cLon = (lonW + lonE) / 2\n",
    "projLccNY = crs.LambertConformal(central_longitude=cLon, central_latitude=cLat)\n",
    "\n",
    "\n",
    "scatterPlot(mesonet_single_datetime_df, 'tair', 'tair', 'jet', ax1, lonW, lonE, latS, latN)\n",
    "scatterPlot(mesonet_single_datetime_df, 'wspd_merge', 'wspd_merge', 'jet', ax2, lonW, lonE, latS, latN)\n",
    "scatterPlot(mesonet_single_datetime_df, 'pres', 'pres', 'jet', ax3, lonW, lonE, latS, latN)\n",
    "scatterPlot(mesonet_single_datetime_df, 'precip', 'precip', 'jet', ax4, lonW, lonE, latS, latN)"
   ]
  },
  {
   "cell_type": "code",
   "execution_count": null,
   "id": "ee76d267-d735-45af-a40c-4bd692c08d7c",
   "metadata": {},
   "outputs": [],
   "source": [
    "contour_data = mesonet_single_datetime_df[['lat', 'lon', 'elev']].copy()\n",
    "\n",
    "# create variables for indexing purposes \n",
    "Long = contour_data['lon']; \n",
    "Lat = contour_data['lat']; \n",
    "Elev = contour_data['elev']; \n",
    "\n",
    "# creating a matrix to reference for z-points\n",
    "[x, y] = np.meshgrid(np.linspace(np.min(Long), np.max(Long), 124),\n",
    "                 np.linspace(np.min(Lat),np.max(Lat),124));\n",
    "\n",
    "# calculate z points using a linear method \n",
    "z = griddata((Long, Lat), Elev, (x, y), method='linear');\n",
    "x = np.matrix.flatten(x); #Gridded longitude\n",
    "y = np.matrix.flatten(y); #Gridded latitude\n",
    "z = np.matrix.flatten(z); #Gridded elevation\n",
    "\n",
    "\n",
    "# cartopy \n",
    "projPC = crs.PlateCarree()\n",
    "latN = y.max()\n",
    "latS = y.min()\n",
    "lonW = x.max()\n",
    "lonE = x.min()\n",
    "cLat = (latN + latS) / 2\n",
    "cLon = (lonW + lonE) / 2\n",
    "projLccNY = crs.LambertConformal(central_longitude=cLon, central_latitude=cLat)\n",
    "\n",
    "fig = plt.figure(figsize=(15, 10))\n",
    "ax = plt.subplot(1, 1, 1, projection=projLccNY)\n",
    "ax.set_extent([lonW, lonE, latS, latN], crs=projPC)\n",
    "ax.add_feature(cfeature.LAND)\n",
    "ax.add_feature(cfeature.COASTLINE)\n",
    "ax.add_feature(cfeature.BORDERS, linestyle='--')\n",
    "ax.add_feature(cfeature.LAKES, alpha=0.5)\n",
    "ax.add_feature(cfeature.STATES)\n",
    "ax.set_title('New York and Vicinity');\n",
    "ax.gridlines(crs=crs.PlateCarree(), draw_labels=True,\n",
    "                  linewidth=2, color='gray', alpha=0.5, linestyle='--')\n",
    "ax.xlabels_top = False\n",
    "ax.ylabels_left = True\n",
    "\n",
    "\n",
    "\n",
    "plt.title('Mesonet Site Topography map')\n",
    "plt.xlabel('Longitude [°]')\n",
    "plt.ylabel('Latitude [°]')\n",
    "plt.gca().set_aspect('equal')\n",
    "plt.scatter(x,y,10,z,cmap='terrain', transform=crs.PlateCarree())\n",
    "plt.colorbar(label='Elevation above sea level [m]')\n",
    "\n",
    "# how can I make it so masks not NY land?\n",
    "# false data points to make map nicer\n",
    "#shapely file to mask?"
   ]
  },
  {
   "cell_type": "code",
   "execution_count": null,
   "id": "0dd24ab2-f9d5-4b61-9da3-6a85a83ab559",
   "metadata": {},
   "outputs": [],
   "source": []
  }
 ],
 "metadata": {
  "kernelspec": {
   "display_name": "Python 3.9.1 ('miniconda3': virtualenv)",
   "language": "python",
   "name": "python3"
  },
  "language_info": {
   "codemirror_mode": {
    "name": "ipython",
    "version": 3
   },
   "file_extension": ".py",
   "mimetype": "text/x-python",
   "name": "python",
   "nbconvert_exporter": "python",
   "pygments_lexer": "ipython3",
   "version": "3.9.13"
  },
  "vscode": {
   "interpreter": {
    "hash": "44818f36aeaf89db1a1d21a2bee6031a28b4e41595a65903b38b9b0c4417365f"
   }
  }
 },
 "nbformat": 4,
 "nbformat_minor": 5
}
