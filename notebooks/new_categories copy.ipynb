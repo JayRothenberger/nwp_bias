{
 "cells": [
  {
   "cell_type": "code",
   "execution_count": null,
   "metadata": {},
   "outputs": [],
   "source": [
    "%load_ext autoreload\n",
    "%autoreload 2\n",
    "import sys\n",
    "# instead of creating a package using setup.py or building from a docker/singularity file,\n",
    "# import the sister directory of src code to be called on in notebook.\n",
    "# This keeps the notebook free from code to only hold visualizations and is easier to test\n",
    "# It also helps keep the state of variables clean such that cells aren't run out of order with a mysterious state\n",
    "sys.path.append(\"..\")"
   ]
  },
  {
   "cell_type": "code",
   "execution_count": null,
   "metadata": {},
   "outputs": [],
   "source": [
    "import numpy as np\n",
    "import pandas as pd\n",
    "from matplotlib import pyplot as plt\n",
    "from sklearn.cluster import KMeans\n",
    "#import sklearn.cluster.hierarchical as hclust\n",
    "from sklearn import preprocessing\n",
    "import seaborn as sns\n",
    "from sklearn.metrics import silhouette_score\n",
    "\n",
    "from src import most_recent_mesonet_data\n",
    "from src import most_recent_mesonet_time\n",
    "from src import landtype_describe\n",
    "from src.plotting_scripts import landtype\n",
    "import os\n",
    "import pandas as pd\n",
    "import cartopy.crs as crs\n",
    "import cartopy.feature as cfeature\n",
    "from matplotlib.colors import ListedColormap\n",
    "import matplotlib.patches as mpatches\n",
    "from matplotlib import colors"
   ]
  },
  {
   "cell_type": "code",
   "execution_count": null,
   "metadata": {},
   "outputs": [],
   "source": [
    "def plurality_plot(df):\n",
    "    projPC = crs.PlateCarree()\n",
    "    latN = df['lat_x'].max()+1\n",
    "    latS = df['lat_x'].min()-1\n",
    "    lonW = df['lon_x'].max()+1\n",
    "    lonE = df['lon_x'].min()-1\n",
    "    cLat = (latN + latS) / 2\n",
    "    cLon = (lonW + lonE) / 2\n",
    "    projLcc = crs.LambertConformal(central_longitude=cLon, central_latitude=cLat)\n",
    "\n",
    "    fig, ax = plt.subplots(figsize=(12,9), subplot_kw={'projection': crs.PlateCarree()}, dpi = 600)\n",
    "    ax.set_extent([lonW, lonE, latS, latN], crs=projPC)\n",
    "    ax.add_feature(cfeature.LAND)\n",
    "    ax.add_feature(cfeature.COASTLINE)\n",
    "    ax.add_feature(cfeature.BORDERS, linestyle='--');\n",
    "    ax.add_feature(cfeature.LAKES, alpha=0.5)\n",
    "    ax.add_feature(cfeature.STATES)\n",
    "    ax.xticklabels_top = False\n",
    "    ax.ylabels_right = False\n",
    "    ax.gridlines(crs=crs.PlateCarree(), draw_labels=True,\n",
    "                    linewidth=2, color='black', alpha=0.5, linestyle='--')\n",
    "    ax.scatter(x=df['lon_x'],\n",
    "                                        y=df['lat_x'],\n",
    "                                        c=df['color'],\n",
    "                                        s=100,\n",
    "                                        edgecolor = 'black',\n",
    "                                        marker = 'o',\n",
    "                                        transform=crs.PlateCarree()\n",
    "                                        )\n",
    "    ax.set_title('Proposed Mesonet Site Clusters; n = 8', size=16)\n",
    "    ax.set_xlabel('Longitude',size=14)\n",
    "    ax.set_ylabel('Latitude',size=14)\n",
    "    ax.tick_params(axis='x', labelsize=20)\n",
    "    ax.tick_params(axis='y', labelsize=20)\n",
    "    ax.grid()\n",
    "    ax.legend(bbox_to_anchor=(1.05, 1), loc='best', borderaxespad=0,handles=patches, fontsize='x-large')"
   ]
  },
  {
   "cell_type": "code",
   "execution_count": null,
   "metadata": {},
   "outputs": [],
   "source": [
    "def stackbar_df(df):\n",
    "    statlist = []\n",
    "    div_list1 = []\n",
    "    div_list2 = []\n",
    "    div_list3 = []\n",
    "    div_list4 = []\n",
    "    class1_list = []\n",
    "    class2_list = []\n",
    "    class3_list = []\n",
    "\n",
    "    for x,_ in enumerate(df['station']):\n",
    "        station = df['station'].iloc[x]\n",
    "        divide1 = (df['firstmode_count'].iloc[x] / df['sum_total'].iloc[x]) * 100\n",
    "        class1 = df['firstmode_val'].iloc[x]\n",
    "        divide2 = (df['secondmode_count'].iloc[x] / df['sum_total'].iloc[x]) * 100\n",
    "        class2 = df['secondmode_val'].iloc[x]\n",
    "        divide3 = (df['thirdmode_count'].iloc[x] / df['sum_total'].iloc[x]) * 100\n",
    "        class3 = df['thirdmode_val'].iloc[x]\n",
    "        divide4 = 100 - (divide1 + divide2 + divide3) \n",
    "        statlist.append(station)\n",
    "        div_list1.append(divide1)\n",
    "        div_list2.append(divide2)\n",
    "        div_list3.append(divide3)\n",
    "        div_list4.append(divide4)\n",
    "        class1_list.append(class1)\n",
    "        class2_list.append(class2)\n",
    "        class3_list.append(class3)\n",
    "\n",
    "    stackbar_df = pd.DataFrame()\n",
    "    stackbar_df['station'] = statlist\n",
    "    stackbar_df['div1'] = div_list1\n",
    "    stackbar_df['div2'] = div_list2\n",
    "    stackbar_df['div3'] = div_list3\n",
    "    stackbar_df['div4'] = div_list4\n",
    "    stackbar_df['class1'] = class1_list\n",
    "    stackbar_df['class2'] = class2_list\n",
    "    stackbar_df['class3'] = class3_list\n",
    "\n",
    "    # add appropriate colors \n",
    "    # get colors\n",
    "    colors = ['black', 'blue', 'white', 'coral', 'pink', 'red', 'magenta', 'gray', 'lime', 'forestgreen', 'green', 'olive', 'brown', 'slategray', 'darkorchid','plum', 'indigo', 'purple', 'yellow', 'gold', 'orange', 'cyan']\n",
    "    legend = np.array([0,11,12,21,22,23,24,31,41,42,43,45,51,52,71,72,73,74,81,82,90,95])\n",
    "    leg_str = ['No Data','Open Water','Perennial Ice/Snow',\n",
    "    'Developed, Open Space','Developed, Low Intensity', 'Developed, Medium Intensity','Developed High Intensity',\n",
    "    'Barren Land (Rock/Sand/Clay)',\n",
    "    'Deciduous Forest','Evergreen Forest','Mixed Forest', 'Forest/Shrub',\n",
    "    'Dwarf Scrub','Shrub/Scrub',\n",
    "    'Grassland/Herbaceous','Sedge/Herbaceous','Lichens','Moss',\n",
    "    'Pasture/Hay','Cultivated Crops',\n",
    "    'Woody Wetlands','Emergent Herbaceous Wetlands']\n",
    "\n",
    "    descripdict={}\n",
    "    colordict={}\n",
    "\n",
    "    for x,_ in enumerate(colors):\n",
    "        descripdict.update({legend[x] : leg_str[x]})\n",
    "        colordict.update({legend[x] : colors[x]})\n",
    "\n",
    "    descripdict={}\n",
    "    colordict={}\n",
    "\n",
    "    for x,_ in enumerate(colors):\n",
    "        descripdict.update({legend[x] : leg_str[x]})\n",
    "        colordict.update({legend[x] : colors[x]})\n",
    "\n",
    "\n",
    "    stackbar_df['color1'] = stackbar_df['class1'].map(colordict)\n",
    "    stackbar_df['color2'] = stackbar_df['class2'].map(colordict)\n",
    "    stackbar_df['color3'] = stackbar_df['class3'].map(colordict)\n",
    "    stackbar_df['color4'] = 'black' \n",
    "\n",
    "    return stackbar_df"
   ]
  },
  {
   "cell_type": "code",
   "execution_count": null,
   "metadata": {},
   "outputs": [],
   "source": [
    "def stackplot(df):\n",
    "    colors = ['black', 'blue', 'white', 'coral', 'pink', 'red', 'magenta', 'gray', 'lime', 'forestgreen', 'green', 'olive', 'brown', 'slategray', 'darkorchid','plum', 'indigo', 'purple', 'yellow', 'gold', 'orange', 'cyan']\n",
    "    legend = np.array([0,11,12,21,22,23,24,31,41,42,43,45,51,52,71,72,73,74,81,82,90,95])\n",
    "    leg_str = ['No Data','Open Water','Perennial Ice/Snow',\n",
    "    'Developed, Open Space','Developed, Low Intensity', 'Developed, Medium Intensity','Developed High Intensity',\n",
    "    'Barren Land (Rock/Sand/Clay)',\n",
    "    'Deciduous Forest','Evergreen Forest','Mixed Forest', 'Forest/Shrub',\n",
    "    'Dwarf Scrub','Shrub/Scrub',\n",
    "    'Grassland/Herbaceous','Sedge/Herbaceous','Lichens','Moss',\n",
    "    'Pasture/Hay','Cultivated Crops',\n",
    "    'Woody Wetlands','Emergent Herbaceous Wetlands']\n",
    "\n",
    "                #legend \n",
    "    patches = []\n",
    "    for i,_ in enumerate(colors):\n",
    "            patch = mpatches.Patch(color=colors[i], label=leg_str[i])\n",
    "            patches.append(patch)\n",
    "    fig, ax = plt.subplots(figsize=(20,20), dpi = 600)\n",
    "    ax.set_xlabel(\"Mesonet Sites\")\n",
    "    ax.set_ylabel(\"Percet of Total By Landtype\")\n",
    "    ax.tick_params(axis='x', labelsize=20)\n",
    "    ax.tick_params(axis='y', labelsize=20)\n",
    "    ax.set_title('Cluster Plot')\n",
    "\n",
    "    df = df.sort_values(by=['color1'], ascending=True)\n",
    "    for x,_ in enumerate(df['station']):\n",
    "        h1 = df['div1'].iloc[x]\n",
    "        h2 = h1 + df['div2'].iloc[x]\n",
    "        h3 = h2 + df['div3'].iloc[x]\n",
    "        h4 = h3 + df['div4'].iloc[x]\n",
    "        ax.bar(x=x, height = h4, color = df['color4'].iloc[x])\n",
    "        ax.bar(x=x, height = h3, color = df['color3'].iloc[x])\n",
    "        ax.bar(x=x, height = h2, color = df['color2'].iloc[x])\n",
    "        ax.bar(x=x, height = h1, color = df['color1'].iloc[x])\n",
    "        ax.legend(bbox_to_anchor=(1.05, 1), loc='best', borderaxespad=0,handles=patches, fontsize='xx-large')"
   ]
  },
  {
   "cell_type": "code",
   "execution_count": null,
   "metadata": {},
   "outputs": [],
   "source": [
    "def elev_plot(df):\n",
    "    fig = plt.figure(figsize = (12,12), dpi = 600)\n",
    "    ax = fig.add_subplot(projection='3d')\n",
    "    length = len(df['station'])\n",
    "    xs = range(0, length)\n",
    "    ys = df['elev']\n",
    "    zs1 = df['std']\n",
    "    zs2 = df['skew']\n",
    "    zs3 = df['med_dist']\n",
    "    ax.scatter(xs, ys, zs1, s = 70, marker = 'x', color = 'r', label = 'std')\n",
    "    ax.scatter(xs, ys, zs3,s = 70, marker = 'v', color = 'g', label = 'med_dist')\n",
    "    ax.set_xlabel('Station')\n",
    "    ax.set_ylabel('Elevation')\n",
    "    ax.set_zlabel('Variables')\n",
    "    ax.tick_params(axis='x', labelsize=20)\n",
    "    ax.tick_params(axis='y', labelsize=20)\n",
    "    ax.tick_params(axis='z', labelsize=20)\n",
    "    ax.legend()\n",
    "    ax.view_init(15, 30)\n",
    "    plt.show()"
   ]
  },
  {
   "cell_type": "code",
   "execution_count": null,
   "metadata": {},
   "outputs": [],
   "source": [
    "def get_stations(df):\n",
    "    station_ls = []\n",
    "    for x,_ in enumerate(df['station']):\n",
    "        station = df['station'].iloc[x]\n",
    "        station_ls.append(station)\n",
    "    return station_ls"
   ]
  },
  {
   "cell_type": "code",
   "execution_count": null,
   "metadata": {},
   "outputs": [],
   "source": [
    "def slope_plot(df):\n",
    "    fig, ax = plt.subplots(figsize=(20,20), dpi = 600)\n",
    "    ax = fig.add_subplot( projection='3d')\n",
    "    ax.view_init(15, 45)\n",
    "    ax.set_xlabel(\"Mesonet Sites\")\n",
    "    ax.set_ylabel(\"Aspect Slope Class\")\n",
    "    ax.set_zlabel(\"Count\")\n",
    "    ax.set_title('New York')\n",
    "    ax.tick_params(axis='x', labelsize=20)\n",
    "    ax.tick_params(axis='y', labelsize=20)\n",
    "    ax.tick_params(axis='z', labelsize=20)\n",
    "    station_ls = get_stations(df)\n",
    "    for i,_ in enumerate(station_ls):\n",
    "        df = pd.read_csv(f'/home/aevans/landtype/elevation/data/NY/slope/30km/{station_ls[i]}_slope_30km.csv')\n",
    "        for x,_ in df.iterrows():\n",
    "            dfv = df.iloc[x]\n",
    "            classt = dfv[2]\n",
    "            count_ = dfv[3]\n",
    "            if classt != 19:\n",
    "                top =  count_\n",
    "                bottom = np.zeros_like(top)\n",
    "                width = depth = 1\n",
    "                ax.bar3d(i, classt, bottom, width, depth, top, shade=True)"
   ]
  },
  {
   "cell_type": "code",
   "execution_count": null,
   "metadata": {},
   "outputs": [],
   "source": [
    "def slope_plot_ok(df):\n",
    "    fig, ax = plt.subplots(figsize=(20,20), dpi = 600)\n",
    "    ax = fig.add_subplot( projection='3d')\n",
    "    ax.view_init(15, 45)\n",
    "    ax.set_xlabel(\"Mesonet Sites\")\n",
    "    ax.set_ylabel(\"Aspect Slope Class\")\n",
    "    ax.tick_params(axis='x', labelsize=20)\n",
    "    ax.tick_params(axis='y', labelsize=20)\n",
    "    ax.tick_params(axis='z', labelsize=20)\n",
    "    ax.set_zlabel(\"Count\")\n",
    "    ax.set_title('Slopes')\n",
    "    station_ls = get_stations(df)\n",
    "    for i,_ in enumerate(station_ls):\n",
    "        df = pd.read_csv(f'/home/aevans/landtype/elevation/data/OK/slope/30km/{station_ls[i]}_slope_30km.csv')\n",
    "        for x,_ in df.iterrows():\n",
    "            dfv = df.iloc[x]\n",
    "            classt = dfv[2]\n",
    "            count_ = dfv[3]\n",
    "            if classt != 19:\n",
    "                top =  count_\n",
    "                bottom = np.zeros_like(top)\n",
    "                width = depth = 1\n",
    "                ax.bar3d(i, classt, bottom, width, depth, top, shade=True)"
   ]
  },
  {
   "cell_type": "code",
   "execution_count": null,
   "metadata": {},
   "outputs": [],
   "source": [
    "colors = ['black', 'blue', 'coral', 'pink', 'red', 'magenta', 'gray', 'lime']\n",
    "\n",
    "cats = ['Plateau', 'Great Lakes', 'ADK East', 'Elevated', 'Urban', 'Catskills', 'Valley', 'ADK West']\n",
    "\n",
    "legend = [0, 1, 2, 3, 4, 5, 6, 7]\n",
    "\n",
    "descripdict={}\n",
    "colordict={}\n",
    "\n",
    "for x,_ in enumerate(colors):\n",
    "    descripdict.update({legend[x] : cats[x]})\n",
    "    colordict.update({legend[x] : colors[x]})"
   ]
  },
  {
   "cell_type": "code",
   "execution_count": null,
   "metadata": {},
   "outputs": [],
   "source": [
    "df_cats = pd.read_csv('/home/aevans/landtype/df_new_cats.csv').drop(columns=['Unnamed: 0.1', 'Unnamed: 0','site_x', '11', '41', '42', '43', '52', '71', '81', '82', '90', '95', 'Unnamed: 0_x', 'lon_y', 'lat_y', 'site_y', '19', '25', '26', '27', '28', '33', '37', '32', '34', '38', '35', '36', 'Unnamed: 0_y'])"
   ]
  },
  {
   "cell_type": "code",
   "execution_count": null,
   "metadata": {},
   "outputs": [],
   "source": [
    "df_cats['color'] = df_cats['Cluster'].map(colordict)\n",
    "df_cats['cat'] = df_cats['Cluster'].map(descripdict)"
   ]
  },
  {
   "cell_type": "code",
   "execution_count": null,
   "metadata": {},
   "outputs": [],
   "source": [
    "patches = []\n",
    "for i,_ in enumerate(colors):\n",
    "        patch = mpatches.Patch(color=colors[i], label=cats[i])\n",
    "        patches.append(patch)"
   ]
  },
  {
   "cell_type": "code",
   "execution_count": null,
   "metadata": {},
   "outputs": [],
   "source": [
    "plurality_plot(df_cats)"
   ]
  },
  {
   "cell_type": "code",
   "execution_count": null,
   "metadata": {},
   "outputs": [],
   "source": [
    "convert_dict = {'div1': int,\n",
    "                'div2': int, \n",
    "                'div3': int, \n",
    "                'div4': int\n",
    "                }"
   ]
  },
  {
   "cell_type": "code",
   "execution_count": null,
   "metadata": {},
   "outputs": [],
   "source": [
    "# cluster 0\n",
    "cluster_0 = df_cats.where(df_cats['Cluster'] == 0).dropna()\n",
    "stack_df = stackbar_df(cluster_0)"
   ]
  },
  {
   "cell_type": "code",
   "execution_count": null,
   "metadata": {},
   "outputs": [],
   "source": [
    "elev_plot(cluster_0)"
   ]
  },
  {
   "cell_type": "code",
   "execution_count": null,
   "metadata": {},
   "outputs": [],
   "source": [
    "stackplot(stack_df)"
   ]
  },
  {
   "cell_type": "code",
   "execution_count": null,
   "metadata": {},
   "outputs": [],
   "source": [
    "slope_plot(stack_df)"
   ]
  },
  {
   "cell_type": "code",
   "execution_count": null,
   "metadata": {},
   "outputs": [],
   "source": [
    "# cluster 1\n",
    "cluster_1 = df_cats.where(df_cats['Cluster'] == 1).dropna()\n",
    "stack_df1 = stackbar_df(cluster_1)\n",
    "stackplot(stack_df1)"
   ]
  },
  {
   "cell_type": "code",
   "execution_count": null,
   "metadata": {},
   "outputs": [],
   "source": [
    "slope_plot(stack_df1)"
   ]
  },
  {
   "cell_type": "code",
   "execution_count": null,
   "metadata": {},
   "outputs": [],
   "source": [
    "elev_plot(cluster_1)"
   ]
  },
  {
   "cell_type": "code",
   "execution_count": null,
   "metadata": {},
   "outputs": [],
   "source": [
    "#cluster 2\n",
    "cluster_2 = df_cats.where(df_cats['Cluster'] == 2).dropna()\n",
    "stack_df2 = stackbar_df(cluster_2)\n",
    "stackplot(stack_df2)"
   ]
  },
  {
   "cell_type": "code",
   "execution_count": null,
   "metadata": {},
   "outputs": [],
   "source": [
    "slope_plot(stack_df2)"
   ]
  },
  {
   "cell_type": "code",
   "execution_count": null,
   "metadata": {},
   "outputs": [],
   "source": [
    "elev_plot(cluster_2)"
   ]
  },
  {
   "cell_type": "code",
   "execution_count": null,
   "metadata": {},
   "outputs": [],
   "source": [
    "#cluster 3\n",
    "cluster_3 = df_cats.where(df_cats['Cluster'] == 3).dropna()\n",
    "stack_df3 = stackbar_df(cluster_3)\n",
    "stackplot(stack_df3)"
   ]
  },
  {
   "cell_type": "code",
   "execution_count": null,
   "metadata": {},
   "outputs": [],
   "source": [
    "slope_plot(stack_df3)"
   ]
  },
  {
   "cell_type": "code",
   "execution_count": null,
   "metadata": {},
   "outputs": [],
   "source": [
    "elev_plot(cluster_3)"
   ]
  },
  {
   "cell_type": "code",
   "execution_count": null,
   "metadata": {},
   "outputs": [],
   "source": [
    "#cluster 4\n",
    "cluster_4 = df_cats.where(df_cats['Cluster'] == 4).dropna()\n",
    "stack_df4 = stackbar_df(cluster_4)\n",
    "stackplot(stack_df4)"
   ]
  },
  {
   "cell_type": "code",
   "execution_count": null,
   "metadata": {},
   "outputs": [],
   "source": [
    "slope_plot(stack_df4)"
   ]
  },
  {
   "cell_type": "code",
   "execution_count": null,
   "metadata": {},
   "outputs": [],
   "source": [
    "elev_plot(cluster_4)"
   ]
  },
  {
   "cell_type": "code",
   "execution_count": null,
   "metadata": {},
   "outputs": [],
   "source": [
    "#cluster 5\n",
    "cluster_5 = df_cats.where(df_cats['Cluster'] == 5).dropna()\n",
    "stack_df5 = stackbar_df(cluster_5)\n",
    "stackplot(stack_df5)"
   ]
  },
  {
   "cell_type": "code",
   "execution_count": null,
   "metadata": {},
   "outputs": [],
   "source": [
    "slope_plot(stack_df5)"
   ]
  },
  {
   "cell_type": "code",
   "execution_count": null,
   "metadata": {},
   "outputs": [],
   "source": [
    "elev_plot(cluster_5)"
   ]
  },
  {
   "cell_type": "code",
   "execution_count": null,
   "metadata": {},
   "outputs": [],
   "source": [
    "#cluster 6\n",
    "cluster_6 = df_cats.where(df_cats['Cluster'] == 6).dropna()\n",
    "stack_df6 = stackbar_df(cluster_6)\n",
    "stackplot(stack_df6)"
   ]
  },
  {
   "cell_type": "code",
   "execution_count": null,
   "metadata": {},
   "outputs": [],
   "source": [
    "slope_plot(stack_df6)"
   ]
  },
  {
   "cell_type": "code",
   "execution_count": null,
   "metadata": {},
   "outputs": [],
   "source": [
    "elev_plot(cluster_6)"
   ]
  },
  {
   "cell_type": "code",
   "execution_count": null,
   "metadata": {},
   "outputs": [],
   "source": [
    "#cluster 7\n",
    "cluster_7 = df_cats.where(df_cats['Cluster'] == 7).dropna()\n",
    "stack_df7 = stackbar_df(cluster_7)\n",
    "stackplot(stack_df7)"
   ]
  },
  {
   "cell_type": "code",
   "execution_count": null,
   "metadata": {},
   "outputs": [],
   "source": [
    "slope_plot(stack_df7)"
   ]
  },
  {
   "cell_type": "code",
   "execution_count": null,
   "metadata": {},
   "outputs": [],
   "source": [
    "elev_plot(cluster_7)"
   ]
  },
  {
   "cell_type": "markdown",
   "metadata": {},
   "source": [
    "# Let's Analyse Oklahoma"
   ]
  },
  {
   "cell_type": "code",
   "execution_count": null,
   "metadata": {},
   "outputs": [],
   "source": [
    "df_cats_ok = pd.read_csv('/home/aevans/landtype/df_new_cats_ok.csv').drop(columns=['Unnamed: 0.1', 'Unnamed: 0','color', 'site_x', '11', '21_x', '22_x', '23_x', '24_x', '41', '42',\n",
    "       '43', '52', '71', '81', '82', '90', '95', '31', 'Unnamed: 0_x','site_y', '19',\n",
    "       '25', '21_y', '23_y', '24_y', '27', '28', '22_y', '26', 'Unnamed: 0_y',])\n",
    "df_cats_ok.keys()"
   ]
  },
  {
   "cell_type": "code",
   "execution_count": null,
   "metadata": {},
   "outputs": [],
   "source": [
    "colors = ['black', 'blue', 'green', 'red', 'yellow', 'plum']\n",
    "\n",
    "cats = ['Panhandle/High Plains', 'Ouchita', 'Chocsaw/Green', 'Urban', 'Central Plains', 'Great Plains']\n",
    "\n",
    "legend = [0, 1, 2, 3, 4, 5]\n",
    "\n",
    "descripdict={}\n",
    "colordict={}\n",
    "\n",
    "for x,_ in enumerate(colors):\n",
    "    descripdict.update({legend[x] : cats[x]})\n",
    "    colordict.update({legend[x] : colors[x]})\n",
    "\n",
    "patches = []\n",
    "for i,_ in enumerate(colors):\n",
    "        patch = mpatches.Patch(color=colors[i], label=cats[i])\n",
    "        patches.append(patch)"
   ]
  },
  {
   "cell_type": "code",
   "execution_count": null,
   "metadata": {},
   "outputs": [],
   "source": [
    "df_cats_ok['color'] = df_cats_ok['Cluster'].map(colordict)\n",
    "df_cats_ok['cat'] = df_cats_ok['Cluster'].map(descripdict)"
   ]
  },
  {
   "cell_type": "code",
   "execution_count": null,
   "metadata": {},
   "outputs": [],
   "source": [
    "plurality_plot(df_cats_ok)"
   ]
  },
  {
   "cell_type": "code",
   "execution_count": null,
   "metadata": {},
   "outputs": [],
   "source": [
    "# cluster 0\n",
    "clust_0 = df_cats_ok.where(df_cats_ok['Cluster'] == 0).dropna()\n",
    "stack_df_ok = stackbar_df(clust_0)"
   ]
  },
  {
   "cell_type": "code",
   "execution_count": null,
   "metadata": {},
   "outputs": [],
   "source": [
    "elev_plot(clust_0)"
   ]
  },
  {
   "cell_type": "code",
   "execution_count": null,
   "metadata": {},
   "outputs": [],
   "source": [
    "stackplot(stack_df_ok)"
   ]
  },
  {
   "cell_type": "code",
   "execution_count": null,
   "metadata": {},
   "outputs": [],
   "source": [
    "slope_plot_ok(stack_df_ok)"
   ]
  },
  {
   "cell_type": "code",
   "execution_count": null,
   "metadata": {},
   "outputs": [],
   "source": [
    "# cluster 1\n",
    "clust_1 = df_cats_ok.where(df_cats_ok['Cluster'] == 1).dropna()\n",
    "stack_df_ok1 = stackbar_df(clust_1)"
   ]
  },
  {
   "cell_type": "code",
   "execution_count": null,
   "metadata": {},
   "outputs": [],
   "source": [
    "elev_plot(clust_1)"
   ]
  },
  {
   "cell_type": "code",
   "execution_count": null,
   "metadata": {},
   "outputs": [],
   "source": [
    "stackplot(stack_df_ok1)"
   ]
  },
  {
   "cell_type": "code",
   "execution_count": null,
   "metadata": {},
   "outputs": [],
   "source": [
    "slope_plot_ok(stack_df_ok1)"
   ]
  },
  {
   "cell_type": "code",
   "execution_count": null,
   "metadata": {},
   "outputs": [],
   "source": [
    "#cluster 2\n",
    "clust_2 = df_cats_ok.where(df_cats_ok['Cluster'] == 2).dropna()\n",
    "stack_df_ok2 = stackbar_df(clust_2)"
   ]
  },
  {
   "cell_type": "code",
   "execution_count": null,
   "metadata": {},
   "outputs": [],
   "source": [
    "elev_plot(clust_2)"
   ]
  },
  {
   "cell_type": "code",
   "execution_count": null,
   "metadata": {},
   "outputs": [],
   "source": [
    "stackplot(stack_df_ok2)"
   ]
  },
  {
   "cell_type": "code",
   "execution_count": null,
   "metadata": {},
   "outputs": [],
   "source": [
    "slope_plot_ok(stack_df_ok2)"
   ]
  },
  {
   "cell_type": "code",
   "execution_count": null,
   "metadata": {},
   "outputs": [],
   "source": [
    "#cluster 3\n",
    "clust_3 = df_cats_ok.where(df_cats_ok['Cluster'] == 3).dropna()\n",
    "stack_df_ok3 = stackbar_df(clust_3)"
   ]
  },
  {
   "cell_type": "code",
   "execution_count": null,
   "metadata": {},
   "outputs": [],
   "source": [
    "elev_plot(clust_3)"
   ]
  },
  {
   "cell_type": "code",
   "execution_count": null,
   "metadata": {},
   "outputs": [],
   "source": [
    "stackplot(stack_df_ok3)"
   ]
  },
  {
   "cell_type": "code",
   "execution_count": null,
   "metadata": {},
   "outputs": [],
   "source": [
    "slope_plot_ok(stack_df_ok3)"
   ]
  },
  {
   "cell_type": "code",
   "execution_count": null,
   "metadata": {},
   "outputs": [],
   "source": [
    "#cluster 4\n",
    "clust_4 = df_cats_ok.where(df_cats_ok['Cluster'] == 4).dropna()\n",
    "stack_df_ok4 = stackbar_df(clust_4)"
   ]
  },
  {
   "cell_type": "code",
   "execution_count": null,
   "metadata": {},
   "outputs": [],
   "source": [
    "elev_plot(clust_4)"
   ]
  },
  {
   "cell_type": "code",
   "execution_count": null,
   "metadata": {},
   "outputs": [],
   "source": [
    "stackplot(stack_df_ok4)"
   ]
  },
  {
   "cell_type": "code",
   "execution_count": null,
   "metadata": {},
   "outputs": [],
   "source": [
    "slope_plot_ok(stack_df_ok4)"
   ]
  },
  {
   "cell_type": "code",
   "execution_count": null,
   "metadata": {},
   "outputs": [],
   "source": [
    "#cluster 5\n",
    "clust_5 = df_cats_ok.where(df_cats_ok['Cluster'] == 5).dropna()\n",
    "stack_df_ok5 = stackbar_df(clust_5)"
   ]
  },
  {
   "cell_type": "code",
   "execution_count": null,
   "metadata": {},
   "outputs": [],
   "source": [
    "elev_plot(clust_5)"
   ]
  },
  {
   "cell_type": "code",
   "execution_count": null,
   "metadata": {},
   "outputs": [],
   "source": [
    "stackplot(stack_df_ok5)"
   ]
  },
  {
   "cell_type": "code",
   "execution_count": null,
   "metadata": {},
   "outputs": [],
   "source": [
    "slope_plot_ok(stack_df_ok5)"
   ]
  }
 ],
 "metadata": {
  "kernelspec": {
   "display_name": "Python 3.9.13 ('base': conda)",
   "language": "python",
   "name": "python3"
  },
  "language_info": {
   "codemirror_mode": {
    "name": "ipython",
    "version": 3
   },
   "file_extension": ".py",
   "mimetype": "text/x-python",
   "name": "python",
   "nbconvert_exporter": "python",
   "pygments_lexer": "ipython3",
   "version": "3.9.13"
  },
  "orig_nbformat": 4,
  "vscode": {
   "interpreter": {
    "hash": "44818f36aeaf89db1a1d21a2bee6031a28b4e41595a65903b38b9b0c4417365f"
   }
  }
 },
 "nbformat": 4,
 "nbformat_minor": 2
}
