{
 "cells": [
  {
   "cell_type": "code",
   "execution_count": null,
   "metadata": {},
   "outputs": [],
   "source": [
    "%load_ext autoreload\n",
    "%autoreload 2\n",
    "import sys\n",
    "\n",
    "# instead of creating a package using setup.py or building from a docker/singularity file,\n",
    "# import the sister directory of src code to be called on in notebook.\n",
    "# This keeps the notebook free from code to only hold visualizations and is easier to test\n",
    "# It also helps keep the state of variables clean such that cells aren't run out of order with a mysterious state\n",
    "sys.path.append(\"..\")"
   ]
  },
  {
   "cell_type": "code",
   "execution_count": null,
   "metadata": {},
   "outputs": [],
   "source": [
    "%matplotlib inline\n",
    "import pandas as pd\n",
    "import matplotlib.pyplot as plt\n",
    "from matplotlib import cm\n",
    "import seaborn as sns\n",
    "import numpy as np\n",
    "import calendar\n",
    "import time\n",
    "from matplotlib import colors\n",
    "from sklearn import preprocessing\n",
    "import cartopy.crs as crs\n",
    "import cartopy.feature as cfeature\n",
    "import scipy\n",
    "import geopandas\n",
    "import fiona\n",
    "\n",
    "from src import format_nwp_error_df\n",
    "from src import format_climate_df\n",
    "from src import read_data_clim\n",
    "from src import extract_index_by_year\n",
    "from src import ny_plot"
   ]
  },
  {
   "cell_type": "code",
   "execution_count": null,
   "metadata": {},
   "outputs": [],
   "source": [
    "def plot_heatmap(df, corr_type):\n",
    "    fig, ax = plt.subplots(figsize=(12, 9))\n",
    "    ax.set_title(f\"{corr_type} Correlation Coefficients by Elevation\")\n",
    "    ax = sns.heatmap(df.T, vmin=-1, vmax=1, cmap=cm.seismic, annot=True)\n",
    "    ax.set_ylabel(\"Month\")\n",
    "    ax.set_xlabel(\"Elevation\")\n",
    "    plt.tight_layout()"
   ]
  },
  {
   "cell_type": "code",
   "execution_count": null,
   "metadata": {},
   "outputs": [],
   "source": [
    "nysm_df = pd.read_csv(\"/home/aevans/nwp_bias/src/landtype/notebooks/nysm_coords.csv\")\n",
    "station_ls = nysm_df[\"station\"].tolist()\n",
    "lon_ls = nysm_df[\"longitude\"].tolist()\n",
    "lat_ls = nysm_df[\"latitude\"].tolist()"
   ]
  },
  {
   "cell_type": "code",
   "execution_count": null,
   "metadata": {},
   "outputs": [],
   "source": [
    "index_path = \"/home/aevans/nwp_bias/src/correlation/data/indexes/amo.txt\""
   ]
  },
  {
   "cell_type": "code",
   "execution_count": null,
   "metadata": {},
   "outputs": [],
   "source": [
    "climate_df = format_climate_df.format_climate_df(index_path)"
   ]
  },
  {
   "cell_type": "markdown",
   "metadata": {},
   "source": [
    "# GFS"
   ]
  },
  {
   "cell_type": "code",
   "execution_count": null,
   "metadata": {},
   "outputs": [],
   "source": [
    "gfs_df = pd.DataFrame()\n",
    "for year in np.arange(2018, 2022):\n",
    "    init = \"12\"\n",
    "    year = year\n",
    "\n",
    "    (\n",
    "        gfs_fcast_and_error_df,\n",
    "        nam_fcast_and_error_df,\n",
    "        hrrr_fcast_and_error_df,\n",
    "    ) = read_data_clim.read_data(init, year)\n",
    "    gfs_fcast_and_error_df = gfs_fcast_and_error_df.reset_index()\n",
    "    nam_fcast_and_error_df = nam_fcast_and_error_df.reset_index()\n",
    "    hrrr_fcast_and_error_df = hrrr_fcast_and_error_df.reset_index()\n",
    "\n",
    "    pers_ls = []\n",
    "    p_score_ls = []\n",
    "\n",
    "    Y = extract_index_by_year.extract_index_by_year(year, climate_df)\n",
    "    months_df = format_nwp_error_df.format_df(gfs_fcast_and_error_df)\n",
    "\n",
    "    for station in station_ls:\n",
    "        station_df = months_df[months_df[\"station\"] == station]\n",
    "        X = station_df[\"t2m_error\"]\n",
    "        if X.shape == Y.shape:\n",
    "            pers = scipy.stats.pearsonr(X, Y)[0]\n",
    "            p_score = scipy.stats.pearsonr(X, Y)[1]\n",
    "\n",
    "            pers_ls.append(pers)\n",
    "            p_score_ls.append(p_score)\n",
    "\n",
    "        else:\n",
    "            pers_ls.append(-999.99)\n",
    "            p_score_ls.append(-999.99)\n",
    "\n",
    "    df1 = pd.DataFrame()\n",
    "    df1[\"station\"] = station_ls\n",
    "    df1[\"pers\"] = pers_ls\n",
    "    df1[\"p_score\"] = p_score_ls\n",
    "    df1[\"longitude\"] = lon_ls\n",
    "    df1[\"latitude\"] = lat_ls\n",
    "    df1[\"year\"] = str(year)\n",
    "\n",
    "    gfs_df = pd.concat([df1, gfs_df])\n",
    "    ny_plot.ny_plot(df1, \"GFS\", \"AMO\", year)"
   ]
  },
  {
   "cell_type": "code",
   "execution_count": null,
   "metadata": {},
   "outputs": [],
   "source": [
    "gfs_df[\"model\"] = \"GFS\"\n",
    "gfs_df"
   ]
  },
  {
   "cell_type": "markdown",
   "metadata": {},
   "source": [
    "# HRRR"
   ]
  },
  {
   "cell_type": "code",
   "execution_count": null,
   "metadata": {},
   "outputs": [],
   "source": [
    "hrrr_df = pd.DataFrame()\n",
    "for year in np.arange(2018, 2022):\n",
    "    init = \"12\"\n",
    "    year = year\n",
    "\n",
    "    (\n",
    "        gfs_fcast_and_error_df,\n",
    "        nam_fcast_and_error_df,\n",
    "        hrrr_fcast_and_error_df,\n",
    "    ) = read_data_clim.read_data(init, year)\n",
    "    gfs_fcast_and_error_df = gfs_fcast_and_error_df.reset_index()\n",
    "    nam_fcast_and_error_df = nam_fcast_and_error_df.reset_index()\n",
    "    hrrr_fcast_and_error_df = hrrr_fcast_and_error_df.reset_index()\n",
    "\n",
    "    pers_ls = []\n",
    "    p_score_ls = []\n",
    "\n",
    "    Y = extract_index_by_year.extract_index_by_year(year, climate_df)\n",
    "    months_df = format_nwp_error_df.format_df(hrrr_fcast_and_error_df)\n",
    "\n",
    "    for station in station_ls:\n",
    "        station_df = months_df[months_df[\"station\"] == station]\n",
    "        X = station_df[\"t2m_error\"]\n",
    "        if X.shape == Y.shape:\n",
    "            pers = scipy.stats.pearsonr(X, Y)[0]\n",
    "            p_score = scipy.stats.pearsonr(X, Y)[1]\n",
    "\n",
    "            pers_ls.append(pers)\n",
    "            p_score_ls.append(p_score)\n",
    "\n",
    "        else:\n",
    "            pers_ls.append(-999.99)\n",
    "            p_score_ls.append(-999.99)\n",
    "\n",
    "    df1 = pd.DataFrame()\n",
    "    df1[\"station\"] = station_ls\n",
    "    df1[\"pers\"] = pers_ls\n",
    "    df1[\"p_score\"] = p_score_ls\n",
    "    df1[\"longitude\"] = lon_ls\n",
    "    df1[\"latitude\"] = lat_ls\n",
    "    df1[\"year\"] = str(year)\n",
    "\n",
    "    hrrr_df = pd.concat([df1, hrrr_df])\n",
    "    ny_plot.ny_plot(df1, \"HRRR\", \"AMO\", year)"
   ]
  },
  {
   "cell_type": "code",
   "execution_count": null,
   "metadata": {},
   "outputs": [],
   "source": [
    "hrrr_df[\"model\"] = \"HRRR\"\n",
    "hrrr_df"
   ]
  },
  {
   "cell_type": "markdown",
   "metadata": {},
   "source": [
    "# NAM"
   ]
  },
  {
   "cell_type": "code",
   "execution_count": null,
   "metadata": {},
   "outputs": [],
   "source": [
    "nam_df = pd.DataFrame()\n",
    "for year in np.arange(2018, 2022):\n",
    "    init = \"12\"\n",
    "    year = year\n",
    "\n",
    "    (\n",
    "        gfs_fcast_and_error_df,\n",
    "        nam_fcast_and_error_df,\n",
    "        hrrr_fcast_and_error_df,\n",
    "    ) = read_data_clim.read_data(init, year)\n",
    "    gfs_fcast_and_error_df = gfs_fcast_and_error_df.reset_index()\n",
    "    nam_fcast_and_error_df = nam_fcast_and_error_df.reset_index()\n",
    "    hrrr_fcast_and_error_df = hrrr_fcast_and_error_df.reset_index()\n",
    "\n",
    "    pers_ls = []\n",
    "    p_score_ls = []\n",
    "\n",
    "    Y = extract_index_by_year.extract_index_by_year(year, climate_df)\n",
    "    months_df = format_nwp_error_df.format_df(nam_fcast_and_error_df)\n",
    "\n",
    "    for station in station_ls:\n",
    "        station_df = months_df[months_df[\"station\"] == station]\n",
    "        X = station_df[\"t2m_error\"]\n",
    "        if X.shape == Y.shape:\n",
    "            pers = scipy.stats.pearsonr(X, Y)[0]\n",
    "            p_score = scipy.stats.pearsonr(X, Y)[1]\n",
    "\n",
    "            pers_ls.append(pers)\n",
    "            p_score_ls.append(p_score)\n",
    "\n",
    "        else:\n",
    "            pers_ls.append(-999.99)\n",
    "            p_score_ls.append(-999.99)\n",
    "\n",
    "    df1 = pd.DataFrame()\n",
    "    df1[\"station\"] = station_ls\n",
    "    df1[\"pers\"] = pers_ls\n",
    "    df1[\"p_score\"] = p_score_ls\n",
    "    df1[\"longitude\"] = lon_ls\n",
    "    df1[\"latitude\"] = lat_ls\n",
    "    df1[\"year\"] = str(year)\n",
    "\n",
    "    nam_df = pd.concat([df1, nam_df])\n",
    "    ny_plot.ny_plot(df1, \"NAM\", \"AMO\", year)"
   ]
  },
  {
   "cell_type": "code",
   "execution_count": null,
   "metadata": {},
   "outputs": [],
   "source": [
    "nam_df[\"model\"] = \"NAM\"\n",
    "nam_df"
   ]
  },
  {
   "cell_type": "code",
   "execution_count": null,
   "metadata": {},
   "outputs": [],
   "source": [
    "amo_df = pd.concat([gfs_df, hrrr_df, nam_df])\n",
    "amo_df.to_csv(\"/home/aevans/nwp_bias/src/correlation/data/indexes/csv/amo.csv\")"
   ]
  }
 ],
 "metadata": {
  "kernelspec": {
   "display_name": "Python 3.9.16 ('base': conda)",
   "language": "python",
   "name": "python3"
  },
  "language_info": {
   "codemirror_mode": {
    "name": "ipython",
    "version": 3
   },
   "file_extension": ".py",
   "mimetype": "text/x-python",
   "name": "python",
   "nbconvert_exporter": "python",
   "pygments_lexer": "ipython3",
   "version": "3.9.16"
  },
  "orig_nbformat": 4,
  "vscode": {
   "interpreter": {
    "hash": "44818f36aeaf89db1a1d21a2bee6031a28b4e41595a65903b38b9b0c4417365f"
   }
  }
 },
 "nbformat": 4,
 "nbformat_minor": 2
}
