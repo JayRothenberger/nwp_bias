{
 "cells": [
  {
   "cell_type": "code",
   "execution_count": 22,
   "metadata": {},
   "outputs": [],
   "source": [
    "%matplotlib inline\n",
    "import calendar\n",
    "import time\n",
    "\n",
    "import boto\n",
    "import cartopy.crs as crs\n",
    "import cartopy.feature as cfeature\n",
    "import matplotlib.pyplot as plt\n",
    "import numpy as np\n",
    "import pandas as pd\n",
    "import scipy\n",
    "import seaborn as sns\n",
    "import sklearn\n",
    "from matplotlib import cm, colors\n",
    "from sklearn import preprocessing\n",
    "from sklearn.cross_decomposition import CCA\n"
   ]
  },
  {
   "cell_type": "code",
   "execution_count": 23,
   "metadata": {},
   "outputs": [],
   "source": [
    "def read_data(init):\n",
    "    years = [\"2018\", \"2019\", \"2020\", \"2021\"]\n",
    "    savedir = \"/home/aevans/ai2es/processed_data/frcst_err/\"\n",
    "\n",
    "    nam_fcast_and_error = []\n",
    "    gfs_fcast_and_error = []\n",
    "    hrrr_fcast_and_error = []\n",
    "\n",
    "    for year in years:\n",
    "        nam_fcast_and_error.append(\n",
    "            pd.read_parquet(\n",
    "                f\"{savedir}nam_fcast_and_error_df_{init}z_{year}_mask_water_ny.parquet\"\n",
    "            )\n",
    "        )\n",
    "        gfs_fcast_and_error.append(\n",
    "            pd.read_parquet(\n",
    "                f\"{savedir}gfs_fcast_and_error_df_{init}z_{year}_mask_water_ny.parquet\"\n",
    "            )\n",
    "        )\n",
    "        hrrr_fcast_and_error.append(\n",
    "            pd.read_parquet(\n",
    "                f\"{savedir}hrrr_fcast_and_error_df_{init}z_{year}_mask_water_ny.parquet\"\n",
    "            )\n",
    "        )\n",
    "\n",
    "    nam_fcast_and_error_df = pd.concat(nam_fcast_and_error)\n",
    "    gfs_fcast_and_error_df = pd.concat(gfs_fcast_and_error)\n",
    "    hrrr_fcast_and_error_df = pd.concat(hrrr_fcast_and_error)\n",
    "\n",
    "    # need to remove the random forecasts that have forecast hours 0\n",
    "    # these are random because they only exist in the files that Ryan T. provided\n",
    "    gfs_fcast_and_error_df = gfs_fcast_and_error_df[\n",
    "        gfs_fcast_and_error_df[\"lead_time_ONLY_HOURS\"] != 0.0\n",
    "    ]\n",
    "    nam_fcast_and_error_df = nam_fcast_and_error_df[\n",
    "        nam_fcast_and_error_df[\"lead_time_ONLY_HOURS\"] != 0.0\n",
    "    ]\n",
    "    hrrr_fcast_and_error_df = hrrr_fcast_and_error_df[\n",
    "        hrrr_fcast_and_error_df[\"lead_time_ONLY_HOURS\"] != 0.0\n",
    "    ]\n",
    "    return gfs_fcast_and_error_df, nam_fcast_and_error_df, hrrr_fcast_and_error_df"
   ]
  },
  {
   "cell_type": "code",
   "execution_count": 24,
   "metadata": {},
   "outputs": [],
   "source": [
    "def format_df(df):\n",
    "    df = df[df['lead_time_HOUR'] <= 18]\n",
    "    error_months = (\n",
    "            df.groupby([df.time.dt.month, \"station\"])[\n",
    "                f\"t2m_error\"\n",
    "            ]\n",
    "            .mean()\n",
    "        ).to_frame().reset_index()\n",
    "    return error_months"
   ]
  },
  {
   "cell_type": "code",
   "execution_count": 25,
   "metadata": {},
   "outputs": [],
   "source": [
    "def canonical(lulc):\n",
    "    X = lulc.drop(columns='error')\n",
    "    Y = lulc[['error']]\n",
    "    X_mc = (X-X.mean())/(X.std())\n",
    "    Y_mc = (Y-Y.mean())/(Y.std())\n",
    "    ca = CCA(n_components=1)\n",
    "    ca.fit(X_mc, Y_mc)\n",
    "    X_c, Y_c = ca.transform(X_mc, Y_mc)\n",
    "    cc_res = pd.DataFrame({\"CCX_1\":X_c[:, 0],\n",
    "                       \"CCY_1\":Y_c[:, 0],\n",
    "                       \"19\":lulc['19'].tolist(),\n",
    "                       \"23\":lulc['23'].tolist(), \n",
    "                       \"26\":lulc['26'].tolist(), \n",
    "                       \"28\":lulc['28'].tolist(), \n",
    "                       \"27\":lulc['27'].tolist(), \n",
    "                       \"24\":lulc['24'].tolist(), \n",
    "                       \"25\":lulc['25'].tolist(), \n",
    "                       \"22\":lulc['22'].tolist(), \n",
    "                       \"32\":lulc['32'].tolist(), \n",
    "                       })\n",
    "    corr = np.corrcoef(X_c[:, 0], Y_c[:, 0])[0,1]\n",
    "    return corr"
   ]
  },
  {
   "cell_type": "code",
   "execution_count": 26,
   "metadata": {},
   "outputs": [],
   "source": [
    "def main(months_df, lulc):\n",
    "    corr_ls = []\n",
    "    for i in np.arange(1,13):\n",
    "        df = months_df[months_df['time'] ==i]\n",
    "        months = df['t2m_error'].to_list()\n",
    "        lulc['error'] = months\n",
    "        corr = canonical(lulc)\n",
    "        corr_ls.append(corr)\n",
    "    return corr_ls"
   ]
  },
  {
   "cell_type": "code",
   "execution_count": 27,
   "metadata": {},
   "outputs": [],
   "source": [
    "def plot_heatmap(corr_ls):\n",
    "    df = pd.DataFrame(corr_ls, index=np.arange(1,13))\n",
    "    fig, ax = plt.subplots(figsize=(9,6))\n",
    "    ax.set_title(f'Canonical Correlation Coefficients by Landtype')\n",
    "    ax = sns.heatmap(df, vmin = 0, vmax = 1, cmap=cm.YlGnBu, annot = True)\n",
    "    ax.set_ylabel('Month')\n",
    "    ax.set_xlabel('Aspect/Slope')\n",
    "    plt.tight_layout()"
   ]
  },
  {
   "cell_type": "code",
   "execution_count": 28,
   "metadata": {},
   "outputs": [],
   "source": [
    "init = \"12\"\n",
    "\n",
    "gfs_fcast_and_error_df, nam_fcast_and_error_df, hrrr_fcast_and_error_df = read_data(\n",
    "    init\n",
    ")\n",
    "gfs_fcast_and_error_df = gfs_fcast_and_error_df.reset_index()\n",
    "nam_fcast_and_error_df = nam_fcast_and_error_df.reset_index()\n",
    "hrrr_fcast_and_error_df = hrrr_fcast_and_error_df.reset_index()"
   ]
  },
  {
   "cell_type": "code",
   "execution_count": 29,
   "metadata": {},
   "outputs": [],
   "source": [
    "lulc = pd.read_csv('/home/aevans/nwp_bias/src/correlation/data/aspect_hrrr.csv')\n",
    "lulc = lulc.drop(columns=['site', 'station'])\n",
    "keys = lulc.keys()"
   ]
  },
  {
   "cell_type": "code",
   "execution_count": 30,
   "metadata": {},
   "outputs": [
    {
     "data": {
      "text/plain": [
       "Index(['19', '23', '26', '28', '27', '24', '25', '22', '32'], dtype='object')"
      ]
     },
     "execution_count": 30,
     "metadata": {},
     "output_type": "execute_result"
    }
   ],
   "source": [
    "keys"
   ]
  },
  {
   "cell_type": "markdown",
   "metadata": {},
   "source": [
    "# HRRR"
   ]
  },
  {
   "cell_type": "code",
   "execution_count": 31,
   "metadata": {},
   "outputs": [],
   "source": [
    "months_df = format_df(hrrr_fcast_and_error_df)"
   ]
  },
  {
   "cell_type": "code",
   "execution_count": 32,
   "metadata": {},
   "outputs": [],
   "source": [
    "corr_ls = main(months_df, lulc)"
   ]
  },
  {
   "cell_type": "code",
   "execution_count": 33,
   "metadata": {},
   "outputs": [
    {
     "data": {
      "image/png": "[encoded data removed]",
      "text/plain": [
       "<Figure size 900x600 with 2 Axes>"
      ]
     },
     "metadata": {},
     "output_type": "display_data"
    }
   ],
   "source": [
    "plot_heatmap(corr_ls)"
   ]
  },
  {
   "cell_type": "code",
   "execution_count": 34,
   "metadata": {},
   "outputs": [],
   "source": [
    "# # Obtain the rotation matrices\n",
    "# xrot = ca.x_rotations_\n",
    "# yrot = ca.y_rotations_\n",
    "\n",
    "# # Put them together in a numpy matrix\n",
    "# xyrot = np.vstack((xrot,yrot))\n",
    "\n",
    "# nvariables = xyrot.shape[0]\n",
    "\n",
    "# plt.figure(figsize=(15, 15))\n",
    "# plt.xlim((-1,1))\n",
    "# plt.ylim((-1,1))\n",
    "\n",
    "# # Plot an arrow and a text label for each variable\n",
    "# for var_i in range(nvariables):\n",
    "#   x = xyrot[var_i,0]\n",
    "#   y = xyrot[var_i,1]\n",
    "\n",
    "#   plt.arrow(0,0,x,y)\n",
    "#   plt.text(x,y,data.columns[i], color='red' if i >= 6 else 'blue')\n",
    "\n",
    "# plt.show()"
   ]
  },
  {
   "cell_type": "code",
   "execution_count": null,
   "metadata": {},
   "outputs": [],
   "source": []
  }
 ],
 "metadata": {
  "kernelspec": {
   "display_name": "Python 3.9.16 ('base': conda)",
   "language": "python",
   "name": "python3"
  },
  "language_info": {
   "codemirror_mode": {
    "name": "ipython",
    "version": 3
   },
   "file_extension": ".py",
   "mimetype": "text/x-python",
   "name": "python",
   "nbconvert_exporter": "python",
   "pygments_lexer": "ipython3",
   "version": "3.9.16"
  },
  "orig_nbformat": 4,
  "vscode": {
   "interpreter": {
    "hash": "44818f36aeaf89db1a1d21a2bee6031a28b4e41595a65903b38b9b0c4417365f"
   }
  }
 },
 "nbformat": 4,
 "nbformat_minor": 2
}
