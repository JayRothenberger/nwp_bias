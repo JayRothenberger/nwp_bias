{
 "cells": [
  {
   "cell_type": "code",
   "execution_count": 1,
   "id": "5a77c4d0-3fda-4df7-9fae-efb77403031f",
   "metadata": {},
   "outputs": [
    {
     "name": "stderr",
     "output_type": "stream",
     "text": [
      "<frozen importlib._bootstrap>:228: RuntimeWarning: scipy._lib.messagestream.MessageStream size changed, may indicate binary incompatibility. Expected 56 from C header, got 64 from PyObject\n"
     ]
    }
   ],
   "source": [
    "%matplotlib inline\n",
    "import pandas as pd\n",
    "import matplotlib.pyplot as plt\n",
    "import seaborn as sns\n",
    "from matplotlib import colors\n",
    "from sklearn import tree\n",
    "from sklearn.ensemble import RandomForestRegressor"
   ]
  },
  {
   "cell_type": "code",
   "execution_count": 2,
   "id": "19a15cc0",
   "metadata": {},
   "outputs": [],
   "source": [
    "def read_data(init):\n",
    "    \"\"\"\n",
    "    Reads and concatenates parquet files containing forecast and error data for GFS, NAM, and HRRR weather models\n",
    "    for the years 2018 to 2021, with random forecasts that have a forecast hour of 0 removed.\n",
    "\n",
    "    Args:\n",
    "        init (str): A string representing the initial time of the forecast (in UTC).\n",
    "\n",
    "    Returns:\n",
    "        tuple of pandas.DataFrame: A tuple containing three dataframes, one for each weather model, with random\n",
    "        forecasts that have a forecast hour of 0 removed.\n",
    "    \"\"\"\n",
    "    years = [\"2018\", \"2019\", \"2020\", \"2021\"]\n",
    "    savedir = \"/home/aevans/ai2es/processed_data/frcst_err/\"\n",
    "\n",
    "    # create empty lists to hold dataframes for each model\n",
    "    nam_fcast_and_error = []\n",
    "    gfs_fcast_and_error = []\n",
    "    hrrr_fcast_and_error = []\n",
    "\n",
    "    # loop over years and read in parquet files for each model\n",
    "    for year in years:\n",
    "        nam_fcast_and_error.append(\n",
    "            pd.read_parquet(\n",
    "                f\"{savedir}nam_fcast_and_error_df_{init}z_{year}_mask_water_ny.parquet\"\n",
    "            )\n",
    "        )\n",
    "        gfs_fcast_and_error.append(\n",
    "            pd.read_parquet(\n",
    "                f\"{savedir}gfs_fcast_and_error_df_{init}z_{year}_mask_water_ny.parquet\"\n",
    "            )\n",
    "        )\n",
    "        hrrr_fcast_and_error.append(\n",
    "            pd.read_parquet(\n",
    "                f\"{savedir}hrrr_fcast_and_error_df_{init}z_{year}_mask_water_ny.parquet\"\n",
    "            )\n",
    "        )\n",
    "\n",
    "    # concatenate dataframes for each model\n",
    "    nam_fcast_and_error_df = pd.concat(nam_fcast_and_error)\n",
    "    gfs_fcast_and_error_df = pd.concat(gfs_fcast_and_error)\n",
    "    hrrr_fcast_and_error_df = pd.concat(hrrr_fcast_and_error)\n",
    "\n",
    "    # remove random forecasts that have forecast hours 0 for each model\n",
    "    gfs_fcast_and_error_df = gfs_fcast_and_error_df[\n",
    "        gfs_fcast_and_error_df[\"lead_time_ONLY_HOURS\"] != 0.0\n",
    "    ]\n",
    "    nam_fcast_and_error_df = nam_fcast_and_error_df[\n",
    "        nam_fcast_and_error_df[\"lead_time_ONLY_HOURS\"] != 0.0\n",
    "    ]\n",
    "    hrrr_fcast_and_error_df = hrrr_fcast_and_error_df[\n",
    "        hrrr_fcast_and_error_df[\"lead_time_ONLY_HOURS\"] != 0.0\n",
    "    ]\n",
    "\n",
    "    # return dataframes for each model\n",
    "    return gfs_fcast_and_error_df, nam_fcast_and_error_df, hrrr_fcast_and_error_df"
   ]
  },
  {
   "cell_type": "markdown",
   "id": "560e931c-6145-4980-b47e-7006be51e04d",
   "metadata": {},
   "source": [
    "### Next steps include:\n",
    "* Training on more than 1 year of data.\n",
    "* Trying out different variables\n",
    "* Predicting ONE forecast time, not an entire year's worth"
   ]
  },
  {
   "cell_type": "code",
   "execution_count": 3,
   "id": "2e5afca2-99e7-43c6-965a-793489611cfa",
   "metadata": {},
   "outputs": [],
   "source": [
    "init = \"12\"\n",
    "\n",
    "gfs_fcast_and_error_df, nam_fcast_and_error_df, hrrr_fcast_and_error_df = read_data(\n",
    "    init\n",
    ")\n",
    "\n",
    "hrrr = hrrr_fcast_and_error_df.copy()"
   ]
  },
  {
   "cell_type": "code",
   "execution_count": 4,
   "id": "9f995d6e-4cd5-49a6-90e5-9b476d8aa8b8",
   "metadata": {},
   "outputs": [],
   "source": [
    "hrrr_2018 = hrrr.query(\"time > 2017 and time < 2019\")\n",
    "hrrr_2019 = hrrr.query(\"time > 2018 and time < 2020\")"
   ]
  },
  {
   "cell_type": "code",
   "execution_count": 5,
   "id": "1ac1cfa6-36a9-4349-b040-ccea8a279136",
   "metadata": {},
   "outputs": [],
   "source": [
    "hrrr_2018 = hrrr_2018.drop(columns=[\"latitude\", \"longitude\"])\n",
    "hrrr_2019 = hrrr_2019.drop(columns=[\"latitude\", \"longitude\"])"
   ]
  },
  {
   "cell_type": "code",
   "execution_count": 6,
   "id": "0398bfc3-e65a-4e3e-9eab-77106f6afee7",
   "metadata": {},
   "outputs": [
    {
     "data": {
      "text/plain": [
       "Index(['t2m_HRRR', 'd2m_HRRR', 'u_total_HRRR', 'u_dir_HRRR', 'new_tp_HRRR',\n",
       "       'mslma_HRRR', 'orog', 't2m_error', 'd2m_error', 'u_total_error',\n",
       "       'u_dir_error', 'new_tp_error', 'mslma_error', 't2m_nysm', 'd2m_nysm',\n",
       "       'u_total_nysm', 'u_dir_nysm', 'new_tp_nysm', 'mslma_nysm',\n",
       "       'lead_time_DAY', 'lead_time_HOUR', 'lead_time_ONLY_HOURS'],\n",
       "      dtype='object')"
      ]
     },
     "execution_count": 6,
     "metadata": {},
     "output_type": "execute_result"
    }
   ],
   "source": [
    "hrrr_2018.keys()"
   ]
  },
  {
   "cell_type": "code",
   "execution_count": 7,
   "id": "c453cbcb-382a-4b61-b970-23ec11b131db",
   "metadata": {},
   "outputs": [],
   "source": [
    "# given the forecast & error statistics for the HRRR above, can we train a model\n",
    "# to output what the observation will actually be based on the error column?\n",
    "# or output the likelihood of that forecast verifying against the NYSM observations?"
   ]
  },
  {
   "cell_type": "code",
   "execution_count": 9,
   "id": "f99a306c-5666-46c9-b80e-b66e5ca6a7d3",
   "metadata": {},
   "outputs": [
    {
     "data": {
      "text/plain": [
       "<matplotlib.collections.PathCollection at 0x7f7120fc2fa0>"
      ]
     },
     "execution_count": 9,
     "metadata": {},
     "output_type": "execute_result"
    },
    {
     "data": {
      "image/png": "[encoded data removed]",
      "text/plain": [
       "<Figure size 640x480 with 1 Axes>"
      ]
     },
     "metadata": {},
     "output_type": "display_data"
    }
   ],
   "source": [
    "plt.scatter(hrrr_2018[\"new_tp_HRRR\"], hrrr_2018[\"new_tp_error\"])\n",
    "# plt.xlim(-30,30)\n",
    "# plt.ylim(-20,20)"
   ]
  },
  {
   "cell_type": "code",
   "execution_count": 10,
   "id": "cccae376-95a2-4d06-bb43-26568384f679",
   "metadata": {},
   "outputs": [
    {
     "data": {
      "text/html": [
       "<div>\n",
       "<style scoped>\n",
       "    .dataframe tbody tr th:only-of-type {\n",
       "        vertical-align: middle;\n",
       "    }\n",
       "\n",
       "    .dataframe tbody tr th {\n",
       "        vertical-align: top;\n",
       "    }\n",
       "\n",
       "    .dataframe thead th {\n",
       "        text-align: right;\n",
       "    }\n",
       "</style>\n",
       "<table border=\"1\" class=\"dataframe\">\n",
       "  <thead>\n",
       "    <tr style=\"text-align: right;\">\n",
       "      <th></th>\n",
       "      <th></th>\n",
       "      <th></th>\n",
       "      <th>t2m_HRRR</th>\n",
       "      <th>d2m_HRRR</th>\n",
       "      <th>u_total_HRRR</th>\n",
       "      <th>u_dir_HRRR</th>\n",
       "      <th>latitude</th>\n",
       "      <th>longitude</th>\n",
       "      <th>new_tp_HRRR</th>\n",
       "      <th>mslma_HRRR</th>\n",
       "      <th>orog</th>\n",
       "      <th>t2m_error</th>\n",
       "      <th>...</th>\n",
       "      <th>mslma_error</th>\n",
       "      <th>t2m_nysm</th>\n",
       "      <th>d2m_nysm</th>\n",
       "      <th>u_total_nysm</th>\n",
       "      <th>u_dir_nysm</th>\n",
       "      <th>new_tp_nysm</th>\n",
       "      <th>mslma_nysm</th>\n",
       "      <th>lead_time_DAY</th>\n",
       "      <th>lead_time_HOUR</th>\n",
       "      <th>lead_time_ONLY_HOURS</th>\n",
       "    </tr>\n",
       "    <tr>\n",
       "      <th>station</th>\n",
       "      <th>valid_time</th>\n",
       "      <th>time</th>\n",
       "      <th></th>\n",
       "      <th></th>\n",
       "      <th></th>\n",
       "      <th></th>\n",
       "      <th></th>\n",
       "      <th></th>\n",
       "      <th></th>\n",
       "      <th></th>\n",
       "      <th></th>\n",
       "      <th></th>\n",
       "      <th></th>\n",
       "      <th></th>\n",
       "      <th></th>\n",
       "      <th></th>\n",
       "      <th></th>\n",
       "      <th></th>\n",
       "      <th></th>\n",
       "      <th></th>\n",
       "      <th></th>\n",
       "      <th></th>\n",
       "      <th></th>\n",
       "    </tr>\n",
       "  </thead>\n",
       "  <tbody>\n",
       "  </tbody>\n",
       "</table>\n",
       "<p>0 rows × 24 columns</p>\n",
       "</div>"
      ],
      "text/plain": [
       "Empty DataFrame\n",
       "Columns: [t2m_HRRR, d2m_HRRR, u_total_HRRR, u_dir_HRRR, latitude, longitude, new_tp_HRRR, mslma_HRRR, orog, t2m_error, d2m_error, u_total_error, u_dir_error, new_tp_error, mslma_error, t2m_nysm, d2m_nysm, u_total_nysm, u_dir_nysm, new_tp_nysm, mslma_nysm, lead_time_DAY, lead_time_HOUR, lead_time_ONLY_HOURS]\n",
       "Index: []\n",
       "\n",
       "[0 rows x 24 columns]"
      ]
     },
     "execution_count": 10,
     "metadata": {},
     "output_type": "execute_result"
    }
   ],
   "source": [
    "hrrr[hrrr.isnull().any(axis=1)]"
   ]
  },
  {
   "cell_type": "code",
   "execution_count": 11,
   "id": "cd3e8f01-d9a8-496a-bb62-6df6aa27eab7",
   "metadata": {},
   "outputs": [
    {
     "name": "stdout",
     "output_type": "stream",
     "text": [
      "['t2m_HRRR', 'd2m_HRRR', 'u_total_HRRR', 'u_dir_HRRR', 'new_tp_HRRR', 'mslma_HRRR']\n"
     ]
    }
   ],
   "source": [
    "# train a decision tree:\n",
    "# Predictor: HRRR forecast at one location (2-m temperature, total precipitation, etc)\n",
    "# Predictand: Forecast error\n",
    "\n",
    "loc = \"VOOR\"\n",
    "x_cols = hrrr_2018.keys()[0:6].tolist()\n",
    "print(x_cols)\n",
    "\n",
    "X = hrrr.loc[loc][x_cols].values\n",
    "Y = hrrr.loc[loc][\"d2m_error\"].values\n",
    "regr = tree.DecisionTreeRegressor(max_depth=8, random_state=1234)\n",
    "regr = regr.fit(X, Y)"
   ]
  },
  {
   "cell_type": "code",
   "execution_count": 12,
   "id": "6fe8ab90-b9e9-434c-b2e4-9d1388b1abd2",
   "metadata": {},
   "outputs": [
    {
     "name": "stdout",
     "output_type": "stream",
     "text": [
      "Test Accuracy : 0.436\n",
      "Training Accuracy : 0.457\n"
     ]
    }
   ],
   "source": [
    "X_test_2019 = hrrr_2019.loc[loc][x_cols].values\n",
    "Y_preds = regr.predict(X_test_2019)\n",
    "Y_test_2019 = hrrr_2019.loc[loc][\"d2m_error\"].values\n",
    "\n",
    "print(\n",
    "    \"Test Accuracy : %.3f\" % regr.score(X_test_2019, Y_test_2019)\n",
    ")  ## Score method also evaluates accuracy for classification models.\n",
    "print(\"Training Accuracy : %.3f\" % regr.score(X, Y))"
   ]
  },
  {
   "cell_type": "code",
   "execution_count": 13,
   "id": "0d2957d2-b600-4dcd-8d1c-60a9eb7c4e8c",
   "metadata": {},
   "outputs": [
    {
     "data": {
      "text/html": [
       "<style>#sk-container-id-1 {color: black;background-color: white;}#sk-container-id-1 pre{padding: 0;}#sk-container-id-1 div.sk-toggleable {background-color: white;}#sk-container-id-1 label.sk-toggleable__label {cursor: pointer;display: block;width: 100%;margin-bottom: 0;padding: 0.3em;box-sizing: border-box;text-align: center;}#sk-container-id-1 label.sk-toggleable__label-arrow:before {content: \"▸\";float: left;margin-right: 0.25em;color: #696969;}#sk-container-id-1 label.sk-toggleable__label-arrow:hover:before {color: black;}#sk-container-id-1 div.sk-estimator:hover label.sk-toggleable__label-arrow:before {color: black;}#sk-container-id-1 div.sk-toggleable__content {max-height: 0;max-width: 0;overflow: hidden;text-align: left;background-color: #f0f8ff;}#sk-container-id-1 div.sk-toggleable__content pre {margin: 0.2em;color: black;border-radius: 0.25em;background-color: #f0f8ff;}#sk-container-id-1 input.sk-toggleable__control:checked~div.sk-toggleable__content {max-height: 200px;max-width: 100%;overflow: auto;}#sk-container-id-1 input.sk-toggleable__control:checked~label.sk-toggleable__label-arrow:before {content: \"▾\";}#sk-container-id-1 div.sk-estimator input.sk-toggleable__control:checked~label.sk-toggleable__label {background-color: #d4ebff;}#sk-container-id-1 div.sk-label input.sk-toggleable__control:checked~label.sk-toggleable__label {background-color: #d4ebff;}#sk-container-id-1 input.sk-hidden--visually {border: 0;clip: rect(1px 1px 1px 1px);clip: rect(1px, 1px, 1px, 1px);height: 1px;margin: -1px;overflow: hidden;padding: 0;position: absolute;width: 1px;}#sk-container-id-1 div.sk-estimator {font-family: monospace;background-color: #f0f8ff;border: 1px dotted black;border-radius: 0.25em;box-sizing: border-box;margin-bottom: 0.5em;}#sk-container-id-1 div.sk-estimator:hover {background-color: #d4ebff;}#sk-container-id-1 div.sk-parallel-item::after {content: \"\";width: 100%;border-bottom: 1px solid gray;flex-grow: 1;}#sk-container-id-1 div.sk-label:hover label.sk-toggleable__label {background-color: #d4ebff;}#sk-container-id-1 div.sk-serial::before {content: \"\";position: absolute;border-left: 1px solid gray;box-sizing: border-box;top: 0;bottom: 0;left: 50%;z-index: 0;}#sk-container-id-1 div.sk-serial {display: flex;flex-direction: column;align-items: center;background-color: white;padding-right: 0.2em;padding-left: 0.2em;position: relative;}#sk-container-id-1 div.sk-item {position: relative;z-index: 1;}#sk-container-id-1 div.sk-parallel {display: flex;align-items: stretch;justify-content: center;background-color: white;position: relative;}#sk-container-id-1 div.sk-item::before, #sk-container-id-1 div.sk-parallel-item::before {content: \"\";position: absolute;border-left: 1px solid gray;box-sizing: border-box;top: 0;bottom: 0;left: 50%;z-index: -1;}#sk-container-id-1 div.sk-parallel-item {display: flex;flex-direction: column;z-index: 1;position: relative;background-color: white;}#sk-container-id-1 div.sk-parallel-item:first-child::after {align-self: flex-end;width: 50%;}#sk-container-id-1 div.sk-parallel-item:last-child::after {align-self: flex-start;width: 50%;}#sk-container-id-1 div.sk-parallel-item:only-child::after {width: 0;}#sk-container-id-1 div.sk-dashed-wrapped {border: 1px dashed gray;margin: 0 0.4em 0.5em 0.4em;box-sizing: border-box;padding-bottom: 0.4em;background-color: white;}#sk-container-id-1 div.sk-label label {font-family: monospace;font-weight: bold;display: inline-block;line-height: 1.2em;}#sk-container-id-1 div.sk-label-container {text-align: center;}#sk-container-id-1 div.sk-container {/* jupyter's `normalize.less` sets `[hidden] { display: none; }` but bootstrap.min.css set `[hidden] { display: none !important; }` so we also need the `!important` here to be able to override the default hidden behavior on the sphinx rendered scikit-learn.org. See: https://github.com/scikit-learn/scikit-learn/issues/21755 */display: inline-block !important;position: relative;}#sk-container-id-1 div.sk-text-repr-fallback {display: none;}</style><div id=\"sk-container-id-1\" class=\"sk-top-container\"><div class=\"sk-text-repr-fallback\"><pre>RandomForestRegressor(max_depth=8, random_state=1234)</pre><b>In a Jupyter environment, please rerun this cell to show the HTML representation or trust the notebook. <br />On GitHub, the HTML representation is unable to render, please try loading this page with nbviewer.org.</b></div><div class=\"sk-container\" hidden><div class=\"sk-item\"><div class=\"sk-estimator sk-toggleable\"><input class=\"sk-toggleable__control sk-hidden--visually\" id=\"sk-estimator-id-1\" type=\"checkbox\" checked><label for=\"sk-estimator-id-1\" class=\"sk-toggleable__label sk-toggleable__label-arrow\">RandomForestRegressor</label><div class=\"sk-toggleable__content\"><pre>RandomForestRegressor(max_depth=8, random_state=1234)</pre></div></div></div></div></div>"
      ],
      "text/plain": [
       "RandomForestRegressor(max_depth=8, random_state=1234)"
      ]
     },
     "execution_count": 13,
     "metadata": {},
     "output_type": "execute_result"
    }
   ],
   "source": [
    "# now train a random forest\n",
    "\n",
    "x_cols = hrrr_2018.keys()[0:6].tolist()\n",
    "\n",
    "X = hrrr_2018.loc[loc][x_cols].values\n",
    "Y = hrrr_2018.loc[loc][\"d2m_error\"].values\n",
    "\n",
    "rf = RandomForestRegressor(\n",
    "    max_depth=8, n_estimators=100, min_samples_leaf=1, random_state=1234\n",
    ")\n",
    "rf.fit(X, Y)"
   ]
  },
  {
   "cell_type": "code",
   "execution_count": 14,
   "id": "981acf37-6186-496a-afee-1ace13ef09e0",
   "metadata": {},
   "outputs": [
    {
     "name": "stdout",
     "output_type": "stream",
     "text": [
      "Test Accuracy : 0.277\n",
      "Training Accuracy : 0.506\n"
     ]
    }
   ],
   "source": [
    "print(\n",
    "    \"Test Accuracy : %.3f\" % rf.score(X_test_2019, Y_test_2019)\n",
    ")  ## Score method also evaluates accuracy for classification models.\n",
    "print(\"Training Accuracy : %.3f\" % rf.score(X, Y))"
   ]
  },
  {
   "cell_type": "code",
   "execution_count": 15,
   "id": "1be16cfc-e7b1-469f-8187-031c79921d99",
   "metadata": {},
   "outputs": [],
   "source": [
    "y_1 = rf.predict(X_test_2019)"
   ]
  },
  {
   "cell_type": "code",
   "execution_count": 16,
   "id": "5cd95b76-963c-4670-843c-eb4f934fcdcd",
   "metadata": {},
   "outputs": [
    {
     "data": {
      "text/plain": [
       "<matplotlib.legend.Legend at 0x7f7120f96e80>"
      ]
     },
     "execution_count": 16,
     "metadata": {},
     "output_type": "execute_result"
    },
    {
     "data": {
      "image/png": "[encoded data removed]",
      "text/plain": [
       "<Figure size 640x480 with 1 Axes>"
      ]
     },
     "metadata": {},
     "output_type": "display_data"
    }
   ],
   "source": [
    "plt.hist(y_1, density=True, alpha=0.4, label=\"prediction\")\n",
    "plt.hist(Y_test_2019, density=True, alpha=0.5, label=\"obs\")\n",
    "plt.legend(loc=0)"
   ]
  },
  {
   "cell_type": "code",
   "execution_count": null,
   "id": "346d1bcd",
   "metadata": {},
   "outputs": [],
   "source": []
  }
 ],
 "metadata": {
  "kernelspec": {
   "display_name": "Python 3",
   "language": "python",
   "name": "python3"
  },
  "language_info": {
   "codemirror_mode": {
    "name": "ipython",
    "version": 3
   },
   "file_extension": ".py",
   "mimetype": "text/x-python",
   "name": "python",
   "nbconvert_exporter": "python",
   "pygments_lexer": "ipython3",
   "version": "3.9.16"
  },
  "vscode": {
   "interpreter": {
    "hash": "44818f36aeaf89db1a1d21a2bee6031a28b4e41595a65903b38b9b0c4417365f"
   }
  }
 },
 "nbformat": 4,
 "nbformat_minor": 5
}
