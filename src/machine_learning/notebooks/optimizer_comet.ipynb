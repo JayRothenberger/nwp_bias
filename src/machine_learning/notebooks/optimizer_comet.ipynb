{
 "cells": [
  {
   "cell_type": "code",
   "execution_count": 25,
   "metadata": {},
   "outputs": [
    {
     "name": "stderr",
     "output_type": "stream",
     "text": [
      "\u001b[1;38;5;196mCOMET ERROR:\u001b[0m Optimizer failed to retrieve data from the optimizer service, for more information look at: https://comet.com/docs/v2/api-and-sdk/python-sdk/warnings-errors/\n"
     ]
    }
   ],
   "source": [
    "# file: example-1.py\n",
    "\n",
    "from comet_ml import Optimizer\n",
    "import sys\n",
    "from comet_ml import Experiment\n",
    "\n",
    "# You need to specify the algorithm and hyperparameters to use:\n",
    "config = {\n",
    "    # Pick the Bayes algorithm:\n",
    "    \"algorithm\": \"random\",\n",
    "\n",
    "    # Declare your hyperparameters:\n",
    "    \"parameters\": {\n",
    "        #\"hidden-layer-size\": {\"type\": \"integer\", \"min\": 1, \"max\": 100},\n",
    "        \"learning_rate\": {\"type\": \"float\", \"min\":5e-20, \"max\":1},\n",
    "        \"steps\": {\"type\": \"integer\", \"min\": 1, \"max\": 1000},\n",
    "        \"batch_size\": {\"type\": \"integer\", \"min\": 1, \"max\": 1000}, \n",
    "        #\"num_hidden_units\": {\"type\": \"integer\", \"min\": 1, \"max\": 1000}, \n",
    "    },\n",
    "\n",
    "    # Declare what to optimize, and how:\n",
    "    \"spec\": {\n",
    "        \"metric\": \"loss\",\n",
    "        \"objective\": \"minimize\",\n",
    "    },\n",
    "    \"trials\": 1\n",
    "}\n",
    "\n",
    "# Finally, get experiments, and train your models:\n",
    "for experiment in Optimizer.get_experiments(config, trials=1, api_key=\"KEY\",\n",
    "    project_name=\"fh_2_hrrr\",\n",
    "    workspace=\"shmaronshmevans\"):\n",
    "    loss = train_model(train_model, train_loader, model, loss_function, optimizer=optimizer)\n",
    "    experiment.log_metric(\"loss\", loss)"
   ]
  },
  {
   "cell_type": "code",
   "execution_count": null,
   "metadata": {},
   "outputs": [],
   "source": []
  },
  {
   "cell_type": "code",
   "execution_count": null,
   "metadata": {},
   "outputs": [],
   "source": []
  },
  {
   "cell_type": "code",
   "execution_count": null,
   "metadata": {},
   "outputs": [],
   "source": []
  }
 ],
 "metadata": {
  "kernelspec": {
   "display_name": "Python 3.9.16 ('base': conda)",
   "language": "python",
   "name": "python3"
  },
  "language_info": {
   "codemirror_mode": {
    "name": "ipython",
    "version": 3
   },
   "file_extension": ".py",
   "mimetype": "text/x-python",
   "name": "python",
   "nbconvert_exporter": "python",
   "pygments_lexer": "ipython3",
   "version": "3.9.16"
  },
  "orig_nbformat": 4,
  "vscode": {
   "interpreter": {
    "hash": "44818f36aeaf89db1a1d21a2bee6031a28b4e41595a65903b38b9b0c4417365f"
   }
  }
 },
 "nbformat": 4,
 "nbformat_minor": 2
}
