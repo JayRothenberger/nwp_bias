{
 "cells": [
  {
   "cell_type": "code",
   "execution_count": 1,
   "metadata": {},
   "outputs": [],
   "source": [
    "%load_ext autoreload\n",
    "%autoreload 2\n",
    "import sys\n",
    "\n",
    "# instead of creating a package using setup.py or building from a docker/singularity file,\n",
    "# import the sister directory of src code to be called on in notebook.\n",
    "# This keeps the notebook free from code to only hold visualizations and is easier to test\n",
    "# It also helps keep the state of variables clean such that cells aren't run out of order with a mysterious state\n",
    "sys.path.append(\"..\")"
   ]
  },
  {
   "cell_type": "code",
   "execution_count": 2,
   "metadata": {},
   "outputs": [
    {
     "name": "stderr",
     "output_type": "stream",
     "text": [
      "<frozen importlib._bootstrap>:228: RuntimeWarning: scipy._lib.messagestream.MessageStream size changed, may indicate binary incompatibility. Expected 56 from C header, got 64 from PyObject\n"
     ]
    }
   ],
   "source": [
    "import torch\n",
    "from src import most_recent_mesonet_data\n",
    "from src import most_recent_mesonet_time\n",
    "from src import landtype_describe\n",
    "from src.plotting_scripts import landtype\n",
    "import os\n",
    "import pandas as pd\n",
    "import numpy as np\n",
    "import matplotlib.pyplot as plt\n",
    "from scipy.stats import skew\n",
    "import statistics\n",
    "import cartopy.crs as crs\n",
    "import cartopy.feature as cfeature"
   ]
  },
  {
   "cell_type": "code",
   "execution_count": 3,
   "metadata": {},
   "outputs": [],
   "source": [
    "def format_df(df):\n",
    "    new_df = pd.DataFrame()\n",
    "    value_list = []\n",
    "    for x, _ in df.iterrows():\n",
    "        count = int(df.iloc[x][\"COUNT\"])\n",
    "        value = df.iloc[x][\"VALUE\"]\n",
    "        for n in np.arange(count):\n",
    "            val = value\n",
    "            value_list.append(val)\n",
    "    new_df[\"VALUE\"] = value_list\n",
    "    return new_df\n",
    "\n",
    "\n",
    "def stat_anal(state, buffer, directory, state_df, station_list, lonlist, latlist):\n",
    "    final_df = pd.DataFrame()\n",
    "    std_list = []\n",
    "    variance_list = []\n",
    "    skew_list = []\n",
    "    distance_list = []\n",
    "    stations = []\n",
    "    elevs = []\n",
    "    for x, _ in enumerate(directory):\n",
    "        # read in csv\n",
    "        df2 = pd.DataFrame()\n",
    "        df = pd.read_csv(\n",
    "            f\"/home/aevans/landtype/elevation/data/{state}/elev/{buffer}km/{directory[x]}\"\n",
    "        )\n",
    "        dfv1 = format_df(df)\n",
    "        std = statistics.stdev(dfv1[\"VALUE\"])\n",
    "        variance = statistics.pvariance(dfv1[\"VALUE\"])\n",
    "        my_skew = skew(dfv1[\"VALUE\"])\n",
    "        elevation = state_df[\"elev\"].iloc[x]\n",
    "        station = station_list[x]\n",
    "        split_diff = dfv1[\"VALUE\"] - state_df[\"elev\"].iloc[x]\n",
    "        diff_list = split_diff.to_list()\n",
    "        df2[\"diff_elev\"] = diff_list\n",
    "        describe = df2[\"diff_elev\"].describe()\n",
    "        fifty = describe[5]\n",
    "        distance = state_df[\"elev\"].iloc[x] - fifty\n",
    "        # add data\n",
    "        stations.append(station)\n",
    "        elevs.append(elevation)\n",
    "        distance_list.append(distance)\n",
    "        skew_list.append(my_skew)\n",
    "        variance_list.append(variance)\n",
    "        std_list.append(std)\n",
    "\n",
    "    final_df[\"station\"] = stations\n",
    "    final_df[\"elev\"] = elevs\n",
    "    final_df[\"std\"] = std_list\n",
    "    final_df[\"variance\"] = variance_list\n",
    "    final_df[\"skew\"] = skew_list\n",
    "    final_df[\"med_dist\"] = distance_list\n",
    "    final_df[\"lon\"] = lonlist\n",
    "    final_df[\"lat\"] = latlist\n",
    "    return final_df\n",
    "\n",
    "\n",
    "def percent_plot(df, variable):\n",
    "    fig, ax = plt.subplots(figsize=(20, 10))\n",
    "    ax.scatter(df[\"station\"], df[variable], s=50)\n",
    "    for n in df.iterrows():\n",
    "        ax.annotate(n[1][\"station\"], (n[1][\"station\"], n[1][variable]), fontsize=15)\n",
    "    ax.grid()\n",
    "    ax.set_ylabel(variable, size=20)\n",
    "    ax.tick_params(labelbottom=False, bottom=False)\n",
    "\n",
    "\n",
    "def plurality_plot(df, s):\n",
    "    fig, ax = plt.subplots()\n",
    "    df.plot.scatter(x=\"lon\", y=\"lat\", c=s, s=s, colormap=\"jet\", figsize=(9, 6), ax=ax)\n",
    "    ax.set_title(f\"Mesonet Site {s} by Elevation\", size=16)\n",
    "    ax.set_xlabel(\"Longitude\", size=14)\n",
    "    ax.set_ylabel(\"Latitude\", size=14)\n",
    "    ax.tick_params(axis=\"x\", labelsize=12)\n",
    "    ax.tick_params(axis=\"y\", labelsize=12)\n",
    "    ax.grid()\n",
    "\n",
    "\n",
    "def good_sites_elev_ok(elev_df):\n",
    "    good_list = []\n",
    "\n",
    "    for x, _ in elev_df.iterrows():\n",
    "        if (\n",
    "            (elev_df.iloc[x][\"std\"] < 100)\n",
    "            & (elev_df.iloc[x][\"variance\"] < 5000)\n",
    "            & (elev_df.iloc[x][\"med_dist\"] < 400)\n",
    "            & (elev_df.iloc[x][\"skew\"] < 1.0)\n",
    "            & (elev_df.iloc[x][\"skew\"] > -1.0)\n",
    "        ):\n",
    "            good_station = elev_df.iloc[x][\"station\"]\n",
    "            good_list.append(good_station)\n",
    "\n",
    "    return good_list\n",
    "\n",
    "\n",
    "def good_sites_elev(elev_df):\n",
    "    good_list = []\n",
    "\n",
    "    for x, _ in elev_df.iterrows():\n",
    "        if (\n",
    "            (elev_df.iloc[x][\"std\"] < 150)\n",
    "            & (elev_df.iloc[x][\"variance\"] < 20000)\n",
    "            & (elev_df.iloc[x][\"med_dist\"] < 400)\n",
    "            & (elev_df.iloc[x][\"skew\"] < 1.0)\n",
    "            & (elev_df.iloc[x][\"skew\"] > -1.0)\n",
    "        ):\n",
    "            good_station = elev_df.iloc[x][\"station\"]\n",
    "            good_list.append(good_station)\n",
    "\n",
    "    return good_list\n",
    "\n",
    "\n",
    "def good_sites_df(df, good_list):\n",
    "    lons = []\n",
    "    lats = []\n",
    "    stations = []\n",
    "    for x, _ in df.iterrows():\n",
    "        if df.iloc[x][\"station\"] in good_list:\n",
    "            get_station = df.iloc[x][\"station\"]\n",
    "            get_lon = df.iloc[x][\"lon\"]\n",
    "            get_lat = df.iloc[x][\"lat\"]\n",
    "            lons.append(get_lon)\n",
    "            lats.append(get_lat)\n",
    "            stations.append(get_station)\n",
    "    good_elev_df = pd.DataFrame()\n",
    "    good_elev_df[\"station\"] = stations\n",
    "    good_elev_df[\"lon\"] = lons\n",
    "    good_elev_df[\"lat\"] = lats\n",
    "    return good_elev_df\n",
    "\n",
    "\n",
    "def good_elevs_plot(good_elev_df):\n",
    "    projPC = crs.PlateCarree()\n",
    "    latN = good_elev_df[\"lat\"].max() + 1\n",
    "    latS = good_elev_df[\"lat\"].min() - 1\n",
    "    lonW = good_elev_df[\"lon\"].max() + 1\n",
    "    lonE = good_elev_df[\"lon\"].min() - 1\n",
    "    cLat = (latN + latS) / 2\n",
    "    cLon = (lonW + lonE) / 2\n",
    "    projLcc = crs.LambertConformal(central_longitude=cLon, central_latitude=cLat)\n",
    "\n",
    "    fig, ax = plt.subplots(\n",
    "        figsize=(12, 9), subplot_kw={\"projection\": crs.PlateCarree()}\n",
    "    )\n",
    "    ax.set_extent([lonW, lonE, latS, latN], crs=projPC)\n",
    "    ax.add_feature(cfeature.LAND)\n",
    "    ax.add_feature(cfeature.COASTLINE)\n",
    "    ax.add_feature(cfeature.BORDERS, linestyle=\"--\")\n",
    "    ax.add_feature(cfeature.LAKES, alpha=0.5)\n",
    "    ax.add_feature(cfeature.STATES)\n",
    "    ax.xticklabels_top = False\n",
    "    ax.ylabels_right = False\n",
    "    ax.gridlines(\n",
    "        crs=crs.PlateCarree(),\n",
    "        draw_labels=True,\n",
    "        linewidth=2,\n",
    "        color=\"black\",\n",
    "        alpha=0.5,\n",
    "        linestyle=\"--\",\n",
    "    )\n",
    "    ax.scatter(\n",
    "        x=good_elev_df[\"lon\"],\n",
    "        y=good_elev_df[\"lat\"],\n",
    "        c=\"r\",\n",
    "        s=40,\n",
    "    )\n",
    "    for n in good_elev_df.iterrows():\n",
    "        ax.annotate(n[1][\"station\"], (n[1][\"lon\"] + 0.1, n[1][\"lat\"]), fontsize=10)\n",
    "    ax.set_title(f\"Good Mesonet Sites by Elevation\", size=16)\n",
    "    ax.set_xlabel(\"Longitude\", size=14)\n",
    "    ax.set_ylabel(\"Latitude\", size=14)\n",
    "    ax.tick_params(axis=\"x\", labelsize=12)\n",
    "    ax.tick_params(axis=\"y\", labelsize=12)\n",
    "    ax.grid()"
   ]
  },
  {
   "cell_type": "code",
   "execution_count": 4,
   "metadata": {},
   "outputs": [],
   "source": [
    "# This will return the most recent data avail on mesonet\n",
    "# this is my file path\n",
    "ny_mesonet_data_path = \"/home/aevans/nysm/archive/nysm/netcdf/proc\"\n",
    "ok_mesonet_data_path = \"/home/aevans/landtype/geoinfo.csv\""
   ]
  },
  {
   "cell_type": "code",
   "execution_count": 5,
   "metadata": {},
   "outputs": [
    {
     "ename": "AttributeError",
     "evalue": "module 'xarray' has no attribute 'open_dataset'",
     "output_type": "error",
     "traceback": [
      "\u001b[0;31m---------------------------------------------------------------------------\u001b[0m",
      "\u001b[0;31mAttributeError\u001b[0m                            Traceback (most recent call last)",
      "Cell \u001b[0;32mIn[5], line 2\u001b[0m\n\u001b[1;32m      1\u001b[0m \u001b[38;5;66;03m# create a dataframe of mesonet data ny\u001b[39;00m\n\u001b[0;32m----> 2\u001b[0m ny_df \u001b[38;5;241m=\u001b[39m most_recent_mesonet_data\u001b[38;5;241m.\u001b[39mcurrent_time_mesonet_df(ny_mesonet_data_path)\n\u001b[1;32m      3\u001b[0m ny_df \u001b[38;5;241m=\u001b[39m most_recent_mesonet_time\u001b[38;5;241m.\u001b[39mmost_recent_time(ny_df, ny_mesonet_data_path)\n",
      "File \u001b[0;32m~/landtype/notebooks/../src/most_recent_mesonet_data.py:61\u001b[0m, in \u001b[0;36mcurrent_time_mesonet_df\u001b[0;34m(mesonet_data_path)\u001b[0m\n\u001b[1;32m     57\u001b[0m \u001b[39m# file path\u001b[39;00m\n\u001b[1;32m     58\u001b[0m file \u001b[39m=\u001b[39m year \u001b[39m+\u001b[39m month \u001b[39m+\u001b[39m day \u001b[39m+\u001b[39m \u001b[39m\"\u001b[39m\u001b[39m.nc\u001b[39m\u001b[39m\"\u001b[39m\n\u001b[1;32m     60\u001b[0m mesonet_df \u001b[39m=\u001b[39m (\n\u001b[0;32m---> 61\u001b[0m     xr\u001b[39m.\u001b[39;49mopen_dataset(\u001b[39mf\u001b[39m\u001b[39m\"\u001b[39m\u001b[39m{\u001b[39;00mmesonet_data_path\u001b[39m}\u001b[39;00m\u001b[39m/\u001b[39m\u001b[39m{\u001b[39;00myear\u001b[39m}\u001b[39;00m\u001b[39m/\u001b[39m\u001b[39m{\u001b[39;00mmonth\u001b[39m}\u001b[39;00m\u001b[39m/\u001b[39m\u001b[39m{\u001b[39;00mfile\u001b[39m}\u001b[39;00m\u001b[39m\"\u001b[39m)\n\u001b[1;32m     62\u001b[0m     \u001b[39m.\u001b[39mto_dataframe()\n\u001b[1;32m     63\u001b[0m     \u001b[39m.\u001b[39mreset_index()\n\u001b[1;32m     64\u001b[0m )\n\u001b[1;32m     65\u001b[0m \u001b[39mreturn\u001b[39;00m mesonet_df\n",
      "\u001b[0;31mAttributeError\u001b[0m: module 'xarray' has no attribute 'open_dataset'"
     ]
    }
   ],
   "source": [
    "# create a dataframe of mesonet data ny\n",
    "ny_df = most_recent_mesonet_data.current_time_mesonet_df(ny_mesonet_data_path)\n",
    "ny_df = most_recent_mesonet_time.most_recent_time(ny_df, ny_mesonet_data_path)"
   ]
  },
  {
   "cell_type": "code",
   "execution_count": null,
   "metadata": {},
   "outputs": [],
   "source": [
    "# create a dataframe of mesonet data ok\n",
    "ok_df = pd.read_csv(ok_mesonet_data_path)"
   ]
  },
  {
   "cell_type": "code",
   "execution_count": null,
   "metadata": {},
   "outputs": [],
   "source": [
    "# paths to data\n",
    "path_ny_1 = f\"/home/aevans/landtype/elevation/data/CSVs_slope_ny_1km/\"\n",
    "path_ny_5 = f\"/home/aevans/landtype/elevation/data/CSVs_slope_ny_5km/\"\n",
    "path_ny_10 = f\"/home/aevans/landtype/elevation/data/CSVs_slope_ny_10km/\"\n",
    "path_ny_30 = f\"/home/aevans/landtype/elevation/data/CSVs_elevation_ny_30km/\"\n",
    "path_ny_50 = f\"/home/aevans/landtype/elevation/data/CSVs_elevation_ny_50km/\"\n",
    "path_ok_30 = f\"/home/aevans/landtype/elevation/data/CSVs_elevation_ok_30km/\"\n",
    "path_ok_50 = f\"/home/aevans/landtype/elevation/data/CSVs_elevation_ok_50km/\""
   ]
  },
  {
   "cell_type": "code",
   "execution_count": null,
   "metadata": {},
   "outputs": [],
   "source": [
    "station_list_ny = ny_df[\"station\"].to_list()\n",
    "station_list_ny = ny_df[\"station\"].to_list()"
   ]
  },
  {
   "cell_type": "code",
   "execution_count": null,
   "metadata": {},
   "outputs": [],
   "source": [
    "elevation_list_ny = ny_df[\"elev\"].to_list()\n",
    "elevation_list_ok = ok_df[\"elev\"].to_list()"
   ]
  },
  {
   "cell_type": "code",
   "execution_count": null,
   "metadata": {},
   "outputs": [],
   "source": [
    "station_list_ok = ok_df[\"stid\"].to_list()"
   ]
  },
  {
   "cell_type": "code",
   "execution_count": null,
   "metadata": {},
   "outputs": [],
   "source": [
    "ny_df_lons = ny_df[\"lon\"].to_list()\n",
    "ny_df_lats = ny_df[\"lat\"].to_list()\n",
    "ok_df_lons = ok_df[\"elon\"].to_list()\n",
    "ok_df_lats = ok_df[\"nlat\"].to_list()"
   ]
  },
  {
   "cell_type": "code",
   "execution_count": null,
   "metadata": {},
   "outputs": [],
   "source": [
    "x = 0\n",
    "for i in range(1, 127):\n",
    "    df = pd.read_csv(f\"{path_ny_5}/aspect_csv_{i}.csv\")\n",
    "    df.to_csv(\n",
    "        f\"/home/aevans/landtype/elevation/data/NY/slope/5km/{station_list_ny[x]}_slope_5km.csv\"\n",
    "    )\n",
    "    x += 1"
   ]
  },
  {
   "cell_type": "code",
   "execution_count": null,
   "metadata": {},
   "outputs": [],
   "source": [
    "directory = os.listdir(f\"/home/aevans/landtype/elevation/data/NY/elev/10km/\")\n",
    "sorted_direct = sorted(directory)"
   ]
  },
  {
   "cell_type": "code",
   "execution_count": null,
   "metadata": {},
   "outputs": [],
   "source": [
    "slope_df_5 = stat_anal(\n",
    "    \"NY\", 5, sorted_direct, ny_df, station_list_ny, ny_df_lons, ny_df_lats\n",
    ")"
   ]
  },
  {
   "cell_type": "code",
   "execution_count": null,
   "metadata": {},
   "outputs": [],
   "source": [
    "slope_df_5.to_csv(\"/home/aevans/correlation/df_5km_slope_ny.csv\")"
   ]
  },
  {
   "cell_type": "code",
   "execution_count": null,
   "metadata": {},
   "outputs": [],
   "source": [
    "# x = 0\n",
    "# for i in range(1,127):\n",
    "#     print(i)\n",
    "#     df = pd.read_csv(f'{path_ny_30}/{i}_csv.csv')\n",
    "#     df.to_csv(f'/home/aevans/landtype/elevation/data/NY/elev/30km/{station_list_ny[x]}_elev_30km.csv')\n",
    "#     x+= 1"
   ]
  },
  {
   "cell_type": "code",
   "execution_count": null,
   "metadata": {},
   "outputs": [],
   "source": [
    "# x = 0\n",
    "# for i in range(1,127):\n",
    "#     df = pd.read_csv(f'{path_ny_50}/{i}_csv.csv')\n",
    "#     df.to_csv(f'/home/aevans/landtype/elevation/data/NY/elev/50km/{station_list_ny[x]}_elev_50km.csv')\n",
    "#     x+= 1"
   ]
  },
  {
   "cell_type": "code",
   "execution_count": null,
   "metadata": {},
   "outputs": [],
   "source": [
    "# x = 0\n",
    "# for i in range(1,145):\n",
    "#     df = pd.read_csv(f'{path_ok_30}/{i}_csv.csv')\n",
    "#     df.to_csv(f'/home/aevans/landtype/elevation/data/OK/elev/30km/{station_list_ok[x]}_elev_30km.csv')\n",
    "#     x+= 1"
   ]
  },
  {
   "cell_type": "code",
   "execution_count": null,
   "metadata": {},
   "outputs": [],
   "source": [
    "# x = 0\n",
    "# for i in range(1,145):\n",
    "#     df = pd.read_csv(f'{path_ok_50}/{i}_csv.csv')\n",
    "#     df.to_csv(f'/home/aevans/landtype/elevation/data/OK/elev/50km/{station_list_ok[x]}_elev_50km.csv')\n",
    "#     x+= 1"
   ]
  },
  {
   "cell_type": "code",
   "execution_count": null,
   "metadata": {},
   "outputs": [],
   "source": [
    "directory = os.listdir(f\"/home/aevans/landtype/elevation/data/NY/elev/50km/\")\n",
    "sorted_direct = sorted(directory)"
   ]
  },
  {
   "cell_type": "code",
   "execution_count": null,
   "metadata": {},
   "outputs": [],
   "source": [
    "directory_ok = os.listdir(f\"/home/aevans/landtype/elevation/data/OK/elev/50km/\")\n",
    "sorted_direct_ok = sorted(directory_ok)"
   ]
  },
  {
   "cell_type": "markdown",
   "metadata": {},
   "source": [
    "# New York"
   ]
  },
  {
   "cell_type": "markdown",
   "metadata": {},
   "source": [
    "## 50 km"
   ]
  },
  {
   "cell_type": "code",
   "execution_count": null,
   "metadata": {},
   "outputs": [],
   "source": [
    "elev_df = stat_anal(\n",
    "    \"NY\", 50, sorted_direct, ny_df, station_list_ny, ny_df_lons, ny_df_lats\n",
    ")"
   ]
  },
  {
   "cell_type": "code",
   "execution_count": null,
   "metadata": {},
   "outputs": [],
   "source": [
    "plurality_plot(elev_df, \"std\")"
   ]
  },
  {
   "cell_type": "code",
   "execution_count": null,
   "metadata": {},
   "outputs": [],
   "source": [
    "plurality_plot(elev_df, \"variance\")"
   ]
  },
  {
   "cell_type": "code",
   "execution_count": null,
   "metadata": {},
   "outputs": [],
   "source": [
    "plurality_plot(elev_df, \"skew\")"
   ]
  },
  {
   "cell_type": "code",
   "execution_count": null,
   "metadata": {},
   "outputs": [],
   "source": [
    "plurality_plot(elev_df, \"med_dist\")"
   ]
  },
  {
   "cell_type": "code",
   "execution_count": null,
   "metadata": {},
   "outputs": [],
   "source": [
    "good_list = good_sites_elev(elev_df)"
   ]
  },
  {
   "cell_type": "code",
   "execution_count": null,
   "metadata": {},
   "outputs": [],
   "source": [
    "good_df = good_sites_df(elev_df, good_list)"
   ]
  },
  {
   "cell_type": "code",
   "execution_count": null,
   "metadata": {},
   "outputs": [],
   "source": [
    "good_elevs_plot(good_df)"
   ]
  },
  {
   "cell_type": "markdown",
   "metadata": {},
   "source": [
    "## 30 km"
   ]
  },
  {
   "cell_type": "code",
   "execution_count": null,
   "metadata": {},
   "outputs": [],
   "source": [
    "directory_30 = os.listdir(f\"/home/aevans/landtype/elevation/data/NY/elev/30km/\")\n",
    "sorted_direct_30 = sorted(directory_30)"
   ]
  },
  {
   "cell_type": "code",
   "execution_count": null,
   "metadata": {},
   "outputs": [],
   "source": [
    "ny30_df = stat_anal(\n",
    "    \"NY\", 30, sorted_direct_30, ny_df, station_list_ny, ny_df_lons, ny_df_lats\n",
    ")"
   ]
  },
  {
   "cell_type": "code",
   "execution_count": null,
   "metadata": {},
   "outputs": [],
   "source": [
    "ny30_df.to_csv(\"/home/aevans/landtype/elevation/data/NY/elev/ny30_df.csv\")"
   ]
  },
  {
   "cell_type": "code",
   "execution_count": null,
   "metadata": {},
   "outputs": [],
   "source": [
    "plurality_plot(ny30_df, \"std\")"
   ]
  },
  {
   "cell_type": "code",
   "execution_count": null,
   "metadata": {},
   "outputs": [],
   "source": [
    "plurality_plot(ny30_df, \"variance\")"
   ]
  },
  {
   "cell_type": "code",
   "execution_count": null,
   "metadata": {},
   "outputs": [],
   "source": [
    "plurality_plot(ny30_df, \"skew\")"
   ]
  },
  {
   "cell_type": "code",
   "execution_count": null,
   "metadata": {},
   "outputs": [],
   "source": [
    "plurality_plot(ny30_df, \"med_dist\")"
   ]
  },
  {
   "cell_type": "code",
   "execution_count": null,
   "metadata": {},
   "outputs": [],
   "source": [
    "good_list_30 = good_sites_elev(ny30_df)"
   ]
  },
  {
   "cell_type": "code",
   "execution_count": null,
   "metadata": {},
   "outputs": [],
   "source": [
    "good_df30 = good_sites_df(ny30_df, good_list_30)"
   ]
  },
  {
   "cell_type": "code",
   "execution_count": null,
   "metadata": {},
   "outputs": [],
   "source": [
    "good_elevs_plot(good_df30)"
   ]
  },
  {
   "cell_type": "code",
   "execution_count": null,
   "metadata": {},
   "outputs": [],
   "source": [
    "directory_ok_30 = os.listdir(f\"/home/aevans/landtype/elevation/data/OK/elev/30km/\")\n",
    "sorted_direct_ok_30 = sorted(directory_ok_30)"
   ]
  },
  {
   "cell_type": "code",
   "execution_count": null,
   "metadata": {},
   "outputs": [],
   "source": [
    "ok30_df = stat_anal(\n",
    "    \"OK\", 30, sorted_direct_ok_30, ok_df, station_list_ok, ok_df_lons, ok_df_lats\n",
    ")\n",
    "ok30_df.to_csv(\"/home/aevans/landtype/elevation/data/OK/elev/ok30_df.csv\")"
   ]
  },
  {
   "cell_type": "code",
   "execution_count": null,
   "metadata": {},
   "outputs": [],
   "source": [
    "plurality_plot(ok30_df, \"std\")"
   ]
  },
  {
   "cell_type": "code",
   "execution_count": null,
   "metadata": {},
   "outputs": [],
   "source": [
    "plurality_plot(ok30_df, \"variance\")"
   ]
  },
  {
   "cell_type": "code",
   "execution_count": null,
   "metadata": {},
   "outputs": [],
   "source": [
    "plurality_plot(ok30_df, \"skew\")"
   ]
  },
  {
   "cell_type": "code",
   "execution_count": null,
   "metadata": {},
   "outputs": [],
   "source": [
    "plurality_plot(ok30_df, \"med_dist\")"
   ]
  },
  {
   "cell_type": "code",
   "execution_count": null,
   "metadata": {},
   "outputs": [],
   "source": [
    "good_list_ok = good_sites_elev_ok(ok30_df)"
   ]
  },
  {
   "cell_type": "code",
   "execution_count": null,
   "metadata": {},
   "outputs": [],
   "source": [
    "good_df_ok = good_sites_df(ok30_df, good_list_ok)"
   ]
  },
  {
   "cell_type": "code",
   "execution_count": null,
   "metadata": {},
   "outputs": [],
   "source": [
    "good_elevs_plot(good_df_ok)"
   ]
  }
 ],
 "metadata": {
  "kernelspec": {
   "display_name": "Python 3.9.13 ('base': conda)",
   "language": "python",
   "name": "python3"
  },
  "language_info": {
   "codemirror_mode": {
    "name": "ipython",
    "version": 3
   },
   "file_extension": ".py",
   "mimetype": "text/x-python",
   "name": "python",
   "nbconvert_exporter": "python",
   "pygments_lexer": "ipython3",
   "version": "3.9.16"
  },
  "orig_nbformat": 4,
  "vscode": {
   "interpreter": {
    "hash": "44818f36aeaf89db1a1d21a2bee6031a28b4e41595a65903b38b9b0c4417365f"
   }
  }
 },
 "nbformat": 4,
 "nbformat_minor": 2
}
