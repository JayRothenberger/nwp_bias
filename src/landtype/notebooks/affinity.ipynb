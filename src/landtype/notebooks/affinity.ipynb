{
 "cells": [
  {
   "cell_type": "code",
   "execution_count": null,
   "metadata": {},
   "outputs": [],
   "source": [
    "%load_ext autoreload\n",
    "%autoreload 2\n",
    "import sys\n",
    "\n",
    "# instead of creating a package using setup.py or building from a docker/singularity file,\n",
    "# import the sister directory of src code to be called on in notebook.\n",
    "# This keeps the notebook free from code to only hold visualizations and is easier to test\n",
    "# It also helps keep the state of variables clean such that cells aren't run out of order with a mysterious state\n",
    "sys.path.append(\"..\")"
   ]
  },
  {
   "cell_type": "code",
   "execution_count": null,
   "metadata": {},
   "outputs": [],
   "source": [
    "from numpy import unique\n",
    "from numpy import where\n",
    "from matplotlib import pyplot as plt\n",
    "from sklearn.datasets import make_classification\n",
    "from sklearn.cluster import AffinityPropagation\n",
    "from sklearn import datasets\n",
    "from sklearn.preprocessing import StandardScaler\n",
    "from sklearn.cluster import AffinityPropagation\n",
    "from src import most_recent_mesonet_data\n",
    "from src import most_recent_mesonet_time\n",
    "from src import landtype_describe\n",
    "from src.plotting_scripts import landtype\n",
    "\n",
    "import seaborn as sns\n",
    "import os\n",
    "import pandas as pd\n",
    "import numpy as np\n",
    "import cartopy.crs as crs\n",
    "import cartopy.feature as cfeature"
   ]
  },
  {
   "cell_type": "code",
   "execution_count": null,
   "metadata": {},
   "outputs": [],
   "source": [
    "# get lons and lats\n",
    "# This will return the most recent data avail on mesonet\n",
    "# this is my file path\n",
    "ny_mesonet_data_path = \"/home/aevans/nysm/archive/nysm/netcdf/proc/\"\n",
    "ok_mesonet_data_path = \"/home/aevans/landtype/geoinfo.csv\""
   ]
  },
  {
   "cell_type": "code",
   "execution_count": null,
   "metadata": {},
   "outputs": [],
   "source": [
    "# create a dataframe of mesonet data ny\n",
    "ny_df = most_recent_mesonet_data.current_time_mesonet_df(ny_mesonet_data_path)\n",
    "ny_df = most_recent_mesonet_time.most_recent_time(ny_df, ny_mesonet_data_path)"
   ]
  },
  {
   "cell_type": "code",
   "execution_count": null,
   "metadata": {},
   "outputs": [],
   "source": [
    "ny_df_lons = ny_df[\"lon\"].to_list()\n",
    "ny_df_lats = ny_df[\"lat\"].to_list()"
   ]
  },
  {
   "cell_type": "code",
   "execution_count": null,
   "metadata": {},
   "outputs": [],
   "source": [
    "def plurality_plot(df):\n",
    "    projPC = crs.PlateCarree()\n",
    "    latN = df[\"lat\"].max() + 1\n",
    "    latS = df[\"lat\"].min() - 1\n",
    "    lonW = df[\"lon\"].max() + 1\n",
    "    lonE = df[\"lon\"].min() - 1\n",
    "    cLat = (latN + latS) / 2\n",
    "    cLon = (lonW + lonE) / 2\n",
    "    projLcc = crs.LambertConformal(central_longitude=cLon, central_latitude=cLat)\n",
    "\n",
    "    fig, ax = plt.subplots(\n",
    "        figsize=(12, 9), subplot_kw={\"projection\": crs.PlateCarree()}\n",
    "    )\n",
    "    ax.set_extent([lonW, lonE, latS, latN], crs=projPC)\n",
    "    ax.add_feature(cfeature.LAND)\n",
    "    ax.add_feature(cfeature.COASTLINE)\n",
    "    ax.add_feature(cfeature.BORDERS, linestyle=\"--\")\n",
    "    ax.add_feature(cfeature.LAKES, alpha=0.5)\n",
    "    ax.add_feature(cfeature.STATES)\n",
    "    ax.xticklabels_top = False\n",
    "    ax.ylabels_right = False\n",
    "    ax.gridlines(\n",
    "        crs=crs.PlateCarree(),\n",
    "        draw_labels=True,\n",
    "        linewidth=2,\n",
    "        color=\"black\",\n",
    "        alpha=0.5,\n",
    "        linestyle=\"--\",\n",
    "    )\n",
    "    ax.scatter(\n",
    "        x=df[\"lon\"],\n",
    "        y=df[\"lat\"],\n",
    "        c=df[\"color\"],\n",
    "        s=40,\n",
    "        marker=\"o\",\n",
    "        transform=crs.PlateCarree(),\n",
    "    )\n",
    "    ax.set_title(\"Mesonet Site Groups\", size=16)\n",
    "    ax.set_xlabel(\"Longitude\", size=14)\n",
    "    ax.set_ylabel(\"Latitude\", size=14)\n",
    "    ax.tick_params(axis=\"x\", labelsize=12)\n",
    "    ax.tick_params(axis=\"y\", labelsize=12)\n",
    "    ax.grid()"
   ]
  },
  {
   "cell_type": "code",
   "execution_count": null,
   "metadata": {},
   "outputs": [],
   "source": [
    "df = pd.read_csv(\"/home/aevans/landtype/data/buffer_10_km/avg_lulc_ny_10.csv\")"
   ]
  },
  {
   "cell_type": "code",
   "execution_count": null,
   "metadata": {},
   "outputs": [],
   "source": [
    "# exclude the categorical columns\n",
    "features = df.drop(\n",
    "    [\"station\", \"Unnamed: 0\", \"firstmode_class\", \"secondmode_class\", \"thirdmode_class\"],\n",
    "    axis=1,\n",
    ")"
   ]
  },
  {
   "cell_type": "code",
   "execution_count": null,
   "metadata": {},
   "outputs": [],
   "source": [
    "cor = features.corr()"
   ]
  },
  {
   "cell_type": "code",
   "execution_count": null,
   "metadata": {},
   "outputs": [],
   "source": [
    "fig = plt.figure(figsize=(10, 10))\n",
    "sns.heatmap(cor, square=True)\n",
    "plt.show()"
   ]
  },
  {
   "cell_type": "code",
   "execution_count": null,
   "metadata": {},
   "outputs": [],
   "source": [
    "scaler = StandardScaler()\n",
    "X_std = scaler.fit_transform(features)"
   ]
  },
  {
   "cell_type": "code",
   "execution_count": null,
   "metadata": {},
   "outputs": [],
   "source": [
    "clt = AffinityPropagation(damping=0.5, max_iter=500, affinity=\"euclidean\")"
   ]
  },
  {
   "cell_type": "code",
   "execution_count": null,
   "metadata": {},
   "outputs": [],
   "source": [
    "model = clt.fit(X_std)\n",
    "n_clusters_ = len(model.cluster_centers_indices_)\n",
    "print(\"Number of Clusters: \", n_clusters_)"
   ]
  },
  {
   "cell_type": "code",
   "execution_count": null,
   "metadata": {},
   "outputs": [],
   "source": [
    "clusters = pd.DataFrame(model.fit_predict(X_std))\n",
    "features[\"Cluster\"] = clusters"
   ]
  },
  {
   "cell_type": "code",
   "execution_count": null,
   "metadata": {},
   "outputs": [],
   "source": [
    "stations = df[\"station\"]\n",
    "stations = pd.concat((stations, features), axis=1)\n",
    "stations = stations.rename({\"station\": \"station\", 0: \"Cluster\"}, axis=1)\n",
    "sortstations = stations.sort_values([\"station\"])\n",
    "sortstations[\"lon\"] = ny_df_lons\n",
    "sortstations[\"lat\"] = ny_df_lats"
   ]
  },
  {
   "cell_type": "code",
   "execution_count": null,
   "metadata": {},
   "outputs": [],
   "source": [
    "colors = [\n",
    "    \"black\",\n",
    "    \"blue\",\n",
    "    \"white\",\n",
    "    \"coral\",\n",
    "    \"pink\",\n",
    "    \"red\",\n",
    "    \"magenta\",\n",
    "    \"gray\",\n",
    "    \"lime\",\n",
    "    \"forestgreen\",\n",
    "    \"green\",\n",
    "    \"olive\",\n",
    "    \"brown\",\n",
    "    \"slategray\",\n",
    "    \"darkorchid\",\n",
    "    \"plum\",\n",
    "    \"indigo\",\n",
    "    \"purple\",\n",
    "    \"yellow\",\n",
    "    \"gold\",\n",
    "    \"orange\",\n",
    "    \"cyan\",\n",
    "]\n",
    "legend = [0, 1, 2, 3, 4, 5, 6, 7, 8, 9, 10, 11, 12, 13, 14, 15, 16, 17, 18, 19, 20, 21]\n",
    "\n",
    "\n",
    "colordict = {}\n",
    "\n",
    "for x, _ in enumerate(colors):\n",
    "    colordict.update({legend[x]: colors[x]})\n",
    "\n",
    "sortstations[\"color\"] = sortstations[\"Cluster\"].map(colordict)"
   ]
  },
  {
   "cell_type": "code",
   "execution_count": null,
   "metadata": {},
   "outputs": [],
   "source": [
    "plurality_plot(sortstations)"
   ]
  },
  {
   "cell_type": "code",
   "execution_count": null,
   "metadata": {},
   "outputs": [],
   "source": [
    "fig = plt.figure(figsize=(10, 10))\n",
    "ax = fig.add_subplot(111)\n",
    "scatter = ax.scatter(\n",
    "    sortstations[\"station\"], sortstations[\"Cluster\"], c=sortstations[\"Cluster\"], s=50\n",
    ")\n",
    "ax.set_title(\"AffinityPropagation Clustering\")\n",
    "ax.set_xlabel(\"X0\")\n",
    "ax.set_ylabel(\"X1\")\n",
    "plt.colorbar(scatter)\n",
    "plt.show()"
   ]
  },
  {
   "cell_type": "markdown",
   "metadata": {},
   "source": [
    "# let's cluster on elevation"
   ]
  },
  {
   "cell_type": "code",
   "execution_count": null,
   "metadata": {},
   "outputs": [],
   "source": [
    "elev_df = pd.read_csv(\"/home/aevans/landtype/elevation/data/NY/elev/ny30_df.csv\")\n",
    "elev_df.head()"
   ]
  },
  {
   "cell_type": "code",
   "execution_count": null,
   "metadata": {},
   "outputs": [],
   "source": [
    "# exclude the categorical columns\n",
    "features_elev = elev_df.drop([\"station\", \"Unnamed: 0\", \"lon\", \"lat\"], axis=1)"
   ]
  },
  {
   "cell_type": "code",
   "execution_count": null,
   "metadata": {},
   "outputs": [],
   "source": [
    "cor_e = features_elev.corr()"
   ]
  },
  {
   "cell_type": "code",
   "execution_count": null,
   "metadata": {},
   "outputs": [],
   "source": [
    "fig = plt.figure(figsize=(10, 10))\n",
    "sns.heatmap(cor_e, square=True)\n",
    "plt.show()"
   ]
  },
  {
   "cell_type": "code",
   "execution_count": null,
   "metadata": {},
   "outputs": [],
   "source": [
    "scaler = StandardScaler()\n",
    "X_std_e = scaler.fit_transform(features_elev)"
   ]
  },
  {
   "cell_type": "code",
   "execution_count": null,
   "metadata": {},
   "outputs": [],
   "source": [
    "clt_e = AffinityPropagation(damping=0.5, max_iter=500, affinity=\"euclidean\")"
   ]
  },
  {
   "cell_type": "code",
   "execution_count": null,
   "metadata": {},
   "outputs": [],
   "source": [
    "model = clt_e.fit(X_std_e)\n",
    "n_clusters_ = len(model.cluster_centers_indices_)\n",
    "print(\"Number of Clusters: \", n_clusters_)"
   ]
  },
  {
   "cell_type": "code",
   "execution_count": null,
   "metadata": {},
   "outputs": [],
   "source": [
    "clusters_e = pd.DataFrame(model.fit_predict(X_std_e))\n",
    "features_elev[\"Cluster\"] = clusters_e"
   ]
  },
  {
   "cell_type": "code",
   "execution_count": null,
   "metadata": {},
   "outputs": [],
   "source": [
    "features_elev.head()"
   ]
  },
  {
   "cell_type": "code",
   "execution_count": null,
   "metadata": {},
   "outputs": [],
   "source": [
    "stations_elev = elev_df[\"station\"]\n",
    "stations_elev = pd.concat((stations_elev, features_elev), axis=1)\n",
    "stations_elev = stations_elev.rename({\"station\": \"station\", 0: \"Cluster\"}, axis=1)\n",
    "sortstations_e = stations_elev.sort_values([\"station\"])\n",
    "sortstations_e[\"lon\"] = ny_df_lons\n",
    "sortstations_e[\"lat\"] = ny_df_lats"
   ]
  },
  {
   "cell_type": "code",
   "execution_count": null,
   "metadata": {},
   "outputs": [],
   "source": [
    "colors = [\n",
    "    \"black\",\n",
    "    \"blue\",\n",
    "    \"white\",\n",
    "    \"coral\",\n",
    "    \"pink\",\n",
    "    \"red\",\n",
    "    \"magenta\",\n",
    "    \"gray\",\n",
    "    \"lime\",\n",
    "    \"forestgreen\",\n",
    "    \"green\",\n",
    "    \"olive\",\n",
    "    \"brown\",\n",
    "    \"slategray\",\n",
    "    \"darkorchid\",\n",
    "    \"plum\",\n",
    "    \"indigo\",\n",
    "    \"purple\",\n",
    "    \"yellow\",\n",
    "    \"gold\",\n",
    "    \"orange\",\n",
    "    \"cyan\",\n",
    "]\n",
    "legend = [0, 1, 2, 3, 4, 5, 6, 7, 8, 9, 10, 11, 12, 13, 14, 15, 16, 17, 18, 19, 20, 21]\n",
    "\n",
    "\n",
    "colordict = {}\n",
    "\n",
    "for x, _ in enumerate(colors):\n",
    "    colordict.update({legend[x]: colors[x]})\n",
    "\n",
    "sortstations_e[\"color\"] = sortstations_e[\"Cluster\"].map(colordict)"
   ]
  },
  {
   "cell_type": "code",
   "execution_count": null,
   "metadata": {},
   "outputs": [],
   "source": [
    "plurality_plot(sortstations_e)"
   ]
  },
  {
   "cell_type": "code",
   "execution_count": null,
   "metadata": {},
   "outputs": [],
   "source": [
    "fig = plt.figure(figsize=(10, 10))\n",
    "ax = fig.add_subplot(111)\n",
    "scatter = ax.scatter(\n",
    "    sortstations_e[\"station\"],\n",
    "    sortstations_e[\"Cluster\"],\n",
    "    c=sortstations_e[\"Cluster\"],\n",
    "    s=50,\n",
    ")\n",
    "ax.set_title(\"AffinityPropagation Clustering\")\n",
    "ax.set_xlabel(\"X0\")\n",
    "ax.set_ylabel(\"X1\")\n",
    "plt.colorbar(scatter)\n",
    "plt.show()"
   ]
  },
  {
   "cell_type": "markdown",
   "metadata": {},
   "source": [
    "# Let's Cluster on Slope"
   ]
  },
  {
   "cell_type": "code",
   "execution_count": null,
   "metadata": {},
   "outputs": [],
   "source": [
    "slope_df = pd.read_csv(\"/home/aevans/landtype/elevation/data/NY/elev/slope30_ny_df.csv\")\n",
    "slope_df.head()"
   ]
  },
  {
   "cell_type": "code",
   "execution_count": null,
   "metadata": {},
   "outputs": [],
   "source": [
    "# exclude the categorical columns\n",
    "features_slope = slope_df.drop(\n",
    "    [\"Station\", \"Unnamed: 0\", \"Direction\", \"Slope\", \"color\"], axis=1\n",
    ")"
   ]
  },
  {
   "cell_type": "code",
   "execution_count": null,
   "metadata": {},
   "outputs": [],
   "source": [
    "cor_s = features_slope.corr()"
   ]
  },
  {
   "cell_type": "code",
   "execution_count": null,
   "metadata": {},
   "outputs": [],
   "source": [
    "fig = plt.figure(figsize=(10, 10))\n",
    "sns.heatmap(cor_s, square=True)\n",
    "plt.show()"
   ]
  },
  {
   "cell_type": "code",
   "execution_count": null,
   "metadata": {},
   "outputs": [],
   "source": [
    "scaler = StandardScaler()\n",
    "X_std_s = scaler.fit_transform(features_slope)"
   ]
  },
  {
   "cell_type": "code",
   "execution_count": null,
   "metadata": {},
   "outputs": [],
   "source": [
    "clt_s = AffinityPropagation(damping=0.5, max_iter=500, affinity=\"euclidean\")"
   ]
  },
  {
   "cell_type": "code",
   "execution_count": null,
   "metadata": {},
   "outputs": [],
   "source": [
    "model = clt_s.fit(X_std_s)\n",
    "n_clusters_ = len(model.cluster_centers_indices_)\n",
    "print(\"Number of Clusters: \", n_clusters_)"
   ]
  },
  {
   "cell_type": "code",
   "execution_count": null,
   "metadata": {},
   "outputs": [],
   "source": [
    "clusters_s = pd.DataFrame(model.fit_predict(X_std_s))\n",
    "features_slope[\"Cluster\"] = clusters_s"
   ]
  },
  {
   "cell_type": "code",
   "execution_count": null,
   "metadata": {},
   "outputs": [],
   "source": [
    "features_slope.head()"
   ]
  },
  {
   "cell_type": "code",
   "execution_count": null,
   "metadata": {},
   "outputs": [],
   "source": [
    "stations_slope = slope_df[\"Station\"]\n",
    "stations_slope = pd.concat((stations_slope, features_slope), axis=1)\n",
    "stations_slope = stations_slope.rename({\"Station\": \"station\", 0: \"Cluster\"}, axis=1)\n",
    "sortstations_s = stations_slope.sort_values([\"station\"])\n",
    "sortstations_e[\"lon\"] = ny_df_lons\n",
    "sortstations_e[\"lat\"] = ny_df_lats"
   ]
  },
  {
   "cell_type": "code",
   "execution_count": null,
   "metadata": {},
   "outputs": [],
   "source": [
    "sortstations_s.head()"
   ]
  },
  {
   "cell_type": "code",
   "execution_count": null,
   "metadata": {},
   "outputs": [],
   "source": [
    "colors = [\n",
    "    \"black\",\n",
    "    \"blue\",\n",
    "    \"white\",\n",
    "    \"coral\",\n",
    "    \"pink\",\n",
    "    \"red\",\n",
    "    \"magenta\",\n",
    "    \"gray\",\n",
    "    \"lime\",\n",
    "    \"forestgreen\",\n",
    "    \"green\",\n",
    "    \"olive\",\n",
    "    \"brown\",\n",
    "    \"slategray\",\n",
    "    \"darkorchid\",\n",
    "    \"plum\",\n",
    "    \"indigo\",\n",
    "    \"purple\",\n",
    "    \"yellow\",\n",
    "    \"gold\",\n",
    "    \"orange\",\n",
    "    \"cyan\",\n",
    "]\n",
    "legend = [0, 1, 2, 3, 4, 5, 6, 7, 8, 9, 10, 11, 12, 13, 14, 15, 16, 17, 18, 19, 20, 21]\n",
    "\n",
    "\n",
    "colordict = {}\n",
    "\n",
    "for x, _ in enumerate(colors):\n",
    "    colordict.update({legend[x]: colors[x]})\n",
    "\n",
    "sortstations_s[\"color\"] = sortstations_s[\"Cluster\"].map(colordict)"
   ]
  },
  {
   "cell_type": "code",
   "execution_count": null,
   "metadata": {},
   "outputs": [],
   "source": [
    "plurality_plot(sortstations_s)"
   ]
  },
  {
   "cell_type": "code",
   "execution_count": null,
   "metadata": {},
   "outputs": [],
   "source": [
    "fig = plt.figure(figsize=(10, 10))\n",
    "ax = fig.add_subplot(111)\n",
    "scatter = ax.scatter(\n",
    "    sortstations_s[\"station\"],\n",
    "    sortstations_s[\"Cluster\"],\n",
    "    c=sortstations_s[\"Cluster\"],\n",
    "    s=50,\n",
    ")\n",
    "ax.set_title(\"AffinityPropagation Clustering\")\n",
    "ax.set_xlabel(\"X0\")\n",
    "ax.set_ylabel(\"X1\")\n",
    "plt.colorbar(scatter)\n",
    "plt.show()"
   ]
  },
  {
   "cell_type": "markdown",
   "metadata": {},
   "source": [
    "# Let's try them all together"
   ]
  },
  {
   "cell_type": "code",
   "execution_count": null,
   "metadata": {},
   "outputs": [],
   "source": [
    "stations_ls = df[\"station\"]"
   ]
  },
  {
   "cell_type": "code",
   "execution_count": null,
   "metadata": {},
   "outputs": [],
   "source": [
    "sortstations_s.head()"
   ]
  },
  {
   "cell_type": "code",
   "execution_count": null,
   "metadata": {},
   "outputs": [],
   "source": [
    "daddy = pd.merge(sortstations, sortstations_e, on=\"station\")\n",
    "dad_df = pd.merge(daddy, sortstations_s, on=\"station\")\n",
    "dad_df = dad_df.drop(\n",
    "    columns=[\n",
    "        \"station\",\n",
    "        \"Cluster_x\",\n",
    "        \"Cluster\",\n",
    "        \"Cluster_y\",\n",
    "        \"lon\",\n",
    "        \"lat\",\n",
    "        \"lon_x\",\n",
    "        \"lat_x\",\n",
    "        \"lon_y\",\n",
    "        \"lat_y\",\n",
    "        \"color\",\n",
    "        \"color_x\",\n",
    "        \"color_y\",\n",
    "        \"sum_total\",\n",
    "        \"Sum_total\",\n",
    "        \"Divide\",\n",
    "        \"Count\",\n",
    "    ]\n",
    ")\n",
    "dad_df"
   ]
  },
  {
   "cell_type": "code",
   "execution_count": null,
   "metadata": {},
   "outputs": [],
   "source": [
    "cor_d = dad_df.corr()"
   ]
  },
  {
   "cell_type": "code",
   "execution_count": null,
   "metadata": {},
   "outputs": [],
   "source": [
    "fig = plt.figure(figsize=(10, 10))\n",
    "sns.heatmap(cor_d, square=True)\n",
    "plt.show()"
   ]
  },
  {
   "cell_type": "code",
   "execution_count": null,
   "metadata": {},
   "outputs": [],
   "source": [
    "scaler = StandardScaler()\n",
    "X_std_d = scaler.fit_transform(dad_df)"
   ]
  },
  {
   "cell_type": "code",
   "execution_count": null,
   "metadata": {},
   "outputs": [],
   "source": [
    "model = clt.fit(X_std_d)\n",
    "n_clusters_ = len(model.cluster_centers_indices_)\n",
    "print(\"Number of Clusters: \", n_clusters_)"
   ]
  },
  {
   "cell_type": "code",
   "execution_count": null,
   "metadata": {},
   "outputs": [],
   "source": [
    "clusters_d = pd.DataFrame(model.fit_predict(X_std_d))\n",
    "dad_df[\"Cluster\"] = clusters_d"
   ]
  },
  {
   "cell_type": "code",
   "execution_count": null,
   "metadata": {},
   "outputs": [],
   "source": [
    "stations_d = df[\"station\"]\n",
    "stations_d = pd.concat((stations_d, dad_df), axis=1)\n",
    "stations_d = stations_d.rename({\"station\": \"station\", 0: \"Cluster\"}, axis=1)\n",
    "sortstations_d = stations_d.sort_values([\"station\"])\n",
    "sortstations_d[\"lon\"] = ny_df_lons\n",
    "sortstations_d[\"lat\"] = ny_df_lats"
   ]
  },
  {
   "cell_type": "code",
   "execution_count": null,
   "metadata": {},
   "outputs": [],
   "source": [
    "sortstations_d.head()"
   ]
  },
  {
   "cell_type": "code",
   "execution_count": null,
   "metadata": {},
   "outputs": [],
   "source": [
    "colors = [\n",
    "    \"black\",\n",
    "    \"blue\",\n",
    "    \"white\",\n",
    "    \"coral\",\n",
    "    \"pink\",\n",
    "    \"red\",\n",
    "    \"magenta\",\n",
    "    \"gray\",\n",
    "    \"lime\",\n",
    "    \"forestgreen\",\n",
    "    \"green\",\n",
    "    \"olive\",\n",
    "    \"brown\",\n",
    "    \"slategray\",\n",
    "    \"darkorchid\",\n",
    "    \"plum\",\n",
    "    \"indigo\",\n",
    "    \"purple\",\n",
    "    \"yellow\",\n",
    "    \"gold\",\n",
    "    \"orange\",\n",
    "    \"cyan\",\n",
    "]\n",
    "legend = [0, 1, 2, 3, 4, 5, 6, 7, 8, 9, 10, 11, 12, 13, 14, 15, 16, 17, 18, 19, 20, 21]\n",
    "\n",
    "\n",
    "colordict = {}\n",
    "\n",
    "for x, _ in enumerate(colors):\n",
    "    colordict.update({legend[x]: colors[x]})\n",
    "\n",
    "sortstations_d[\"color\"] = sortstations_d[\"Cluster\"].map(colordict)"
   ]
  },
  {
   "cell_type": "code",
   "execution_count": null,
   "metadata": {},
   "outputs": [],
   "source": [
    "plurality_plot(sortstations_d)"
   ]
  },
  {
   "cell_type": "code",
   "execution_count": null,
   "metadata": {},
   "outputs": [],
   "source": [
    "for i in np.arange(0, 17):\n",
    "    slopes_cat = sortstations_d.loc[sortstations_d[\"Cluster\"] == i]\n",
    "    slopes_cat = pd.merge(slopes_cat, daddy, on=\"station\")\n",
    "    slopes_cat.to_csv(f\"/home/aevans/landtype/data/clean_cats/ny/aff/df_{i}.csv\")"
   ]
  },
  {
   "cell_type": "code",
   "execution_count": null,
   "metadata": {},
   "outputs": [],
   "source": [
    "dirs = sorted(os.listdir(\"/home/aevans/landtype/data/clean_cats/ny/aff/\"))"
   ]
  },
  {
   "cell_type": "code",
   "execution_count": null,
   "metadata": {},
   "outputs": [],
   "source": [
    "for n, _ in enumerate(dirs):\n",
    "    df = pd.read_csv(f\"/home/aevans/landtype/data/clean_cats/ny/aff/{dirs[n]}\")\n",
    "    plurality_plot(df)"
   ]
  },
  {
   "cell_type": "code",
   "execution_count": null,
   "metadata": {},
   "outputs": [],
   "source": []
  }
 ],
 "metadata": {
  "kernelspec": {
   "display_name": "Python 3.9.13 ('base': conda)",
   "language": "python",
   "name": "python3"
  },
  "language_info": {
   "codemirror_mode": {
    "name": "ipython",
    "version": 3
   },
   "file_extension": ".py",
   "mimetype": "text/x-python",
   "name": "python",
   "nbconvert_exporter": "python",
   "pygments_lexer": "ipython3",
   "version": "3.9.13"
  },
  "orig_nbformat": 4,
  "vscode": {
   "interpreter": {
    "hash": "44818f36aeaf89db1a1d21a2bee6031a28b4e41595a65903b38b9b0c4417365f"
   }
  }
 },
 "nbformat": 4,
 "nbformat_minor": 2
}
