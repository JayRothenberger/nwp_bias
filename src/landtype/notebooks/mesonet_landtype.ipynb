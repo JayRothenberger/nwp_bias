{
 "cells": [
  {
   "cell_type": "code",
   "execution_count": null,
   "metadata": {},
   "outputs": [],
   "source": [
    "%load_ext autoreload\n",
    "%autoreload 2\n",
    "import sys\n",
    "\n",
    "# instead of creating a package using setup.py or building from a docker/singularity file,\n",
    "# import the sister directory of src code to be called on in notebook.\n",
    "# This keeps the notebook free from code to only hold visualizations and is easier to test\n",
    "# It also helps keep the state of variables clean such that cells aren't run out of order with a mysterious state\n",
    "sys.path.append(\"..\")"
   ]
  },
  {
   "cell_type": "code",
   "execution_count": null,
   "metadata": {},
   "outputs": [],
   "source": [
    "from pynhd import NLDI\n",
    "import pygeohydro as gh\n",
    "from pygeohydro import plot\n",
    "import geopandas as gpd\n",
    "import numpy as np\n",
    "import matplotlib.pyplot as plt\n",
    "import pandas as pd\n",
    "import xarray as xr\n",
    "import os\n",
    "import cfgrib\n",
    "from datetime import datetime, timedelta, date\n",
    "import cartopy.crs as crs\n",
    "import cartopy.feature as cfeature\n",
    "from scipy.interpolate import griddata\n",
    "import rasterio\n",
    "import matplotlib as mpl\n",
    "import dask.dataframe as dd\n",
    "from matplotlib import colors\n",
    "from matplotlib.colors import ListedColormap, LinearSegmentedColormap\n",
    "from matplotlib import colors as mcolors\n",
    "from array import array\n",
    "from shapely.geometry import Polygon\n",
    "import json\n",
    "from shapely.geometry import Polygon, mapping\n",
    "import py3dep as pp\n",
    "import statistics\n",
    "from matplotlib import cm\n",
    "import matplotlib.patches as mpatches\n",
    "from scipy.stats import skew\n",
    "from src.plotting_scripts import landtype"
   ]
  },
  {
   "cell_type": "markdown",
   "metadata": {},
   "source": [
    "- https://www.mrlc.gov/data/nlcd-2019-land-cover-conus \n",
    "- https://www.mrlc.gov/data/legends/national-land-cover-database-class-legend-and-description "
   ]
  },
  {
   "cell_type": "markdown",
   "metadata": {},
   "source": [
    "## Create a DF for Mesonet"
   ]
  },
  {
   "cell_type": "code",
   "execution_count": null,
   "metadata": {},
   "outputs": [],
   "source": [
    "# This will return the most recent data avail on mesonet\n",
    "# this is my file path\n",
    "mesonet_data_path = \"/home/aevans/nysm/archive/nysm/netcdf/proc\"\n",
    "\n",
    "\n",
    "# sort years\n",
    "# find most recent year\n",
    "dir_Year = os.listdir(f\"{mesonet_data_path}\")\n",
    "data_point_Year = dir_Year[-1]\n",
    "print(dir_Year)\n",
    "\n",
    "# find most recent month\n",
    "dir_Month = os.listdir(f\"{mesonet_data_path}/{data_point_Year}\")\n",
    "data_point_Month = dir_Month[-1]\n",
    "\n",
    "# this is your most recent directory\n",
    "# don't use 'dir' because it will list attributes\n",
    "dir1 = os.listdir(f\"{mesonet_data_path}/{data_point_Year}/{data_point_Month}\")\n",
    "\n",
    "# this will give me the most recent data point\n",
    "data_point = dir1[-1]\n",
    "\n",
    "# this will return the year of the most recent data point\n",
    "new_year = data_point[0:4]\n",
    "\n",
    "# this will return the month of the most recent datapoint\n",
    "new_month = data_point[4:6]\n",
    "\n",
    "# this will return the day of the most recent datapoint\n",
    "new_day = data_point[6:8]"
   ]
  },
  {
   "cell_type": "code",
   "execution_count": null,
   "metadata": {},
   "outputs": [],
   "source": [
    "# most recent year\n",
    "dir_Year = os.listdir(f\"{mesonet_data_path}\")\n",
    "sort_dir_Year = sorted(dir_Year)\n",
    "data_point_Year = sort_dir_Year[-1]"
   ]
  },
  {
   "cell_type": "code",
   "execution_count": null,
   "metadata": {},
   "outputs": [],
   "source": [
    "# find most recent month\n",
    "dir_Month = os.listdir(f\"{mesonet_data_path}/{data_point_Year}\")\n",
    "sort_dir_Month = sorted(dir_Month)\n",
    "data_point_Month = sort_dir_Month[-1]"
   ]
  },
  {
   "cell_type": "code",
   "execution_count": null,
   "metadata": {},
   "outputs": [],
   "source": [
    "# this is your directory for most recent year and month\n",
    "most_recent = os.listdir(f\"{mesonet_data_path}/{data_point_Year}/{data_point_Month}\")"
   ]
  },
  {
   "cell_type": "code",
   "execution_count": null,
   "metadata": {},
   "outputs": [],
   "source": [
    "# most recent datapoint\n",
    "sort_most_recent = sorted(most_recent)\n",
    "data_point = sort_most_recent[-1]"
   ]
  },
  {
   "cell_type": "code",
   "execution_count": null,
   "metadata": {},
   "outputs": [],
   "source": [
    "# this will return the year of the most recent data point\n",
    "new_year = data_point[0:4]"
   ]
  },
  {
   "cell_type": "code",
   "execution_count": null,
   "metadata": {},
   "outputs": [],
   "source": [
    "# this will return the month of the most recent datapoint\n",
    "new_month = data_point[4:6]"
   ]
  },
  {
   "cell_type": "code",
   "execution_count": null,
   "metadata": {},
   "outputs": [],
   "source": [
    "# this will return the day of the most recent datapoint\n",
    "new_day = data_point[6:8]"
   ]
  },
  {
   "cell_type": "code",
   "execution_count": null,
   "metadata": {},
   "outputs": [],
   "source": [
    "# create Mesonet DataFrame\n",
    "\n",
    "# year\n",
    "year = new_year\n",
    "\n",
    "# month\n",
    "month = new_month\n",
    "\n",
    "# day\n",
    "day = new_day\n",
    "\n",
    "# file path\n",
    "file = year + month + day + \".nc\"\n",
    "\n",
    "mesonet_df = (\n",
    "    xr.open_dataset(f\"{mesonet_data_path}/{year}/{month}/{file}\")\n",
    "    .to_dataframe()\n",
    "    .reset_index()\n",
    ")"
   ]
  },
  {
   "cell_type": "code",
   "execution_count": null,
   "metadata": {},
   "outputs": [],
   "source": [
    "mesonet_df"
   ]
  },
  {
   "cell_type": "code",
   "execution_count": null,
   "metadata": {},
   "outputs": [],
   "source": [
    "current_time_df = mesonet_df.dropna(subset=[\"tair\"])\n",
    "\n",
    "last_value = current_time_df[\"time_5M\"].iat[-1]\n",
    "hour = last_value.hour\n",
    "minute = last_value.minute\n",
    "second = last_value.second\n",
    "\n",
    "string_hour = str(hour)\n",
    "string_minute = str(minute)\n",
    "string_sec = str(second)\n",
    "\n",
    "# time\n",
    "time = string_hour + \":\" + string_minute + \":\" + string_sec\n",
    "mesonet_df.reset_index(inplace=True)\n",
    "\n",
    "# creating a new dataframe that is centered on the location in the dataframe\n",
    "mesonet_single_datetime_df = mesonet_df.loc[\n",
    "    mesonet_df[\"time_5M\"] == f\"{year}-{month}-{day} {time}\"\n",
    "]\n",
    "mesonet_single_datetime_df"
   ]
  },
  {
   "cell_type": "markdown",
   "metadata": {},
   "source": [
    "## create lists to feed into nlcd finder"
   ]
  },
  {
   "cell_type": "code",
   "execution_count": null,
   "metadata": {},
   "outputs": [],
   "source": [
    "mesonet_single_datetime_df[\"longitude\"] = mesonet_single_datetime_df[\"lon\"].astype(\n",
    "    float\n",
    ")\n",
    "mesonet_single_datetime_df[\"latitude\"] = mesonet_single_datetime_df[\"lat\"].astype(float)"
   ]
  },
  {
   "cell_type": "code",
   "execution_count": null,
   "metadata": {},
   "outputs": [],
   "source": [
    "longitude_list = mesonet_single_datetime_df[\"longitude\"].to_list()\n",
    "latitude_list = mesonet_single_datetime_df[\"latitude\"].to_list()"
   ]
  },
  {
   "cell_type": "code",
   "execution_count": null,
   "metadata": {},
   "outputs": [],
   "source": [
    "mesonet_lon_lat_list = []\n",
    "\n",
    "for x, _ in enumerate(longitude_list):\n",
    "    longitudes = longitude_list[x]\n",
    "    latitudes = latitude_list[x]\n",
    "    tuple_edit = (longitudes, latitudes)\n",
    "    mesonet_lon_lat_list.append(tuple_edit)"
   ]
  },
  {
   "cell_type": "code",
   "execution_count": null,
   "metadata": {},
   "outputs": [],
   "source": [
    "mesonet_lon_lat_list"
   ]
  },
  {
   "cell_type": "code",
   "execution_count": null,
   "metadata": {},
   "outputs": [],
   "source": [
    "lon_lat_df = pd.DataFrame()\n",
    "lon_lat_df[\"lon\"] = longitude_list\n",
    "lon_lat_df[\"lat\"] = latitude_list"
   ]
  },
  {
   "cell_type": "code",
   "execution_count": null,
   "metadata": {},
   "outputs": [],
   "source": [
    "# lon_lat_df.to_csv('nysm_coords.csv')"
   ]
  },
  {
   "cell_type": "code",
   "execution_count": null,
   "metadata": {},
   "outputs": [],
   "source": [
    "lulc = gh.nlcd_bycoords(mesonet_lon_lat_list).set_crs(epsg=4326)\n",
    "lulc"
   ]
  },
  {
   "cell_type": "code",
   "execution_count": null,
   "metadata": {},
   "outputs": [],
   "source": [
    "# # analysis on data\n",
    "lulc[\"cover_2019\"].plot.hist(bins=80, rwidth=0.9, color=\"red\")"
   ]
  },
  {
   "cell_type": "code",
   "execution_count": null,
   "metadata": {},
   "outputs": [],
   "source": [
    "lulc[[\"cover_2019\"]].describe()"
   ]
  },
  {
   "cell_type": "code",
   "execution_count": null,
   "metadata": {},
   "outputs": [],
   "source": [
    "lulc[\"cover_2019\"].mode()"
   ]
  },
  {
   "cell_type": "code",
   "execution_count": null,
   "metadata": {},
   "outputs": [],
   "source": [
    "lulc[\"cover_2019\"].value_counts()"
   ]
  },
  {
   "cell_type": "code",
   "execution_count": null,
   "metadata": {},
   "outputs": [],
   "source": [
    "lulc[\"lon\"] = longitude_list\n",
    "lulc[\"lat\"] = latitude_list"
   ]
  },
  {
   "cell_type": "code",
   "execution_count": null,
   "metadata": {},
   "outputs": [],
   "source": [
    "def scatterPlot(df, ax, lonW, lonE, latS, latN, fig):\n",
    "    sc = df.plot.scatter(x=\"lon\", y=\"lat\", c=\"color\", ax=ax, zorder=5)\n",
    "\n",
    "    ax.legend()\n",
    "    ax.set_extent([lonW, lonE, latS, latN], crs=projPC)\n",
    "    ax.add_feature(cfeature.LAND)\n",
    "    ax.add_feature(cfeature.COASTLINE)\n",
    "    ax.add_feature(cfeature.BORDERS, linestyle=\"--\")\n",
    "    ax.add_feature(cfeature.LAKES, alpha=0.5)\n",
    "    ax.add_feature(cfeature.STATES)\n",
    "    ax.xticklabels_top = False\n",
    "    ax.ylabels_right = False\n",
    "    ax.gridlines(\n",
    "        crs=crs.PlateCarree(),\n",
    "        draw_labels=True,\n",
    "        linewidth=2,\n",
    "        color=\"black\",\n",
    "        alpha=0.5,\n",
    "        linestyle=\"--\",\n",
    "    )\n",
    "\n",
    "    # # to annotate map\n",
    "    # for k, v in df.iterrows():\n",
    "    #     ax.annotate(v.nlcd,xy=(v.lon,v.lat),\n",
    "    #                 xytext=(10,-5), textcoords='offset points',\n",
    "    #                 family='sans-serif', fontsize=10, color='darkslategrey')"
   ]
  },
  {
   "cell_type": "code",
   "execution_count": null,
   "metadata": {},
   "outputs": [],
   "source": [
    "# create colormap\n",
    "colors = [\n",
    "    \"black\",\n",
    "    \"blue\",\n",
    "    \"white\",\n",
    "    \"coral\",\n",
    "    \"pink\",\n",
    "    \"red\",\n",
    "    \"magenta\",\n",
    "    \"gray\",\n",
    "    \"lime\",\n",
    "    \"forestgreen\",\n",
    "    \"green\",\n",
    "    \"olive\",\n",
    "    \"brown\",\n",
    "    \"slategray\",\n",
    "    \"darkorchid\",\n",
    "    \"plum\",\n",
    "    \"indigo\",\n",
    "    \"purple\",\n",
    "    \"yellow\",\n",
    "    \"gold\",\n",
    "    \"orange\",\n",
    "    \"cyan\",\n",
    "]\n",
    "\n",
    "legend = np.array(\n",
    "    [\n",
    "        0,\n",
    "        11,\n",
    "        12,\n",
    "        21,\n",
    "        22,\n",
    "        23,\n",
    "        24,\n",
    "        31,\n",
    "        41,\n",
    "        42,\n",
    "        43,\n",
    "        45,\n",
    "        51,\n",
    "        52,\n",
    "        71,\n",
    "        72,\n",
    "        73,\n",
    "        74,\n",
    "        81,\n",
    "        82,\n",
    "        90,\n",
    "        95,\n",
    "    ]\n",
    ")\n",
    "\n",
    "leg_str = [\n",
    "    \"No Data\",\n",
    "    \"Open Water\",\n",
    "    \"Perennial Ice/Snow\",\n",
    "    \"Developed, Open Space\",\n",
    "    \"Developed, Low Intensity\",\n",
    "    \"Developed, Medium Intensity\",\n",
    "    \"Developed High Intensity\",\n",
    "    \"Barren Land (Rock/Sand/Clay)\",\n",
    "    \"Deciduous Forest\",\n",
    "    \"Evergreen Forest\",\n",
    "    \"Mixed Forest\",\n",
    "    \"Forest/Shrub\",\n",
    "    \"Dwarf Scrub\",\n",
    "    \"Shrub/Scrub\",\n",
    "    \"Grassland/Herbaceous\",\n",
    "    \"Sedge/Herbaceous\",\n",
    "    \"Lichens\",\n",
    "    \"Moss\",\n",
    "    \"Pasture/Hay\",\n",
    "    \"Cultivated Crops\",\n",
    "    \"Woody Wetlands\",\n",
    "    \"Emergent Herbaceous Wetlands\",\n",
    "]"
   ]
  },
  {
   "cell_type": "code",
   "execution_count": null,
   "metadata": {},
   "outputs": [],
   "source": [
    "len(colors)\n",
    "colordict = {}\n",
    "for x in range(22):\n",
    "    colordict.update({legend[x]: colors[x]})"
   ]
  },
  {
   "cell_type": "code",
   "execution_count": null,
   "metadata": {},
   "outputs": [],
   "source": [
    "len(colors)\n",
    "descripdict = {}\n",
    "for x in range(22):\n",
    "    descripdict.update({legend[x]: leg_str[x]})"
   ]
  },
  {
   "cell_type": "code",
   "execution_count": null,
   "metadata": {},
   "outputs": [],
   "source": [
    "lulc[\"color\"] = lulc[\"cover_2019\"].map(colordict)\n",
    "lulc[\"nlcd\"] = lulc[\"cover_2019\"].map(descripdict)\n",
    "lulc"
   ]
  },
  {
   "cell_type": "code",
   "execution_count": null,
   "metadata": {},
   "outputs": [],
   "source": [
    "new_cmap = ListedColormap(colors)"
   ]
  },
  {
   "cell_type": "code",
   "execution_count": null,
   "metadata": {},
   "outputs": [],
   "source": [
    "cmap = ListedColormap(colordict)"
   ]
  },
  {
   "cell_type": "code",
   "execution_count": null,
   "metadata": {},
   "outputs": [],
   "source": [
    "landtype.landtype(lulc)"
   ]
  },
  {
   "cell_type": "code",
   "execution_count": null,
   "metadata": {},
   "outputs": [],
   "source": [
    "lulc[\"nlcd\"].value_counts()"
   ]
  },
  {
   "cell_type": "markdown",
   "metadata": {},
   "source": [
    "# Oklahoma"
   ]
  },
  {
   "cell_type": "code",
   "execution_count": null,
   "metadata": {},
   "outputs": [],
   "source": [
    "# create dataframe for Oklahome\n",
    "# Oklahoma_mesonet_filepath = '/home/aevans/landtype/NY_cartopy/csv_city/geoinfo.csv'\n",
    "oklahoma_mesonet_df = pd.read_csv(Oklahoma_mesonet_filepath)\n",
    "oklahoma_mesonet_df"
   ]
  },
  {
   "cell_type": "code",
   "execution_count": null,
   "metadata": {},
   "outputs": [],
   "source": [
    "len(oklahoma_mesonet_df)"
   ]
  },
  {
   "cell_type": "code",
   "execution_count": null,
   "metadata": {},
   "outputs": [],
   "source": [
    "ok_longitude_list = oklahoma_mesonet_df[\"elon\"].to_list()\n",
    "ok_latitude_list = oklahoma_mesonet_df[\"nlat\"].to_list()"
   ]
  },
  {
   "cell_type": "code",
   "execution_count": null,
   "metadata": {},
   "outputs": [],
   "source": [
    "ok_mesonet_lon_lat_list = []\n",
    "\n",
    "for x, _ in enumerate(oklahoma_mesonet_df[\"stid\"]):\n",
    "    longitudes = ok_longitude_list[x]\n",
    "    latitudes = ok_latitude_list[x]\n",
    "    tuple_edit = (longitudes, latitudes)\n",
    "    ok_mesonet_lon_lat_list.append(tuple_edit)"
   ]
  },
  {
   "cell_type": "code",
   "execution_count": null,
   "metadata": {},
   "outputs": [],
   "source": [
    "ok_mesonet_lon_lat_list"
   ]
  },
  {
   "cell_type": "code",
   "execution_count": null,
   "metadata": {},
   "outputs": [],
   "source": [
    "ok_lon_lat_df = pd.DataFrame()\n",
    "ok_lon_lat_df[\"lon\"] = ok_longitude_list\n",
    "ok_lon_lat_df[\"lat\"] = ok_latitude_list"
   ]
  },
  {
   "cell_type": "code",
   "execution_count": null,
   "metadata": {},
   "outputs": [],
   "source": [
    "# ok_lon_lat_df.to_csv('ok_coords.csv')"
   ]
  },
  {
   "cell_type": "code",
   "execution_count": null,
   "metadata": {},
   "outputs": [],
   "source": [
    "lulc2 = gh.nlcd_bycoords(ok_mesonet_lon_lat_list)\n",
    "lulc2"
   ]
  },
  {
   "cell_type": "code",
   "execution_count": null,
   "metadata": {},
   "outputs": [],
   "source": [
    "# # analysis on data\n",
    "lulc2[\"cover_2019\"].plot.hist(bins=80, rwidth=0.9, color=\"blue\")"
   ]
  },
  {
   "cell_type": "code",
   "execution_count": null,
   "metadata": {},
   "outputs": [],
   "source": [
    "lulc2[[\"cover_2019\"]].describe()"
   ]
  },
  {
   "cell_type": "code",
   "execution_count": null,
   "metadata": {},
   "outputs": [],
   "source": [
    "lulc2[\"cover_2019\"].mode()"
   ]
  },
  {
   "cell_type": "code",
   "execution_count": null,
   "metadata": {},
   "outputs": [],
   "source": [
    "lulc2[\"cover_2019\"].value_counts()"
   ]
  },
  {
   "cell_type": "code",
   "execution_count": null,
   "metadata": {},
   "outputs": [],
   "source": [
    "lulc2[\"lon\"] = ok_longitude_list\n",
    "lulc2[\"lat\"] = ok_latitude_list"
   ]
  },
  {
   "cell_type": "code",
   "execution_count": null,
   "metadata": {},
   "outputs": [],
   "source": [
    "lulc2[\"color\"] = lulc2[\"cover_2019\"].map(colordict)\n",
    "lulc2[\"nlcd\"] = lulc2[\"cover_2019\"].map(descripdict)\n",
    "lulc2"
   ]
  },
  {
   "cell_type": "code",
   "execution_count": null,
   "metadata": {},
   "outputs": [],
   "source": [
    "lulc2[\"lat\"].max()"
   ]
  },
  {
   "cell_type": "code",
   "execution_count": null,
   "metadata": {},
   "outputs": [],
   "source": [
    "projPC = crs.PlateCarree()\n",
    "latN = lulc2[\"lat\"].max()\n",
    "latS = lulc2[\"lat\"].min()\n",
    "lonW = lulc2[\"lon\"].max()\n",
    "lonE = lulc2[\"lon\"].min()\n",
    "cLat = (latN + latS) / 2\n",
    "cLon = (lonW + lonE) / 2\n",
    "projLccOK = crs.LambertConformal(central_longitude=cLon, central_latitude=cLat)\n",
    "\n",
    "fig, ax = plt.subplots(figsize=(12, 9), subplot_kw={\"projection\": crs.PlateCarree()})\n",
    "ax.legend()\n",
    "ax.set_extent([lonW, lonE, latS, latN], crs=projPC)\n",
    "ax.add_feature(cfeature.LAND)\n",
    "ax.add_feature(cfeature.COASTLINE)\n",
    "ax.add_feature(cfeature.BORDERS, linestyle=\"--\")\n",
    "ax.add_feature(cfeature.LAKES, alpha=0.5)\n",
    "ax.add_feature(cfeature.STATES)\n",
    "ax.xticklabels_top = False\n",
    "ax.ylabels_right = False\n",
    "ax.gridlines(\n",
    "    crs=crs.PlateCarree(),\n",
    "    draw_labels=True,\n",
    "    linewidth=2,\n",
    "    color=\"black\",\n",
    "    alpha=0.5,\n",
    "    linestyle=\"--\",\n",
    ")\n",
    "\n",
    "plt.scatter(\n",
    "    lulc2[\"lon\"],\n",
    "    lulc2[\"lat\"],\n",
    "    c=lulc2[\"color\"],\n",
    "    cmap=cmap,\n",
    "    transform=crs.PlateCarree(),\n",
    "    zorder=5,\n",
    ")\n",
    "\n",
    "# legend\n",
    "patch1 = mpatches.Patch(color=colors[0], label=leg_str[0])\n",
    "patch2 = mpatches.Patch(color=colors[1], label=leg_str[1])\n",
    "patch3 = mpatches.Patch(color=colors[2], label=leg_str[2])\n",
    "patch4 = mpatches.Patch(color=colors[3], label=leg_str[3])\n",
    "patch5 = mpatches.Patch(color=colors[4], label=leg_str[4])\n",
    "patch6 = mpatches.Patch(color=colors[5], label=leg_str[5])\n",
    "patch7 = mpatches.Patch(color=colors[6], label=leg_str[6])\n",
    "patch8 = mpatches.Patch(color=colors[7], label=leg_str[7])\n",
    "patch9 = mpatches.Patch(color=colors[8], label=leg_str[8])\n",
    "patch10 = mpatches.Patch(color=colors[9], label=leg_str[9])\n",
    "patch11 = mpatches.Patch(color=colors[10], label=leg_str[10])\n",
    "patch12 = mpatches.Patch(color=colors[11], label=leg_str[11])\n",
    "patch13 = mpatches.Patch(color=colors[12], label=leg_str[12])\n",
    "patch14 = mpatches.Patch(color=colors[13], label=leg_str[13])\n",
    "patch15 = mpatches.Patch(color=colors[14], label=leg_str[14])\n",
    "patch16 = mpatches.Patch(color=colors[15], label=leg_str[15])\n",
    "patch17 = mpatches.Patch(color=colors[16], label=leg_str[16])\n",
    "patch18 = mpatches.Patch(color=colors[17], label=leg_str[17])\n",
    "patch19 = mpatches.Patch(color=colors[18], label=leg_str[18])\n",
    "patch20 = mpatches.Patch(color=colors[19], label=leg_str[19])\n",
    "patch21 = mpatches.Patch(color=colors[20], label=leg_str[20])\n",
    "patch22 = mpatches.Patch(color=colors[21], label=leg_str[21])\n",
    "plt.legend(\n",
    "    bbox_to_anchor=(1.05, 1),\n",
    "    loc=\"upper left\",\n",
    "    borderaxespad=0,\n",
    "    handles=[\n",
    "        patch1,\n",
    "        patch2,\n",
    "        patch3,\n",
    "        patch4,\n",
    "        patch5,\n",
    "        patch6,\n",
    "        patch7,\n",
    "        patch8,\n",
    "        patch9,\n",
    "        patch10,\n",
    "        patch11,\n",
    "        patch12,\n",
    "        patch13,\n",
    "        patch14,\n",
    "        patch15,\n",
    "        patch16,\n",
    "        patch17,\n",
    "        patch18,\n",
    "        patch19,\n",
    "        patch20,\n",
    "        patch21,\n",
    "        patch22,\n",
    "    ],\n",
    ")"
   ]
  },
  {
   "cell_type": "code",
   "execution_count": null,
   "metadata": {},
   "outputs": [],
   "source": [
    "lulc2[\"nlcd\"].value_counts()"
   ]
  },
  {
   "cell_type": "markdown",
   "metadata": {},
   "source": [
    "# Analysis of area within range of landtype"
   ]
  },
  {
   "cell_type": "code",
   "execution_count": null,
   "metadata": {},
   "outputs": [],
   "source": [
    "# Testing Kara's Code\n",
    "# these are the buffered polygons for 28 mesonet sites in meters (epsg=3310)\n",
    "lulc[\"geometry\"].to_crs(epsg=3310).buffer(2000)"
   ]
  },
  {
   "cell_type": "code",
   "execution_count": null,
   "metadata": {},
   "outputs": [],
   "source": [
    "# grab just one site as a sample - you will eventually want to loop over all the sites...\n",
    "sample_geom = lulc[\"geometry\"].to_crs(epsg=3310).buffer(20000).iloc[0]"
   ]
  },
  {
   "cell_type": "code",
   "execution_count": null,
   "metadata": {},
   "outputs": [],
   "source": [
    "sample_geom"
   ]
  },
  {
   "cell_type": "code",
   "execution_count": null,
   "metadata": {},
   "outputs": [],
   "source": [
    "# individual POLYGONs in geometry column are shapely objects, so you can use .bounds method on this object to get a tuple of (minx, miny, maxx, maxy).\n",
    "min_x = sample_geom.bounds[0]\n",
    "min_y = sample_geom.bounds[1]\n",
    "max_x = sample_geom.bounds[2]\n",
    "max_y = sample_geom.bounds[3]"
   ]
  },
  {
   "cell_type": "code",
   "execution_count": null,
   "metadata": {},
   "outputs": [],
   "source": [
    "# get all points linearly spaced within min/max values at resolution of 30 m\n",
    "x_array = np.linspace(min_x, max_x, 30)\n",
    "y_array = np.linspace(min_y, max_y, 30)"
   ]
  },
  {
   "cell_type": "code",
   "execution_count": null,
   "metadata": {},
   "outputs": [],
   "source": [
    "# now take the two X and Y arrays and create a meshgrid, so you get all of the inner points of the grid\n",
    "X, Y = np.meshgrid(x_array, y_array)"
   ]
  },
  {
   "cell_type": "code",
   "execution_count": null,
   "metadata": {},
   "outputs": [],
   "source": [
    "##create dataframe from all X and Y values\n",
    "all_points = pd.DataFrame({\"lat\": X.flatten(), \"lon\": Y.flatten()})"
   ]
  },
  {
   "cell_type": "code",
   "execution_count": null,
   "metadata": {},
   "outputs": [],
   "source": [
    "all_points"
   ]
  },
  {
   "cell_type": "code",
   "execution_count": null,
   "metadata": {},
   "outputs": [],
   "source": [
    "##convert the dataframe to a geopandas dataframe & make sure to assign crs as \"meters\" then convert to lat/lon\n",
    "all_points_gdf = gpd.GeoDataFrame(\n",
    "    all_points,\n",
    "    geometry=gpd.points_from_xy(all_points.lat, all_points.lon),\n",
    "    crs=3310,  # meters\n",
    ")"
   ]
  },
  {
   "cell_type": "code",
   "execution_count": null,
   "metadata": {},
   "outputs": [],
   "source": [
    "all_points_gdf.to_crs(epsg=4326, inplace=True)  # change from meters to lat/lon"
   ]
  },
  {
   "cell_type": "code",
   "execution_count": null,
   "metadata": {},
   "outputs": [],
   "source": [
    "##these are all the points within the 30-km grid that surrounds the mesonet site\n",
    "all_points_gdf"
   ]
  },
  {
   "cell_type": "code",
   "execution_count": null,
   "metadata": {},
   "outputs": [],
   "source": [
    "##but, we want within 30km of the site, so we want a circle with radius, not a square...\n",
    "# so lets take our original buffer and exclude any points that exist outside that buffer\n",
    "sample_geom_ll = (\n",
    "    lulc[\"geometry\"].to_crs(epsg=3310).buffer(2000).to_crs(epsg=4326).iloc[0]\n",
    ")  # original buffer but in lat/lon"
   ]
  },
  {
   "cell_type": "code",
   "execution_count": null,
   "metadata": {},
   "outputs": [],
   "source": [
    "sample_geom_ll"
   ]
  },
  {
   "cell_type": "code",
   "execution_count": null,
   "metadata": {},
   "outputs": [],
   "source": [
    "# now, grab only the points that are within the buffer (sample_geom_ll)\n",
    "all_points_in_buffer_gdf = all_points_gdf.loc[\n",
    "    all_points_gdf[\"geometry\"].within(sample_geom_ll) == True\n",
    "].reset_index(drop=True)"
   ]
  },
  {
   "cell_type": "code",
   "execution_count": null,
   "metadata": {},
   "outputs": [],
   "source": [
    "##these are your points!\n",
    "all_points_in_buffer_gdf"
   ]
  },
  {
   "cell_type": "code",
   "execution_count": null,
   "metadata": {},
   "outputs": [],
   "source": [
    "get_coords = all_points_in_buffer_gdf[\"geometry\"]"
   ]
  },
  {
   "cell_type": "code",
   "execution_count": null,
   "metadata": {},
   "outputs": [],
   "source": [
    "get_coords.plot()"
   ]
  },
  {
   "cell_type": "code",
   "execution_count": null,
   "metadata": {},
   "outputs": [],
   "source": [
    "nlcd_analysis_list_1 = []\n",
    "lulc_geo_1 = gpd.GeoSeries(lulc[\"geometry\"])\n",
    "analysis_df_2 = pd.DataFrame()\n",
    "lon_lat_list_2 = []"
   ]
  },
  {
   "cell_type": "code",
   "execution_count": null,
   "metadata": {},
   "outputs": [],
   "source": [
    "my_length = len(get_coords) - 1"
   ]
  },
  {
   "cell_type": "code",
   "execution_count": null,
   "metadata": {},
   "outputs": [],
   "source": [
    "xx, yy = get_coords[my_length].coords.xy\n",
    "analysis_df_2[\"lon\"] = xx\n",
    "analysis_df_2[\"lat\"] = yy\n",
    "longitude_list_analysis_1 = analysis_df_2[\"lon\"].to_list()\n",
    "latitude_list_analysis_1 = analysis_df_2[\"lat\"].to_list()"
   ]
  },
  {
   "cell_type": "code",
   "execution_count": null,
   "metadata": {},
   "outputs": [],
   "source": [
    "new_longitudes = longitude_list_analysis_1[0]\n",
    "new_latitudes = latitude_list_analysis_1[0]\n",
    "tuple_edit = (new_longitudes, new_latitudes)\n",
    "lon_lat_list_2.append(tuple_edit)"
   ]
  },
  {
   "cell_type": "code",
   "execution_count": null,
   "metadata": {},
   "outputs": [],
   "source": [
    "my_nlcd_list = []\n",
    "lulc_geo_1 = gpd.GeoSeries(lulc[\"geometry\"])\n",
    "anal_df = pd.DataFrame()\n",
    "lon_lat_list_3 = []\n",
    "lon_list = []\n",
    "lat_list = []\n",
    "\n",
    "for i in range(my_length):\n",
    "    xx, yy = get_coords[i].coords.xy\n",
    "    anal_df[\"lon\"] = xx\n",
    "    anal_df[\"lat\"] = yy\n",
    "    longitude_list_analysis_2 = anal_df[\"lon\"].to_list()\n",
    "    latitude_list_analysis_2 = anal_df[\"lat\"].to_list()\n",
    "    my_lon = longitude_list_analysis_2[0]\n",
    "    my_lat = latitude_list_analysis_2[0]\n",
    "    tuple_edit = (my_lon, my_lat)\n",
    "    lon_lat_list_3.append(tuple_edit)\n",
    "    lon_list.append(my_lon)\n",
    "    lat_list.append(my_lat)\n",
    "\n",
    "# print(len(latitude_list_analysis_2))\n",
    "# longitudes_1 = longitude_list_analysis_2[i]\n",
    "# latitudes_1 = latitude_list_analysis_2[i]\n",
    "# tuple_edit = (longitudes_1, latitudes_1)\n",
    "# lon_lat_list_3.append(tuple_edit)"
   ]
  },
  {
   "cell_type": "code",
   "execution_count": null,
   "metadata": {},
   "outputs": [],
   "source": [
    "lon_lat_list_4 = []\n",
    "\n",
    "for i in range(my_length):\n",
    "    xx, yy = get_coords[i].coords.xy\n",
    "    my_lon = xx[0]\n",
    "    my_lat = yy[0]\n",
    "    tuple_edit = (my_lon, my_lat)\n",
    "    lon_lat_list_4.append(tuple_edit)"
   ]
  },
  {
   "cell_type": "code",
   "execution_count": null,
   "metadata": {},
   "outputs": [],
   "source": [
    "lon_lat_list_4"
   ]
  },
  {
   "cell_type": "code",
   "execution_count": null,
   "metadata": {},
   "outputs": [],
   "source": [
    "anal_df1 = pd.DataFrame()\n",
    "anal_df1[\"lons\"] = lon_list\n",
    "anal_df1[\"lats\"] = lat_list\n",
    "anal_df1"
   ]
  },
  {
   "cell_type": "code",
   "execution_count": null,
   "metadata": {},
   "outputs": [],
   "source": [
    "def scatterPlot(df, ax, lonW, lonE, latS, latN, fig):\n",
    "    sc = df.plot.scatter(x=\"lons\", y=\"lats\", c=\"r\", ax=ax, zorder=5)\n",
    "\n",
    "    ax.legend()\n",
    "    ax.set_extent([lonW, lonE, latS, latN], crs=projPC)\n",
    "    ax.add_feature(cfeature.LAND)\n",
    "    ax.add_feature(cfeature.COASTLINE)\n",
    "    ax.add_feature(cfeature.BORDERS, linestyle=\"--\")\n",
    "    ax.add_feature(cfeature.LAKES, alpha=0.5)\n",
    "    ax.add_feature(cfeature.STATES)\n",
    "    ax.xticklabels_top = False\n",
    "    ax.ylabels_right = False\n",
    "    ax.gridlines(\n",
    "        crs=crs.PlateCarree(),\n",
    "        draw_labels=True,\n",
    "        linewidth=2,\n",
    "        color=\"black\",\n",
    "        alpha=0.5,\n",
    "        linestyle=\"--\",\n",
    "    )"
   ]
  },
  {
   "cell_type": "code",
   "execution_count": null,
   "metadata": {},
   "outputs": [],
   "source": [
    "projPC = crs.PlateCarree()\n",
    "latN = anal_df1[\"lats\"].max()\n",
    "latS = anal_df1[\"lats\"].min()\n",
    "lonW = anal_df1[\"lons\"].max()\n",
    "lonE = anal_df1[\"lons\"].min()\n",
    "cLat = (latN + latS) / 2\n",
    "cLon = (lonW + lonE) / 2\n",
    "projLccNY = crs.LambertConformal(central_longitude=cLon, central_latitude=cLat)\n",
    "\n",
    "fig, ax = plt.subplots(figsize=(12, 9), subplot_kw={\"projection\": crs.PlateCarree()})\n",
    "\n",
    "scatterPlot(anal_df1, ax, lonW, lonE, latS, latN, fig)"
   ]
  },
  {
   "cell_type": "code",
   "execution_count": null,
   "metadata": {},
   "outputs": [],
   "source": [
    "lon_lat_list_3.sort()"
   ]
  },
  {
   "cell_type": "code",
   "execution_count": null,
   "metadata": {},
   "outputs": [],
   "source": [
    "lulc_analysis_12 = gh.nlcd_bycoords(lon_lat_list_3)"
   ]
  },
  {
   "cell_type": "code",
   "execution_count": null,
   "metadata": {},
   "outputs": [],
   "source": [
    "lulc_analysis_12[\"cover_2019\"].value_counts()"
   ]
  },
  {
   "cell_type": "code",
   "execution_count": null,
   "metadata": {},
   "outputs": [],
   "source": [
    "# # analysis on data\n",
    "lulc_analysis_12[\"cover_2019\"].plot.hist(bins=80, rwidth=0.9, color=\"blue\")"
   ]
  },
  {
   "cell_type": "code",
   "execution_count": null,
   "metadata": {},
   "outputs": [],
   "source": [
    "lulc_analysis_12[[\"cover_2019\"]].describe()"
   ]
  },
  {
   "cell_type": "code",
   "execution_count": null,
   "metadata": {},
   "outputs": [],
   "source": [
    "lulc_analysis_12[\"cover_2019\"].mode()"
   ]
  },
  {
   "cell_type": "code",
   "execution_count": null,
   "metadata": {},
   "outputs": [],
   "source": [
    "mesonet_single_datetime_df[\"elev\"].iloc[0]"
   ]
  },
  {
   "cell_type": "code",
   "execution_count": null,
   "metadata": {},
   "outputs": [],
   "source": [
    "elevations = pp.elevation_bycoords(mesonet_lon_lat_list)\n",
    "elevations"
   ]
  },
  {
   "cell_type": "code",
   "execution_count": null,
   "metadata": {},
   "outputs": [],
   "source": [
    "# A large variance indicates that the data is spread out, - a small variance indicates that the data is clustered closely around the mean.\n",
    "statistics.pvariance(elevations)"
   ]
  },
  {
   "cell_type": "code",
   "execution_count": null,
   "metadata": {},
   "outputs": [],
   "source": [
    "statistics.pstdev(elevations)"
   ]
  },
  {
   "cell_type": "code",
   "execution_count": null,
   "metadata": {},
   "outputs": [],
   "source": [
    "statistics.mode(elevations)"
   ]
  },
  {
   "cell_type": "code",
   "execution_count": null,
   "metadata": {},
   "outputs": [],
   "source": [
    "statistics.mean(elevations)"
   ]
  },
  {
   "cell_type": "code",
   "execution_count": null,
   "metadata": {},
   "outputs": [],
   "source": [
    "# For normally distributed data, the skewness should be about zero. For unimodal continuous distributions, a skewness value greater than zero means that there is more weight in the right tail of the distribution.\n",
    "\n",
    "skew(elevations)"
   ]
  },
  {
   "cell_type": "code",
   "execution_count": null,
   "metadata": {},
   "outputs": [],
   "source": [
    "max(elevations)"
   ]
  },
  {
   "cell_type": "code",
   "execution_count": null,
   "metadata": {},
   "outputs": [],
   "source": [
    "min(elevations)"
   ]
  }
 ],
 "metadata": {
  "kernelspec": {
   "display_name": "Python 3 (ipykernel)",
   "language": "python",
   "name": "python3"
  },
  "language_info": {
   "codemirror_mode": {
    "name": "ipython",
    "version": 3
   },
   "file_extension": ".py",
   "mimetype": "text/x-python",
   "name": "python",
   "nbconvert_exporter": "python",
   "pygments_lexer": "ipython3",
   "version": "3.9.13"
  },
  "vscode": {
   "interpreter": {
    "hash": "f9f85f796d01129d0dd105a088854619f454435301f6ffec2fea96ecbd9be4ac"
   }
  }
 },
 "nbformat": 4,
 "nbformat_minor": 2
}
