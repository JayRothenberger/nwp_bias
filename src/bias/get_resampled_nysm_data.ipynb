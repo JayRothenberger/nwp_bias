{
 "cells": [
  {
   "cell_type": "markdown",
   "id": "ed97d8f4-8a87-48d5-8112-6da6b17452ad",
   "metadata": {},
   "source": [
    "#### This notebook will take all NYSM data for a specified year & resample to model output times (e.g., 1H & 3H)\n"
   ]
  },
  {
   "cell_type": "code",
   "execution_count": 1,
   "id": "5b5572ef-4bd8-488e-bd03-61f399811796",
   "metadata": {},
   "outputs": [
    {
     "name": "stderr",
     "output_type": "stream",
     "text": [
      "<frozen importlib._bootstrap>:228: RuntimeWarning: scipy._lib.messagestream.MessageStream size changed, may indicate binary incompatibility. Expected 56 from C header, got 64 from PyObject\n"
     ]
    }
   ],
   "source": [
    "%matplotlib inline\n",
    "import pandas as pd\n",
    "import xarray as xr\n",
    "import glob\n",
    "import numpy as np\n",
    "import metpy.calc as mpcalc\n",
    "from metpy.units import units"
   ]
  },
  {
   "cell_type": "code",
   "execution_count": 2,
   "id": "0080db88-1b1b-402f-86ef-66e51dd97756",
   "metadata": {},
   "outputs": [],
   "source": [
    "def get_raw_nysm_data(year):\n",
    "    # first, find the available months in the year directory\n",
    "    nysm_path = f\"/home/aevans/nysm/archive/nysm/netcdf/proc/{year}/\"\n",
    "    file_dirs = glob.glob(f\"{nysm_path}/*\")\n",
    "    file_dirs.sort()\n",
    "    avail_months = [int(x.split(\"/\")[-1]) for x in file_dirs]\n",
    "\n",
    "    df_nysm_list = []\n",
    "    for x in range(avail_months[0], avail_months[-1] + 1):\n",
    "        print(\"month index: \", x)\n",
    "        ds_nysm_month = xr.open_mfdataset(f\"{nysm_path}{str(x).zfill(2)}/*.nc\")\n",
    "        df_nysm_list.append(ds_nysm_month.to_dataframe())\n",
    "\n",
    "    df_nysm = pd.concat(df_nysm_list)\n",
    "\n",
    "    temp = units.Quantity(df_nysm[\"tair\"].values, \"degC\")\n",
    "    relh = df_nysm[\"relh\"].values / 100.0\n",
    "    df_nysm[\"td\"] = mpcalc.dewpoint_from_relative_humidity(temp, relh).magnitude\n",
    "\n",
    "    altimeter_value = units.Quantity(df_nysm[\"pres\"].values, \"hPa\")\n",
    "    height = units.Quantity(\n",
    "        df_nysm[\"elev\"].values + 1.5, \"m\"\n",
    "    )  # + 1.5 to adjust for barometer height\n",
    "    df_nysm[\"mslp\"] = mpcalc.altimeter_to_sea_level_pressure(\n",
    "        altimeter_value, height, temp\n",
    "    )\n",
    "\n",
    "    nysm_sites = df_nysm.reset_index()[\"station\"].unique()\n",
    "\n",
    "    return df_nysm, nysm_sites\n",
    "\n",
    "\n",
    "def get_resampled_data(df, interval, method):\n",
    "    \"\"\"\n",
    "    df: main dataframe [pandas dataframe]\n",
    "    interval: the frequency at which the data should be resampled\n",
    "    method: min, max, mean, etc. [str]\n",
    "    \"\"\"\n",
    "    return (\n",
    "        df.reset_index()\n",
    "        .set_index(\"time_5M\")\n",
    "        .groupby(\"station\")\n",
    "        .resample(interval, label=\"right\")\n",
    "        .apply(method)\n",
    "        .rename_axis(index={\"time_5M\": f\"time_{interval}\"})\n",
    "    )\n",
    "\n",
    "\n",
    "def get_valid_time_data(df, hours_list, interval):\n",
    "    df = df.reset_index()\n",
    "    # extract hourly observations at top of the hour in provided list\n",
    "    df_return = df[\n",
    "        (df[\"time_5M\"].dt.hour.isin(hours_list)) & (df[\"time_5M\"].dt.minute == 0)\n",
    "    ]\n",
    "    return df_return.set_index([\"station\", \"time_5M\"]).rename_axis(\n",
    "        index={\"time_5M\": f\"time_{interval}\"}\n",
    "    )\n",
    "\n",
    "\n",
    "def get_resampled_precip_data(df, interval, method):\n",
    "    \"\"\"\n",
    "    df: main dataframe [pandas dataframe]\n",
    "    interval: the frequency at which the data should be resampled\n",
    "    method: min, max, mean, etc. [str]\n",
    "    \"\"\"\n",
    "    precip_diff = df.groupby(\"station\").diff().reset_index().set_index(\"time_5M\")\n",
    "    # remove unrealistic precipitation values (e.g., > 500 mm / 5 min)\n",
    "    precip_diff.loc[precip_diff[\"precip_total\"] > 500.0, \"precip_total\"] = np.nan\n",
    "    return (\n",
    "        precip_diff.groupby(\"station\")\n",
    "        .resample(interval, label=\"right\")\n",
    "        .apply(method)\n",
    "        .rename_axis(index={\"time_5M\": f\"time_{interval}\"})\n",
    "    )\n",
    "\n",
    "\n",
    "def get_nysm_dataframe_for_resampled(df_nysm, freq):\n",
    "    nysm_vars = [\n",
    "        \"lat\",\n",
    "        \"lon\",\n",
    "        \"elev\",\n",
    "        \"tair\",\n",
    "        \"ta9m\",\n",
    "        \"td\",\n",
    "        \"relh\",\n",
    "        \"srad\",\n",
    "        \"pres\",\n",
    "        \"mslp\",\n",
    "        \"wspd_sonic\",\n",
    "        \"wmax_sonic\",\n",
    "        \"wdir_sonic\",\n",
    "        \"precip_total\",\n",
    "        \"snow_depth\",\n",
    "    ]\n",
    "    if freq == \"1H\":\n",
    "        hours_list = np.arange(0, 24)  # every hour\n",
    "    elif freq == \"3H\":\n",
    "        hours_list = np.arange(0, 24, 3)  # every 3 hours\n",
    "    dfs = []\n",
    "\n",
    "    for var in nysm_vars:\n",
    "        if var in [\"precip_total\"]:\n",
    "            print(var)\n",
    "            dfs += [get_resampled_precip_data(df_nysm[var], freq, \"sum\")]\n",
    "        else:\n",
    "            dfs += [get_valid_time_data(df_nysm[var], hours_list, freq)]\n",
    "\n",
    "    nysm_obs = pd.concat(dfs, axis=1)\n",
    "    nysm_obs[\"precip_total\"] = nysm_obs[\"precip_total\"].apply(\n",
    "        lambda x: np.where(x < 0.0, np.nan, x)\n",
    "    )\n",
    "    return nysm_obs"
   ]
  },
  {
   "cell_type": "code",
   "execution_count": 3,
   "id": "5151d31b-3b77-46f2-966b-84d1b0c58ac2",
   "metadata": {},
   "outputs": [],
   "source": [
    "def main(year):\n",
    "    # inputs\n",
    "    save_path = \"/home/aevans/nwp_bias/data/nysm/\"\n",
    "\n",
    "    # get the raw nysm data\n",
    "    print(\"--- get_raw_nysm_data ---\")\n",
    "    df_nysm, nysm_sites = get_raw_nysm_data(year)\n",
    "\n",
    "    # resample the data to 1H and 3H frequencies\n",
    "    print(\"--- get_nysm_dataframe_for_resampled ---\")\n",
    "    nysm_1H_obs = get_nysm_dataframe_for_resampled(df_nysm, \"1H\")\n",
    "    nysm_3H_obs = get_nysm_dataframe_for_resampled(df_nysm, \"3H\")\n",
    "\n",
    "    nysm_1H_obs.to_parquet(f\"{save_path}nysm_1H_obs_{year}.parquet\")\n",
    "    nysm_3H_obs.to_parquet(f\"{save_path}nysm_3H_obs_{year}.parquet\")"
   ]
  },
  {
   "cell_type": "code",
   "execution_count": 4,
   "id": "417d67e5-72a4-4259-9d28-1ae2f7b8ee6e",
   "metadata": {},
   "outputs": [
    {
     "name": "stdout",
     "output_type": "stream",
     "text": [
      "['2018', '2019', '2020', '2021']\n"
     ]
    }
   ],
   "source": [
    "years = [str(x) for x in np.arange(2018, 2022)]\n",
    "print(years)"
   ]
  },
  {
   "cell_type": "code",
   "execution_count": 5,
   "id": "7d935762-81bc-46ca-bad2-b9631c301963",
   "metadata": {
    "tags": []
   },
   "outputs": [
    {
     "name": "stdout",
     "output_type": "stream",
     "text": [
      "2022\n",
      "--- get_raw_nysm_data ---\n",
      "month index:  1\n",
      "month index:  2\n",
      "month index:  3\n",
      "month index:  4\n",
      "month index:  5\n",
      "month index:  6\n",
      "month index:  7\n",
      "month index:  8\n",
      "month index:  9\n",
      "month index:  10\n",
      "month index:  11\n",
      "month index:  12\n",
      "--- get_nysm_dataframe_for_resampled ---\n",
      "precip_total\n"
     ]
    },
    {
     "name": "stderr",
     "output_type": "stream",
     "text": [
      "/tmp/tmp.eIBsDz2ZQz/ipykernel_4066882/729861955.py:51: FutureWarning: The default value of numeric_only in DataFrameGroupBy.sum is deprecated. In a future version, numeric_only will default to False. Either specify numeric_only or select only columns which should be valid for the function.\n",
      "  return precip_diff.groupby('station').resample(interval, label='right').apply(method).rename_axis(index={'time_5M':f'time_{interval}'})\n"
     ]
    },
    {
     "name": "stdout",
     "output_type": "stream",
     "text": [
      "precip_total\n"
     ]
    },
    {
     "name": "stderr",
     "output_type": "stream",
     "text": [
      "/tmp/tmp.eIBsDz2ZQz/ipykernel_4066882/729861955.py:51: FutureWarning: The default value of numeric_only in DataFrameGroupBy.sum is deprecated. In a future version, numeric_only will default to False. Either specify numeric_only or select only columns which should be valid for the function.\n",
      "  return precip_diff.groupby('station').resample(interval, label='right').apply(method).rename_axis(index={'time_5M':f'time_{interval}'})\n"
     ]
    }
   ],
   "source": [
    "year = 2022\n",
    "print(year)\n",
    "main(year)"
   ]
  }
 ],
 "metadata": {
  "kernelspec": {
   "display_name": "Python 3.11.0 ('metpy-ams-2023': conda)",
   "language": "python",
   "name": "python3"
  },
  "language_info": {
   "codemirror_mode": {
    "name": "ipython",
    "version": 3
   },
   "file_extension": ".py",
   "mimetype": "text/x-python",
   "name": "python",
   "nbconvert_exporter": "python",
   "pygments_lexer": "ipython3",
   "version": "3.11.0"
  },
  "vscode": {
   "interpreter": {
    "hash": "e61dc22b1d7735d9ed6eeec2ec3738742023a22462180b494137f4b5863456cf"
   }
  }
 },
 "nbformat": 4,
 "nbformat_minor": 5
}
